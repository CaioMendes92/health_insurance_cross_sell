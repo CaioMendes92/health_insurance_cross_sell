{
 "cells": [
  {
   "cell_type": "markdown",
   "id": "ef7b8b40",
   "metadata": {
    "heading_collapsed": true
   },
   "source": [
    "# Health Insurance Cross-Sell"
   ]
  },
  {
   "cell_type": "markdown",
   "id": "6126cf74",
   "metadata": {
    "hidden": true
   },
   "source": [
    "Neste trabalho, estamos lidando com uma empresa que fornece seguros de saúde para os seus assegurados. Todos pagam um valor anual para ter direito ao seguro. O time de produto está querendo lançar um novo produto, que é um seguro de carro, entretanto, antes de lançar, eles querem saber se isto é viável e o quanto isto daria de dinheiro e para quem deveriam oferecer. Para solucionar isso, a equipe fez uma pesquisa entre seus assegurados perguntando se estas pessoas comprariam um seguro de automóvel ou não. Unindo as características que já se tem do cliente com a resposta de \"sim\" ou \"não\", é necessário tentar prever qual seria a resposta de pessoas que não participaram da pesquisa. O papel do cientista de dados é, a partir da base de dados que foi respondida, treinar um classificador para então saber se as pessoas novas comprariam um seguro de automóvel ou não.\n",
    "\n",
    "Existe uma limitação no problema, para fazer esta campanha, existe um limite de pessoas, foi definido pelo time de produtos que seria feito por contato direto, ou seja, ligação telefónica. Basicamente, o time de produtos vai passar uma lista para o time de comercial, que vai ligar para as pessoas e vai oferecer o seguro de automóvel. Entretanto, o time comercial tem um limite de apenas 2 mil ligações, então, entre as 127 mil pessoas que podem receber, precisamos construir uma lista priorizando as 2 mil pessoas com mais chances de conseguir que comprem o seguro. "
   ]
  },
  {
   "cell_type": "markdown",
   "id": "f2efdd42",
   "metadata": {
    "hidden": true
   },
   "source": [
    "## 1. O que é Banco de Dados"
   ]
  },
  {
   "cell_type": "markdown",
   "id": "f2843a61",
   "metadata": {
    "hidden": true
   },
   "source": [
    "A definição de banco de dados basicamente é um software que fica armazenado dentro de um server, uma analogia que pode ser utilizada é em relação ao sistema operacional de um computador, do mesmo jeito que um computador hospeda um sistema operacional, o computador do banco de dados hospeda o banco SQL, seja ele o postgre, o mysql, o oracle, o sql server ou qualquer outro. O Mysql e o Postgre é open source. \n",
    "\n",
    "Um computador, como se sabe, tem memória, processador e HD, por isso, é importante se atentar as configurações do servidor onde o banco estará hospedado, para evitar problemas. A equipe de engenharia de dados fica responsável por otimizar os bancos para consumir menos espaço e menos memória.\n",
    "\n",
    "Um banco de dados se divide em várias tabelas, um exemplo é tabelas de \"usuários\", onde os dados cadastrais (por exemplo), de um usuário seriam armazenados. Outra tabela pode ser a de \"produtos\", por exemplo, neste caso aqui um seguro de saúde. Uma outra tabela pode ser a \"compra\", que também é conhecida como tabela transacional, é uma tabela maior, onde cada compra que acontece adiciona uma linha a esta tabela. Além disso, uma tabela transacional ela tem agregassões com outras tabelas, dentro dela, tem-se qual o usuário que comprou e qual produto ele comprou. Outra tabela é a de \"review\" sobre o produto, é uma tabela com todos os reviews dos usuários.\n",
    "\n",
    "A união das tabelas que fazem sentido para o negócio é agrupado em algo chamado \"schema\", ou seja, o schema é um agrupamento de tabelas que fazem sentido para o negócio é um certo aspecto. Seguindo as mesmas tabelas anteriores, poderia ser um e-commerce de compras e estariamos lidando com um schema de produtos/compras. Outras tabelas possíveis, mesmo que fora deste schema específico, pode ser tabelas que guardam informações das redes sociais, seria um schema de midias sociais por exemplo. \n",
    "\n",
    "A união de vários schemas é chamado de \"database\". Um database, ele é feito fisicamente separado no HD, isso é importante para caso haja uma invasão no sistema não consiga coletar todos seus dados."
   ]
  },
  {
   "cell_type": "markdown",
   "id": "a0c0de54",
   "metadata": {
    "hidden": true
   },
   "source": [
    "## 2. Tipos de Bancos de dados"
   ]
  },
  {
   "cell_type": "markdown",
   "id": "16a4fc5a",
   "metadata": {
    "hidden": true
   },
   "source": [
    "Os bancos de dados se dividem basicamente em dois tipos: SQL Base e NoSQL Base. O SQL Base é um tipo de banco relacional, ou seja, ele tem relações entre as tabelas e essas relações são dadas por chaves (chaves primárias e chaves estrangeiras). Neste tipo de banco é pouco provável encontrar tabelas que não se relacionem umas com as outras. Além disso, esse tipo de banco tem uma escala vertical, ou seja, é muito mais performático popular uma tabela do que criar novas tabelas. Um banco SQL performa muito melhor para escrita e leitura, e é disso que nasce o conceito de dataware house. Em uma análise de dados é necessário não só ler e escrever, precisa-se de agrupamentos, contagens, operações, entre outros. Este tipo de operação é pesado para um banco SQL, é necessário extrair as informações do banco SQL e montá-lo de uma forma analítica, para isso, foi desenvolvido as dataware house (DW), as teorias de fato-dimensão, snowflakes, etc. Basicamente, é feito uma organização de forma que a análise seja feita de uma forma mais fácil.\n",
    "\n",
    "O NoSQL é um banco do tipo não relacional, ou seja, as collections (semelhante as tabelas), não precisam necessariamente ter relações entre si. Uma vantagem deste tipo de banco é a escala horizontal, neste caso, é mais performático utilizar várias collections do que popular uma já existente. Este tipo de banco é baseado em documentos, chave-valor e em grafos. Ou seja, existem bancos NoSQL que gravam documentos (arquivos), chave-valor (collections) e grafos (relações de entidade entre si). Todas as redes sociais são bancos do tipo grafos, tem um conjunto de conexões diferentes. Eles não são estruturado, isto é, ele é mais voltado para estrutura de dicionário do que de tabela.\n",
    "\n",
    "Exemplos de bancos SQL: Oracle, MySQL, SQL Server, PostgreSQL, IBM DB2, Microsoft Access, SQLite, MariaDB (default do Linux)\n",
    "\n",
    "Exemplos de bancos NoSQL: MongoDB, Cassandra, Redis, HBase, Neo4j (gravos), RavenDB, Oracle NoSQL, Amazon Dynamo DB"
   ]
  },
  {
   "cell_type": "markdown",
   "id": "5d2c78d5",
   "metadata": {
    "hidden": true
   },
   "source": [
    "## 3. O que é SQL"
   ]
  },
  {
   "cell_type": "markdown",
   "id": "3fc94c64",
   "metadata": {
    "hidden": true
   },
   "source": [
    "Fazer uma \"query\" em um SQL é basicamente pedir três coisas:\n",
    "1. Selecionar as colunas (SELECT)\n",
    "2. Dessas tabelas (FROM)\n",
    "3. Com as seguintes condições (WHERE)\n",
    "\n",
    "Então, basicamente: selecione as colunas A,B,C da tabela X com as seguintes condições: (por exemplo) X > 10. Estas condições são aplicadas nas linhas. Por boas práticas, começasse pelo FROM, uma vez que é a origem dos dados. Por exemplo: \n",
    "\n",
    "FROM \n",
    "    \n",
    "    table_purchases tp (tp é o apelidio para ser mais fácil de chamar a tabela. Como boa prática usa-se as iniciais)\n",
    "    table_users     tu (mesma ideia da tp, estamos chamando duas tabelas diferentes aqui, de purchases e usuarios). \n",
    "\n",
    "Precisa-se então juntar estas tabelas, para isso, usa-se JOIN. Que pode receber LEFT, RIGHT, INNER, entre outras opções. Então ficaria:\n",
    "\n",
    "FROM \n",
    "    \n",
    "    table_purchase tp\n",
    "    LEFT table_users tu\n",
    "     \n",
    "O LEFT, basicamente seleciona a tabela referencia (tp) e compara com a tabela que será agregada (tu), encontra-se as colunas idênticas para fazer referência e adiciona na tabela a esquerda, neste caso, tp. Caso não haja relação, por exemplo, um ID que identifique o que faz relação com o que, ele retorna a linha com valores nulos. Para identificar quais as colunas serão unidas, usa-se um ON.\n",
    "\n",
    "FROM \n",
    "    \n",
    "    table_purchase tp\n",
    "    LEFT table_users tu on (tp.id = tu.id)\n",
    "     \n",
    "\"id\" é o nome da coluna, enquanto tp e tu o nome da tabela. É esperado que a tabela tp e a tabela tu tenham este campo id para fazer a relação. \n",
    "\n",
    "Como é possível ver, é fácil errar a organização das tabelas, por isso, é importante fazer um double check a cada união feita pra ter certeza que foi feito corretamente.  \n",
    "\n",
    "É possível adicionar mais de uma tabela:\n",
    "\n",
    "FROM \n",
    "    \n",
    "    table_purchase tp \n",
    "    LEFT table_users tu on (tp.id = tu.id)\n",
    "    LEFT table_address ta on (tp.id = ta.id)\n",
    "     \n",
    "Como boas práticas, sempre faz a união com a tabela referência e com a tabela do JOIN. Isso pode mudar dependendo da forma como os dados estão organizados. Definido as tabelas que serão usadas, define-se as colunas:\n",
    "\n",
    "SELECT \n",
    "    \n",
    "    user,\n",
    "    age,\n",
    "    address,\n",
    "    purchase\n",
    "    \n",
    "é necessário indicar de qual tabela vem as colunas a partir do apelídio de cada uma.\n",
    "\n",
    "SELECT\n",
    "\n",
    "    tu.user,\n",
    "    tu.age,\n",
    "    ta.address,\n",
    "    tp.purchase\n",
    "\n",
    "Com isso, define-se então as condições, por exemplo, em relação as datas\n",
    "\n",
    "WHERE\n",
    "\n",
    "    tp.purchase_date > '2021-01-01'\n",
    "    AND tu.age > 30\n",
    "    \n",
    "ou seja, será selecionado as linhas onde purchase_date maior que 1 de janeiro de 2021 e que a idade seja maior que 30. Além de AND, pode ser usado OR.\n",
    "\n",
    "Assim, o retorno deve ser uma tabela com todas as condições pedidas."
   ]
  },
  {
   "cell_type": "markdown",
   "id": "c560785a",
   "metadata": {
    "hidden": true
   },
   "source": [
    "## 4. Extensões do SQL Standard"
   ]
  },
  {
   "cell_type": "markdown",
   "id": "66d0a0ab",
   "metadata": {
    "hidden": true
   },
   "source": [
    "1. Oracle\n",
    "\n",
    "    a. PL/SQL (Procedural Language for SQL)\n",
    "    \n",
    "        Procedural é uma função do banco de dados, análogo ao \"def\" em python, o BD é a procedural. Este procedural é definido a partir de \"trigger\", do tipo: \"Toda vez que uma linha nova for inserida, rode esta procedure\". Esta procedure trava o banco, roda a procedure e depois destrava pra leitura e escrita.\n",
    "        Um exemplo de aplicação é o caixa eletrônico, se, ao mesmo tempo que for sacado o dinheiro, alguém depositar, pode dar algum tipo de confusão, por isso a procedure foi desenvolvida. O banco é travado para rodar a procedure para contagem do dinheiro, verificação de saldo (se está negativo, por exemplo) e depois volta a leitura/escrita novamente. \n",
    "\n",
    "2. MySQL\n",
    "\n",
    "    a. SQL\n",
    "    \n",
    "        Em MySQL só há o padrão de SQL.\n",
    "        \n",
    "3. SQL Server\n",
    "\n",
    "    a. PL/SQL\n",
    "    \n",
    "    \n",
    "4. PostgreSQL\n",
    "\n",
    "    a. PL/pgSQL (Procedural Language for PostgreSQL)\n",
    "\n",
    "\n",
    "5. IBM DB2\n",
    "\n",
    "    a. PL/SQL"
   ]
  },
  {
   "cell_type": "markdown",
   "id": "a13baeba",
   "metadata": {
    "hidden": true
   },
   "source": [
    "## 5. Como acessar o banco de dados"
   ]
  },
  {
   "cell_type": "markdown",
   "id": "4555aac1",
   "metadata": {
    "hidden": true
   },
   "source": [
    "Para acessar um banco de dados é necessário basicamente de quatro credenciais. O banco de dados está dentro de um servidor, que tem um software que tem as informações do database, onde o database é a união de schemas que é a união de tabelas. Para acessar qualquer banco de dados é importante saber aonde está o banco, este local é chamado de \"host\". É o domínio onde o banco está. Toda vez que é necessário acessar um domínio é feito via uma porta, chamada \"port\". O host é uma API fechada, que para ter acesso é necessário atravessar uma porta, que é onde é feito a requisição. Em seguida, precisa-se do nome do database, com este nome é possível acessar qualquer coisa dentro dele. É necessário ter um usuário/senha, que está ligado diretamente as permissões do schema, nem todos os usuários tem acesso a todos os schemas. Em resumo:\n",
    "\n",
    "1. Host\n",
    "   \n",
    "   Endereço IP do servidor que hospeda o banco de dados\n",
    "\n",
    "2. Port\n",
    "    \n",
    "    A porta de acesso ao servidor\n",
    "    \n",
    "    \n",
    "3. Database\n",
    "    \n",
    "    O database que será acessado\n",
    "    \n",
    "\n",
    "4. Username/Password\n",
    "    \n",
    "    Nome de usuário e senha para acessar os schemas\n",
    "    \n",
    "Para acessar o banco de dados existem três formas: \n",
    "\n",
    "Terminal\n",
    "\n",
    "    O terminal é, em geral, utilizado para inserir grandes quantidades de dados. Como por exemplo a primeira carga em um banco novo com todo o histórico é uma grande quantidade de cargas, este tipo de procedimento é chamado Backfill\n",
    "\n",
    "IDE\n",
    "\n",
    "    MYSQL Workbench (para conectar em bancos MYSQL)\n",
    "    pgAdmin (postgreSQL)\n",
    "    Data Grip (semelhante ao pycharm)\n",
    "    SQL Plus\n",
    "    DBeaver\n",
    "\n",
    "Linguagem de programação.\n",
    "\n",
    "    Qualquer linguagem de programação tem o conector (driver) para o banco de dados específico."
   ]
  },
  {
   "cell_type": "markdown",
   "id": "cfbe277f",
   "metadata": {
    "hidden": true
   },
   "source": [
    "## 6. Coletando dados na prática"
   ]
  },
  {
   "cell_type": "markdown",
   "id": "a965c7bd",
   "metadata": {
    "hidden": true
   },
   "source": [
    "Aqui, será utilizado o postgre como exemplo, os outros são semelhantes.\n",
    "\n",
    "Em um terminal, é necessário instalar o psql, sudo apt-get psql\n",
    "\n",
    ">> psql -h comunidade-ds-postgres.c50pcakiuwi3.us-east-1.rds.amazonaws.com \\\n",
    "-p 5432 \\\n",
    "-d comunidadedsdb \\\n",
    "-U member \\\n",
    "-W cdspa\n",
    "\n",
    "    O -h indica que o que será passado é o \"host\"\n",
    "    O -p indica que o que será passado é a \"porta\"\n",
    "    O -d indica que o que será passado é o \"database\"\n",
    "    O -U indica que o que será passado é o \"membro\"\n",
    "    O -W indica que o que será passado é o \"password\"\n",
    "\n",
    "    O comando \\dn lista os schemas dentro do banco de dados. \n",
    "    O comando \\dt pa004.*, sendo pa004 o nome do schema que quer se visto e * para indicar que são todas as tabelas, exibi-se o nome das tabelas\n",
    "    O comando \\dt+ pa004.* retorna o tamanho das tabelas\n",
    "    \n",
    "select * from pa004.users limit 10;\n",
    "\n",
    "Será buscado todas a tabela users e exibirá um limite de 10 campos na tela, além disso, utiliza-se o ; por ser obrigatório. \n",
    "\n",
    "As análises em SQL em geral não são boas de fazer utilizando o terminal, funciona melhor para colocar arquivos novos. Para isso, utiliza-se o comando \\copy.\n",
    "\n",
    "\\q fecha o banco de dados."
   ]
  },
  {
   "cell_type": "markdown",
   "id": "646f603f",
   "metadata": {
    "hidden": true
   },
   "source": [
    "Pela IDE, conecta-se normalmente no dbeaver. Para descobrir o nome dos schemas:\n",
    "\n",
    "SELECT \n",
    "    nspname\n",
    "FROM \n",
    "    pg_catalog.pg_namespace pn\n",
    "\n",
    "Depois que descobrir o nome do schema que quer ser acessado, \n",
    "\n",
    "SELECT \n",
    "    nspname\n",
    "FROM \n",
    "    pg_catalog.pg_namespace pn\n",
    "where schemaname = 'pa004'\n",
    "\n",
    "Assim, é possível ver as tabelas presentes dentro do schema.\n",
    "\n",
    "\n",
    "SELECT *\n",
    "\n",
    "FROM\n",
    "\n",
    "    pa004.users u inner join pa004.vehicle v on (u.id=v.id)\n",
    "                  inner join pa004.insurance i on (u.id=i.id)\n",
    "limit 10;\n",
    "\n",
    "A vantagem da IDE é fazer contas ou análises rápidas."
   ]
  },
  {
   "cell_type": "markdown",
   "id": "4dc9fcb8",
   "metadata": {
    "hidden": true
   },
   "source": [
    "Usando Python, existem duas principais formas de recuperar os dados. Utilizando o SQL Alchemy ou o psycopg2, este segundo é específico para Postgre."
   ]
  },
  {
   "cell_type": "code",
   "execution_count": 146,
   "id": "950fb657",
   "metadata": {
    "ExecuteTime": {
     "end_time": "2022-06-01T10:23:29.430084Z",
     "start_time": "2022-06-01T10:23:29.337063Z"
    },
    "hidden": true
   },
   "outputs": [],
   "source": [
    "import psycopg2 as pg\n",
    "import pandas as pd"
   ]
  },
  {
   "cell_type": "code",
   "execution_count": 147,
   "id": "64fd2263",
   "metadata": {
    "ExecuteTime": {
     "end_time": "2022-06-01T10:23:30.067241Z",
     "start_time": "2022-06-01T10:23:29.602128Z"
    },
    "hidden": true
   },
   "outputs": [],
   "source": [
    "# Credentials\n",
    "host = 'comunidade-ds-postgres.c50pcakiuwi3.us-east-1.rds.amazonaws.com'\n",
    "port = 5432\n",
    "database = 'comunidadedsdb'\n",
    "username = 'member'\n",
    "pwd = 'cdspa'"
   ]
  },
  {
   "cell_type": "code",
   "execution_count": 148,
   "id": "329897a7",
   "metadata": {
    "ExecuteTime": {
     "end_time": "2022-06-01T10:23:31.518603Z",
     "start_time": "2022-06-01T10:23:30.136260Z"
    },
    "hidden": true
   },
   "outputs": [],
   "source": [
    "conn = pg.connect(user=username,\n",
    "                  password = pwd,\n",
    "                  host = host,\n",
    "                  port = port,\n",
    "                  database=database)"
   ]
  },
  {
   "cell_type": "markdown",
   "id": "f21ef9bf",
   "metadata": {
    "heading_collapsed": true
   },
   "source": [
    "# Schema Query"
   ]
  },
  {
   "cell_type": "code",
   "execution_count": 149,
   "id": "fcc3079b",
   "metadata": {
    "ExecuteTime": {
     "end_time": "2022-06-01T10:23:31.868695Z",
     "start_time": "2022-06-01T10:23:31.538613Z"
    },
    "hidden": true
   },
   "outputs": [
    {
     "name": "stdout",
     "output_type": "stream",
     "text": [
      "[('pg_toast',), ('pg_temp_1',), ('pg_toast_temp_1',), ('pg_catalog',), ('information_schema',), ('public',), ('pa004',), ('pg_temp_4',), ('pg_toast_temp_4',), ('pa005',), ('pg_temp_9',), ('pg_toast_temp_9',)]\n"
     ]
    }
   ],
   "source": [
    "cursor = conn.cursor()\n",
    "\n",
    "query_schema = \"\"\"\n",
    "    SELECT nspname\n",
    "    FROM pg_catalog.pg_namespace\n",
    "\"\"\"\n",
    "cursor.execute(query_schema)\n",
    "\n",
    "records = cursor.fetchall()\n",
    "print(records)\n",
    "cursor.close()\n",
    "conn.close()"
   ]
  },
  {
   "cell_type": "code",
   "execution_count": 150,
   "id": "8d7a651c",
   "metadata": {
    "ExecuteTime": {
     "end_time": "2022-06-01T10:23:32.356888Z",
     "start_time": "2022-06-01T10:23:31.920707Z"
    },
    "hidden": true
   },
   "outputs": [
    {
     "ename": "InterfaceError",
     "evalue": "cursor already closed",
     "output_type": "error",
     "traceback": [
      "\u001b[1;31m---------------------------------------------------------------------------\u001b[0m",
      "\u001b[1;31mInterfaceError\u001b[0m                            Traceback (most recent call last)",
      "Input \u001b[1;32mIn [150]\u001b[0m, in \u001b[0;36m<cell line: 1>\u001b[1;34m()\u001b[0m\n\u001b[1;32m----> 1\u001b[0m records \u001b[38;5;241m=\u001b[39m \u001b[43mcursor\u001b[49m\u001b[38;5;241;43m.\u001b[39;49m\u001b[43mfetchall\u001b[49m\u001b[43m(\u001b[49m\u001b[43m)\u001b[49m\n\u001b[0;32m      3\u001b[0m cursor\u001b[38;5;241m.\u001b[39mclose()\n\u001b[0;32m      4\u001b[0m conn\u001b[38;5;241m.\u001b[39mclose()\n",
      "\u001b[1;31mInterfaceError\u001b[0m: cursor already closed"
     ]
    }
   ],
   "source": [
    "records = cursor.fetchall()\n",
    "\n",
    "cursor.close()\n",
    "conn.close()"
   ]
  },
  {
   "cell_type": "code",
   "execution_count": null,
   "id": "c6e9659f",
   "metadata": {
    "ExecuteTime": {
     "end_time": "2022-06-01T10:23:32.380847Z",
     "start_time": "2022-06-01T10:23:32.380847Z"
    },
    "hidden": true
   },
   "outputs": [],
   "source": [
    "records"
   ]
  },
  {
   "cell_type": "markdown",
   "id": "d603bb53",
   "metadata": {
    "heading_collapsed": true
   },
   "source": [
    "# Table query"
   ]
  },
  {
   "cell_type": "code",
   "execution_count": null,
   "id": "35ba1557",
   "metadata": {
    "ExecuteTime": {
     "end_time": "2022-06-01T10:23:32.386824Z",
     "start_time": "2022-06-01T10:23:32.386824Z"
    },
    "hidden": true
   },
   "outputs": [],
   "source": [
    "cursor = conn.cursor()\n",
    "\n",
    "query_tables = \"\"\"\n",
    "    SELECT tablename\n",
    "    FROM pg_tables\n",
    "    WHERE schemaname='pa004'\n",
    "\"\"\"\n",
    "cursor.execute(query_tables)\n",
    "\n",
    "records = cursor.fetchall()\n",
    "print(records)\n",
    "\n",
    "cursor.close()\n",
    "conn.close()"
   ]
  },
  {
   "cell_type": "markdown",
   "id": "6cc134ef",
   "metadata": {
    "heading_collapsed": true
   },
   "source": [
    "# Collect Data using Psycopg2"
   ]
  },
  {
   "cell_type": "code",
   "execution_count": null,
   "id": "d8727baa",
   "metadata": {
    "ExecuteTime": {
     "end_time": "2022-06-01T10:23:32.391824Z",
     "start_time": "2022-06-01T10:23:32.391824Z"
    },
    "hidden": true
   },
   "outputs": [],
   "source": [
    "cursor = conn.cursor()\n",
    "\n",
    "query_table_users = \"\"\"\n",
    "    SELECT *\n",
    "    FROM pa004.users u\n",
    "    WHERE u.age > 44\n",
    "    LIMIT 10\n",
    "\"\"\"\n",
    "cursor.execute(query_table_users)\n",
    "\n",
    "records = cursor.fetchall()\n",
    "print(records)\n",
    "\n",
    "cursor.close()\n",
    "conn.close()"
   ]
  },
  {
   "cell_type": "code",
   "execution_count": null,
   "id": "ac37b748",
   "metadata": {
    "ExecuteTime": {
     "end_time": "2022-06-01T10:23:32.395828Z",
     "start_time": "2022-06-01T10:23:32.395828Z"
    },
    "hidden": true
   },
   "outputs": [],
   "source": [
    "data = pd.DataFrame(records)\n",
    "data.head()"
   ]
  },
  {
   "cell_type": "markdown",
   "id": "0bba937e",
   "metadata": {
    "hidden": true
   },
   "source": [
    "Como é possível ver, não veio o nome das colunas. Uma melhor forma de coletar os dados é utilizando o pandas."
   ]
  },
  {
   "cell_type": "markdown",
   "id": "62572e61",
   "metadata": {
    "heading_collapsed": true
   },
   "source": [
    "# Collect data using Pandas"
   ]
  },
  {
   "cell_type": "code",
   "execution_count": null,
   "id": "8606d4bb",
   "metadata": {
    "ExecuteTime": {
     "end_time": "2022-06-01T10:23:32.400826Z",
     "start_time": "2022-06-01T10:23:32.400826Z"
    },
    "hidden": true
   },
   "outputs": [],
   "source": [
    "import pandas.io.sql as psql"
   ]
  },
  {
   "cell_type": "code",
   "execution_count": null,
   "id": "889a3ad5",
   "metadata": {
    "ExecuteTime": {
     "end_time": "2022-06-01T10:23:32.428837Z",
     "start_time": "2022-06-01T10:23:32.428837Z"
    },
    "hidden": true
   },
   "outputs": [],
   "source": [
    "query_table_users = \"\"\"\n",
    "    SELECT *\n",
    "    FROM pa004.users u LEFT JOIN pa004.vehicle v ON (u.id = v.id)\n",
    "                       LEFT JOIN pa004.insurance i ON (u.id = i.id)\n",
    "    WHERE u.age > 44\n",
    "\"\"\""
   ]
  },
  {
   "cell_type": "markdown",
   "id": "7ba4eaa6",
   "metadata": {
    "hidden": true
   },
   "source": [
    "## Forma 1 - Usando o Pandas io SQL"
   ]
  },
  {
   "cell_type": "code",
   "execution_count": null,
   "id": "32776e93",
   "metadata": {
    "ExecuteTime": {
     "end_time": "2022-06-01T10:23:32.434835Z",
     "start_time": "2022-06-01T10:23:32.434835Z"
    },
    "hidden": true
   },
   "outputs": [],
   "source": [
    "df = psql.read_sql(query_table_users, conn)\n",
    "df.head(10)"
   ]
  },
  {
   "cell_type": "markdown",
   "id": "57bb9038",
   "metadata": {
    "hidden": true
   },
   "source": [
    "## Forma 2 - Passando o pandas diretamente"
   ]
  },
  {
   "cell_type": "code",
   "execution_count": null,
   "id": "fbfbadf3",
   "metadata": {
    "ExecuteTime": {
     "end_time": "2022-06-01T10:23:32.440840Z",
     "start_time": "2022-06-01T10:23:32.440840Z"
    },
    "hidden": true
   },
   "outputs": [],
   "source": [
    "df_raw = pd.read_sql(query_table_users, conn)\n",
    "df_raw = df_raw.drop(df.columns[[5,9]], axis=1)\n",
    "df_raw.head(10)"
   ]
  },
  {
   "cell_type": "code",
   "execution_count": 2,
   "id": "6e52d3ca",
   "metadata": {
    "ExecuteTime": {
     "end_time": "2022-06-02T09:06:25.129179Z",
     "start_time": "2022-06-02T09:06:23.659813Z"
    },
    "hidden": true
   },
   "outputs": [
    {
     "ename": "NameError",
     "evalue": "name 'pg' is not defined",
     "output_type": "error",
     "traceback": [
      "\u001b[1;31m---------------------------------------------------------------------------\u001b[0m",
      "\u001b[1;31mNameError\u001b[0m                                 Traceback (most recent call last)",
      "Input \u001b[1;32mIn [2]\u001b[0m, in \u001b[0;36m<cell line: 8>\u001b[1;34m()\u001b[0m\n\u001b[0;32m      5\u001b[0m username \u001b[38;5;241m=\u001b[39m \u001b[38;5;124m'\u001b[39m\u001b[38;5;124mmember\u001b[39m\u001b[38;5;124m'\u001b[39m\n\u001b[0;32m      6\u001b[0m pwd \u001b[38;5;241m=\u001b[39m \u001b[38;5;124m'\u001b[39m\u001b[38;5;124mcdspa\u001b[39m\u001b[38;5;124m'\u001b[39m\n\u001b[1;32m----> 8\u001b[0m conn \u001b[38;5;241m=\u001b[39m \u001b[43mpg\u001b[49m\u001b[38;5;241m.\u001b[39mconnect(user\u001b[38;5;241m=\u001b[39musername,\n\u001b[0;32m      9\u001b[0m                   password \u001b[38;5;241m=\u001b[39m pwd,\n\u001b[0;32m     10\u001b[0m                   host \u001b[38;5;241m=\u001b[39m host,\n\u001b[0;32m     11\u001b[0m                   port \u001b[38;5;241m=\u001b[39m port,\n\u001b[0;32m     12\u001b[0m                   database\u001b[38;5;241m=\u001b[39mdatabase)\n",
      "\u001b[1;31mNameError\u001b[0m: name 'pg' is not defined"
     ]
    }
   ],
   "source": [
    "# Credentials\n",
    "host = 'comunidade-ds-postgres.c50pcakiuwi3.us-east-1.rds.amazonaws.com'\n",
    "port = 5432\n",
    "database = 'comunidadedsdb'\n",
    "username = 'member'\n",
    "pwd = 'cdspa'\n",
    "\n",
    "conn = pg.connect(user=username,\n",
    "                  password = pwd,\n",
    "                  host = host,\n",
    "                  port = port,\n",
    "                  database=database)"
   ]
  },
  {
   "cell_type": "code",
   "execution_count": null,
   "id": "78983305",
   "metadata": {
    "ExecuteTime": {
     "end_time": "2022-06-02T09:06:25.139182Z",
     "start_time": "2022-06-02T09:06:25.139182Z"
    },
    "hidden": true
   },
   "outputs": [],
   "source": [
    "query_table_users = \"\"\"\n",
    "    SELECT *\n",
    "    FROM pa004.users u LEFT JOIN pa004.vehicle v ON (u.id = v.id)\n",
    "                       LEFT JOIN pa004.insurance i ON (u.id = i.id)\n",
    "    WHERE u.age > 44\n",
    "\"\"\""
   ]
  },
  {
   "cell_type": "markdown",
   "id": "b560f2cf",
   "metadata": {
    "heading_collapsed": true
   },
   "source": [
    "# Modelo de Negócio"
   ]
  },
  {
   "cell_type": "markdown",
   "id": "45c12a02",
   "metadata": {
    "heading_collapsed": true,
    "hidden": true
   },
   "source": [
    "## Os principais modelos de negócio"
   ]
  },
  {
   "cell_type": "markdown",
   "id": "5516e18b",
   "metadata": {
    "hidden": true
   },
   "source": [
    "E-commerce\n",
    "- O faturamento vem das vendas de um produto.\n",
    "    - Renner, Riachuelo, Submarino, Magalu\n",
    "\n",
    "Software as a Service (SaaS)\n",
    "- Faturamento proveniente de uma assinatura anual/mensal de utilização\n",
    "    - Looker, Asana, Gmail, Salesforce, Spotify\n",
    "\n",
    "Services\n",
    "- Faturamento origina das vendas de um projeto, de tempo ou prestação de algum serviço\n",
    "    - SulAmerica, Porto Seguro, Mapfre\n",
    "    \n",
    "Mobile App\n",
    "- Faturamento através da compra in-app\n",
    "    - Wildlife, Ubisoft, Games Mobile\n",
    "    \n",
    "Media Site\n",
    "- Faturamento pelo número de clicks ou view em um determinado anúncio\n",
    "    - Facebook, Google, UOL, G1\n",
    "    \n",
    "Marketplace\n",
    "- Faturamento é dado por uma taxa sobre cada transação\n",
    "    - Uber, Ifood, 99, Elo7, Submarino"
   ]
  },
  {
   "cell_type": "markdown",
   "id": "3201c9ee",
   "metadata": {
    "heading_collapsed": true
   },
   "source": [
    "# O modelo de negócio de uma Empresa Seguradora"
   ]
  },
  {
   "cell_type": "markdown",
   "id": "3f2edd1f",
   "metadata": {
    "hidden": true
   },
   "source": [
    "O modelo de negócio de uma seguradora funciona a partir de probabilidades. Cada segurado paga um valor anual (ou mensal) para ter acesso ao seguro e, baseado na probabilidade de que os segurados não vão ficar doentes todos ao mesmo tempo, a seguradora tem um lucro em cima deste valor."
   ]
  },
  {
   "cell_type": "markdown",
   "id": "4fcff9fb",
   "metadata": {
    "hidden": true
   },
   "source": [
    "## Como a empresa aumenta o faturamento"
   ]
  },
  {
   "cell_type": "markdown",
   "id": "5739dde9",
   "metadata": {
    "hidden": true
   },
   "source": [
    "A empresa funciona (no mais alto nível) a partir de: Lucro = Faturamento - Custo\n",
    "\n",
    "Para aumentar o faturamento, existem algumas formas:\n",
    "\n",
    "1. Faturamento:<br>\n",
    "    a. Número de vendas<br>\n",
    "    b. Ticket (Preço pago pelo cliente)<br>\n",
    "    c. Faturamento = Ticket*Número de vendas<br><br>\n",
    "\n",
    "2. Ticket<br>\n",
    "    a. Aumentar o ticket<br><br>\n",
    "    \n",
    "3. Número de vendas<br>\n",
    "    a. Aumentar o número de clientes<br>\n",
    "    b. Aumentar a frequência de compra por cliente<br>\n",
    "        i. Aumento na oferta do produto\n",
    "        \n",
    "Para o custo:\n",
    "\n",
    "1. Custo:<br>\n",
    "    a. Custo da operação<br>\n",
    "    b. Custo de produção de produto<br>\n",
    "    c. Custo de aquisição de Clientes (CAC)<br>\n",
    "    \n",
    "\n",
    "Aqui, será focado em aumentar o número de compra por cliente e, consequentemente, aumentar na oferta do produto. Uma das coisas que é possível fazer para aumentar o número de comporas por cliente é utilizar o método de vendas conhecido como up-sell. O Up-sell é uma estratégia de vendas que incentiva os clientes a adquirir uma versão mais sofisticada ou avançada do produto que originalmente pretendiam comprar. \n",
    "\n",
    "Um exemplo é o caso de celulares. Uma pessoa que migra de um Iphone 8 pra um Iphone 9, por exemplo, se enquadra no caso de Up-sell.\n",
    "\n",
    "A outra técnica é a de Cross-Sell. É uma estratégia de vendas de produtos ou serviços relacionados e complementares com base no interesse do cliente ou na compra de um produto. Neste caso, é oferecido uma compra para o cliente, por exemplo, um celular e, além disso, uma película de proteção. A venda da película a parte é uma cross-sell. \n",
    "\n",
    "Neste projeto, o foco será na cross-sell, uma vez que a empresa asseguradora tem um seguro de saúde e está fazendo um seguro sobre o seguro de carro também. A primeira pergunta a ser feita é: Quais clientes deveriam receber a oferta do cross-sell? Para responder isto, será usado o cálculo de probabilidade de compra.\n"
   ]
  },
  {
   "cell_type": "markdown",
   "id": "fde74206",
   "metadata": {
    "heading_collapsed": true
   },
   "source": [
    "# Learning to Rank"
   ]
  },
  {
   "cell_type": "markdown",
   "id": "1a0de597",
   "metadata": {
    "hidden": true
   },
   "source": [
    "Em um problema de learning to rank a ideia é ordenar a entidade sob uma métrica específica. Aqui, a ideia é ordenar do cliente que tem mais propensão de comprar o seguro de carro.\n",
    "\n",
    "Alguns exemplos de utilização da learn to rank é ordenação de vitrine, por exemplo, em um e-commerce. A proposta é responder sobre qual ordem os produtos devem aparecer na vitrine a fim de maximizar as vendas. \n",
    "\n",
    "Outro exemplo é de sistemas de recomendações, por exemplo, aquela seção de \"quem comprou este produto também compra...\" é um sistema de recomendações baseados em learning to rank. \n",
    "\n",
    "Search Engine (barra de busca) também utiliza learning to rank para ordenar qual resposta aparece primeiro"
   ]
  },
  {
   "cell_type": "markdown",
   "id": "8d868072",
   "metadata": {
    "hidden": true
   },
   "source": [
    "## Medindo a performance de learning to rank"
   ]
  },
  {
   "cell_type": "markdown",
   "id": "7150ef25",
   "metadata": {
    "hidden": true
   },
   "source": [
    "Existem duas formas de medir, a primeira é com curvas de rankeamento, usada para simular cenários e tomar decisões e utilizada para reportar para o time de negócio. A segunda forma é a métrica de rankeamento, que são utilizadas para report interno entre os cientistas de dados.\n",
    "\n",
    "As curvas de ranking é dada pela curva acumulada de ganho (curve cumulative gain), é a que foi mostrada no projeto, é a relação entre quantas pessoas precisam ser atingidas para ter X% de retorno.\n",
    "\n",
    "A curva de lift relaciona uma % média do modelo e a propensity score, que é a propensão (em porcentagem) do cliente aceitar o novo seguro. Dividindo a propensity score pela % media, você tem o lift, que indica quantas vezes seu modelo foi melhor que uma ordenação aleatória. \n",
    "\n",
    "As métricas de ranking consistem em duas, começando com a top K (@k - at k). O k indica até que número será utilizado para fazer a ordenação. É uma restrição de negócio, cada situação definirá o próprio k.\n",
    "    - Precision Top k (Precision @k)\n",
    "    - Recall Top k\n",
    "    - F1-Metric Top k\n",
    "    - Average Precision Top k\n",
    "    - Average Precision\n",
    "A precision top k é a precisão, o quanto o modelo consegue acertar aquilo que ele diz que está certo, a mesma ideia de precision \"normal\" para modelos de classificação. Recall e F1 segue a mesma ideia também, a diferença que em vez de considerar o dataset inteiro, consequentemente, a confusion matrix ser contruída para todos os resultados, aqui utiliza-se os k primeiros elementos.\n"
   ]
  },
  {
   "cell_type": "markdown",
   "id": "ca8d1d5a",
   "metadata": {},
   "source": [
    "# 0.0 Imports"
   ]
  },
  {
   "cell_type": "code",
   "execution_count": 73,
   "id": "42c11cd8",
   "metadata": {
    "ExecuteTime": {
     "end_time": "2022-06-03T10:45:45.285662Z",
     "start_time": "2022-06-03T10:45:45.276655Z"
    }
   },
   "outputs": [],
   "source": [
    "import pickle\n",
    "import numpy             as np\n",
    "import pandas            as pd\n",
    "import seaborn           as sns\n",
    "import xgboost           as xgb\n",
    "import matplotlib.pyplot as plt\n",
    "import scikitplot        as skplt\n",
    "\n",
    "from sklearn import preprocessing   as pp\n",
    "from sklearn import model_selection as ms\n",
    "from sklearn import ensemble        as en\n",
    "from sklearn import neighbors       as nh\n",
    "from sklearn import linear_model    as lm"
   ]
  },
  {
   "cell_type": "markdown",
   "id": "f6ebcd48",
   "metadata": {},
   "source": [
    "## 0.1 Loading Data"
   ]
  },
  {
   "cell_type": "code",
   "execution_count": 2,
   "id": "49dc7490",
   "metadata": {
    "ExecuteTime": {
     "end_time": "2022-06-03T10:21:10.536049Z",
     "start_time": "2022-06-03T10:21:09.680835Z"
    }
   },
   "outputs": [
    {
     "data": {
      "text/html": [
       "<div>\n",
       "<style scoped>\n",
       "    .dataframe tbody tr th:only-of-type {\n",
       "        vertical-align: middle;\n",
       "    }\n",
       "\n",
       "    .dataframe tbody tr th {\n",
       "        vertical-align: top;\n",
       "    }\n",
       "\n",
       "    .dataframe thead th {\n",
       "        text-align: right;\n",
       "    }\n",
       "</style>\n",
       "<table border=\"1\" class=\"dataframe\">\n",
       "  <thead>\n",
       "    <tr style=\"text-align: right;\">\n",
       "      <th></th>\n",
       "      <th>id</th>\n",
       "      <th>Gender</th>\n",
       "      <th>Age</th>\n",
       "      <th>Driving_License</th>\n",
       "      <th>Region_Code</th>\n",
       "      <th>Previously_Insured</th>\n",
       "      <th>Vehicle_Age</th>\n",
       "      <th>Vehicle_Damage</th>\n",
       "      <th>Annual_Premium</th>\n",
       "      <th>Policy_Sales_Channel</th>\n",
       "      <th>Vintage</th>\n",
       "      <th>Response</th>\n",
       "    </tr>\n",
       "  </thead>\n",
       "  <tbody>\n",
       "    <tr>\n",
       "      <th>0</th>\n",
       "      <td>1</td>\n",
       "      <td>Male</td>\n",
       "      <td>44</td>\n",
       "      <td>1</td>\n",
       "      <td>28.0</td>\n",
       "      <td>0</td>\n",
       "      <td>&gt; 2 Years</td>\n",
       "      <td>Yes</td>\n",
       "      <td>40454.0</td>\n",
       "      <td>26.0</td>\n",
       "      <td>217</td>\n",
       "      <td>1</td>\n",
       "    </tr>\n",
       "    <tr>\n",
       "      <th>1</th>\n",
       "      <td>2</td>\n",
       "      <td>Male</td>\n",
       "      <td>76</td>\n",
       "      <td>1</td>\n",
       "      <td>3.0</td>\n",
       "      <td>0</td>\n",
       "      <td>1-2 Year</td>\n",
       "      <td>No</td>\n",
       "      <td>33536.0</td>\n",
       "      <td>26.0</td>\n",
       "      <td>183</td>\n",
       "      <td>0</td>\n",
       "    </tr>\n",
       "    <tr>\n",
       "      <th>2</th>\n",
       "      <td>3</td>\n",
       "      <td>Male</td>\n",
       "      <td>47</td>\n",
       "      <td>1</td>\n",
       "      <td>28.0</td>\n",
       "      <td>0</td>\n",
       "      <td>&gt; 2 Years</td>\n",
       "      <td>Yes</td>\n",
       "      <td>38294.0</td>\n",
       "      <td>26.0</td>\n",
       "      <td>27</td>\n",
       "      <td>1</td>\n",
       "    </tr>\n",
       "    <tr>\n",
       "      <th>3</th>\n",
       "      <td>4</td>\n",
       "      <td>Male</td>\n",
       "      <td>21</td>\n",
       "      <td>1</td>\n",
       "      <td>11.0</td>\n",
       "      <td>1</td>\n",
       "      <td>&lt; 1 Year</td>\n",
       "      <td>No</td>\n",
       "      <td>28619.0</td>\n",
       "      <td>152.0</td>\n",
       "      <td>203</td>\n",
       "      <td>0</td>\n",
       "    </tr>\n",
       "    <tr>\n",
       "      <th>4</th>\n",
       "      <td>5</td>\n",
       "      <td>Female</td>\n",
       "      <td>29</td>\n",
       "      <td>1</td>\n",
       "      <td>41.0</td>\n",
       "      <td>1</td>\n",
       "      <td>&lt; 1 Year</td>\n",
       "      <td>No</td>\n",
       "      <td>27496.0</td>\n",
       "      <td>152.0</td>\n",
       "      <td>39</td>\n",
       "      <td>0</td>\n",
       "    </tr>\n",
       "  </tbody>\n",
       "</table>\n",
       "</div>"
      ],
      "text/plain": [
       "   id  Gender  Age  Driving_License  Region_Code  Previously_Insured  \\\n",
       "0   1    Male   44                1         28.0                   0   \n",
       "1   2    Male   76                1          3.0                   0   \n",
       "2   3    Male   47                1         28.0                   0   \n",
       "3   4    Male   21                1         11.0                   1   \n",
       "4   5  Female   29                1         41.0                   1   \n",
       "\n",
       "  Vehicle_Age Vehicle_Damage  Annual_Premium  Policy_Sales_Channel  Vintage  \\\n",
       "0   > 2 Years            Yes         40454.0                  26.0      217   \n",
       "1    1-2 Year             No         33536.0                  26.0      183   \n",
       "2   > 2 Years            Yes         38294.0                  26.0       27   \n",
       "3    < 1 Year             No         28619.0                 152.0      203   \n",
       "4    < 1 Year             No         27496.0                 152.0       39   \n",
       "\n",
       "   Response  \n",
       "0         1  \n",
       "1         0  \n",
       "2         1  \n",
       "3         0  \n",
       "4         0  "
      ]
     },
     "execution_count": 2,
     "metadata": {},
     "output_type": "execute_result"
    }
   ],
   "source": [
    "df_raw = pd.read_csv('../data/train.csv')\n",
    "df_raw.head()"
   ]
  },
  {
   "cell_type": "markdown",
   "id": "17b7b001",
   "metadata": {},
   "source": [
    "# 1.0 Data Description"
   ]
  },
  {
   "cell_type": "code",
   "execution_count": 3,
   "id": "fc4da8b6",
   "metadata": {
    "ExecuteTime": {
     "end_time": "2022-06-03T10:21:10.583060Z",
     "start_time": "2022-06-03T10:21:10.541053Z"
    }
   },
   "outputs": [],
   "source": [
    "df1 = df_raw.copy()"
   ]
  },
  {
   "cell_type": "code",
   "execution_count": 4,
   "id": "ece2d560",
   "metadata": {
    "ExecuteTime": {
     "end_time": "2022-06-03T10:21:10.615069Z",
     "start_time": "2022-06-03T10:21:10.595065Z"
    }
   },
   "outputs": [
    {
     "data": {
      "text/plain": [
       "Index(['id', 'Gender', 'Age', 'Driving_License', 'Region_Code',\n",
       "       'Previously_Insured', 'Vehicle_Age', 'Vehicle_Damage', 'Annual_Premium',\n",
       "       'Policy_Sales_Channel', 'Vintage', 'Response'],\n",
       "      dtype='object')"
      ]
     },
     "execution_count": 4,
     "metadata": {},
     "output_type": "execute_result"
    }
   ],
   "source": [
    "df_raw.columns"
   ]
  },
  {
   "cell_type": "code",
   "execution_count": 5,
   "id": "8dc3e940",
   "metadata": {
    "ExecuteTime": {
     "end_time": "2022-06-03T10:21:10.631075Z",
     "start_time": "2022-06-03T10:21:10.622077Z"
    }
   },
   "outputs": [],
   "source": [
    "cols_news = ['id', 'gender', 'age', 'driving_license', 'region_code',\n",
    "       'previously_insured', 'vehicle_age', 'vehicle_damage', 'annual_premium',\n",
    "       'policy_sales_channel', 'vintage', 'response']\n",
    "\n",
    "df1.columns = cols_news"
   ]
  },
  {
   "cell_type": "code",
   "execution_count": 6,
   "id": "0d158d7e",
   "metadata": {
    "ExecuteTime": {
     "end_time": "2022-06-03T10:21:10.695208Z",
     "start_time": "2022-06-03T10:21:10.636075Z"
    }
   },
   "outputs": [
    {
     "data": {
      "text/html": [
       "<div>\n",
       "<style scoped>\n",
       "    .dataframe tbody tr th:only-of-type {\n",
       "        vertical-align: middle;\n",
       "    }\n",
       "\n",
       "    .dataframe tbody tr th {\n",
       "        vertical-align: top;\n",
       "    }\n",
       "\n",
       "    .dataframe thead th {\n",
       "        text-align: right;\n",
       "    }\n",
       "</style>\n",
       "<table border=\"1\" class=\"dataframe\">\n",
       "  <thead>\n",
       "    <tr style=\"text-align: right;\">\n",
       "      <th></th>\n",
       "      <th>id</th>\n",
       "      <th>gender</th>\n",
       "      <th>age</th>\n",
       "      <th>driving_license</th>\n",
       "      <th>region_code</th>\n",
       "      <th>previously_insured</th>\n",
       "      <th>vehicle_age</th>\n",
       "      <th>vehicle_damage</th>\n",
       "      <th>annual_premium</th>\n",
       "      <th>policy_sales_channel</th>\n",
       "      <th>vintage</th>\n",
       "      <th>response</th>\n",
       "    </tr>\n",
       "  </thead>\n",
       "  <tbody>\n",
       "    <tr>\n",
       "      <th>0</th>\n",
       "      <td>1</td>\n",
       "      <td>Male</td>\n",
       "      <td>44</td>\n",
       "      <td>1</td>\n",
       "      <td>28.0</td>\n",
       "      <td>0</td>\n",
       "      <td>&gt; 2 Years</td>\n",
       "      <td>Yes</td>\n",
       "      <td>40454.0</td>\n",
       "      <td>26.0</td>\n",
       "      <td>217</td>\n",
       "      <td>1</td>\n",
       "    </tr>\n",
       "    <tr>\n",
       "      <th>1</th>\n",
       "      <td>2</td>\n",
       "      <td>Male</td>\n",
       "      <td>76</td>\n",
       "      <td>1</td>\n",
       "      <td>3.0</td>\n",
       "      <td>0</td>\n",
       "      <td>1-2 Year</td>\n",
       "      <td>No</td>\n",
       "      <td>33536.0</td>\n",
       "      <td>26.0</td>\n",
       "      <td>183</td>\n",
       "      <td>0</td>\n",
       "    </tr>\n",
       "    <tr>\n",
       "      <th>2</th>\n",
       "      <td>3</td>\n",
       "      <td>Male</td>\n",
       "      <td>47</td>\n",
       "      <td>1</td>\n",
       "      <td>28.0</td>\n",
       "      <td>0</td>\n",
       "      <td>&gt; 2 Years</td>\n",
       "      <td>Yes</td>\n",
       "      <td>38294.0</td>\n",
       "      <td>26.0</td>\n",
       "      <td>27</td>\n",
       "      <td>1</td>\n",
       "    </tr>\n",
       "    <tr>\n",
       "      <th>3</th>\n",
       "      <td>4</td>\n",
       "      <td>Male</td>\n",
       "      <td>21</td>\n",
       "      <td>1</td>\n",
       "      <td>11.0</td>\n",
       "      <td>1</td>\n",
       "      <td>&lt; 1 Year</td>\n",
       "      <td>No</td>\n",
       "      <td>28619.0</td>\n",
       "      <td>152.0</td>\n",
       "      <td>203</td>\n",
       "      <td>0</td>\n",
       "    </tr>\n",
       "    <tr>\n",
       "      <th>4</th>\n",
       "      <td>5</td>\n",
       "      <td>Female</td>\n",
       "      <td>29</td>\n",
       "      <td>1</td>\n",
       "      <td>41.0</td>\n",
       "      <td>1</td>\n",
       "      <td>&lt; 1 Year</td>\n",
       "      <td>No</td>\n",
       "      <td>27496.0</td>\n",
       "      <td>152.0</td>\n",
       "      <td>39</td>\n",
       "      <td>0</td>\n",
       "    </tr>\n",
       "  </tbody>\n",
       "</table>\n",
       "</div>"
      ],
      "text/plain": [
       "   id  gender  age  driving_license  region_code  previously_insured  \\\n",
       "0   1    Male   44                1         28.0                   0   \n",
       "1   2    Male   76                1          3.0                   0   \n",
       "2   3    Male   47                1         28.0                   0   \n",
       "3   4    Male   21                1         11.0                   1   \n",
       "4   5  Female   29                1         41.0                   1   \n",
       "\n",
       "  vehicle_age vehicle_damage  annual_premium  policy_sales_channel  vintage  \\\n",
       "0   > 2 Years            Yes         40454.0                  26.0      217   \n",
       "1    1-2 Year             No         33536.0                  26.0      183   \n",
       "2   > 2 Years            Yes         38294.0                  26.0       27   \n",
       "3    < 1 Year             No         28619.0                 152.0      203   \n",
       "4    < 1 Year             No         27496.0                 152.0       39   \n",
       "\n",
       "   response  \n",
       "0         1  \n",
       "1         0  \n",
       "2         1  \n",
       "3         0  \n",
       "4         0  "
      ]
     },
     "execution_count": 6,
     "metadata": {},
     "output_type": "execute_result"
    }
   ],
   "source": [
    "df1.head()"
   ]
  },
  {
   "cell_type": "markdown",
   "id": "e230ab05",
   "metadata": {},
   "source": [
    "## 1.1 Data Dimension"
   ]
  },
  {
   "cell_type": "code",
   "execution_count": 7,
   "id": "364c5d06",
   "metadata": {
    "ExecuteTime": {
     "end_time": "2022-06-03T10:21:10.727098Z",
     "start_time": "2022-06-03T10:21:10.699092Z"
    }
   },
   "outputs": [
    {
     "name": "stdout",
     "output_type": "stream",
     "text": [
      "Number of rows: 381109\n",
      "Number of columns: 12\n"
     ]
    }
   ],
   "source": [
    "print(f'Number of rows: {df1.shape[0]}')\n",
    "print(f'Number of columns: {df1.shape[1]}')"
   ]
  },
  {
   "cell_type": "markdown",
   "id": "4cd98b0b",
   "metadata": {},
   "source": [
    "## 1.2 Data Types"
   ]
  },
  {
   "cell_type": "code",
   "execution_count": 8,
   "id": "d41b954e",
   "metadata": {
    "ExecuteTime": {
     "end_time": "2022-06-03T10:21:10.759223Z",
     "start_time": "2022-06-03T10:21:10.733101Z"
    }
   },
   "outputs": [
    {
     "data": {
      "text/plain": [
       "id                        int64\n",
       "gender                   object\n",
       "age                       int64\n",
       "driving_license           int64\n",
       "region_code             float64\n",
       "previously_insured        int64\n",
       "vehicle_age              object\n",
       "vehicle_damage           object\n",
       "annual_premium          float64\n",
       "policy_sales_channel    float64\n",
       "vintage                   int64\n",
       "response                  int64\n",
       "dtype: object"
      ]
     },
     "execution_count": 8,
     "metadata": {},
     "output_type": "execute_result"
    }
   ],
   "source": [
    "df1.dtypes"
   ]
  },
  {
   "cell_type": "markdown",
   "id": "cac67e77",
   "metadata": {},
   "source": [
    "## 1.3 Check NA"
   ]
  },
  {
   "cell_type": "code",
   "execution_count": 9,
   "id": "505588a0",
   "metadata": {
    "ExecuteTime": {
     "end_time": "2022-06-03T10:21:11.027297Z",
     "start_time": "2022-06-03T10:21:10.764110Z"
    }
   },
   "outputs": [
    {
     "data": {
      "text/plain": [
       "id                      0\n",
       "gender                  0\n",
       "age                     0\n",
       "driving_license         0\n",
       "region_code             0\n",
       "previously_insured      0\n",
       "vehicle_age             0\n",
       "vehicle_damage          0\n",
       "annual_premium          0\n",
       "policy_sales_channel    0\n",
       "vintage                 0\n",
       "response                0\n",
       "dtype: int64"
      ]
     },
     "execution_count": 9,
     "metadata": {},
     "output_type": "execute_result"
    }
   ],
   "source": [
    "df1.isna().sum()"
   ]
  },
  {
   "cell_type": "markdown",
   "id": "1dd82b97",
   "metadata": {},
   "source": [
    "## 1.4 Data Descriptive"
   ]
  },
  {
   "cell_type": "code",
   "execution_count": 10,
   "id": "7decb2cb",
   "metadata": {
    "ExecuteTime": {
     "end_time": "2022-06-03T10:21:11.059193Z",
     "start_time": "2022-06-03T10:21:11.039178Z"
    }
   },
   "outputs": [],
   "source": [
    "num_attributes = df1.select_dtypes(include = ['int64', 'float64'])\n",
    "cat_attributes = df1.select_dtypes(exclude = ['int64', 'float64', 'datetime64[ns]'])"
   ]
  },
  {
   "cell_type": "code",
   "execution_count": 11,
   "id": "5330e7f4",
   "metadata": {
    "ExecuteTime": {
     "end_time": "2022-06-03T10:21:12.281605Z",
     "start_time": "2022-06-03T10:21:11.063183Z"
    }
   },
   "outputs": [],
   "source": [
    "## Central Tendency - mean, median\n",
    "ct1 = pd.DataFrame(num_attributes.apply(np.mean)).T\n",
    "ct2 = pd.DataFrame(num_attributes.apply(np.median)).T\n",
    "\n",
    "## Dispersion - std, min, max, range, skew, kurtosis\n",
    "d1 = pd.DataFrame(num_attributes.apply(np.std)).T\n",
    "d2 = pd.DataFrame(num_attributes.apply(min)).T\n",
    "d3 = pd.DataFrame(num_attributes.apply(max)).T\n",
    "d4 = pd.DataFrame(num_attributes.apply(lambda x: x.max() - x.min())).T\n",
    "d5 = pd.DataFrame(num_attributes.apply(lambda x: x.skew() )).T\n",
    "d6 = pd.DataFrame(num_attributes.apply(lambda x: x.kurtosis() )).T\n",
    "\n",
    "#concatenate\n",
    "m = pd.concat((d2,d3,d4,ct1,ct2,d1,d5,d6)).T.reset_index()\n",
    "m.columns = [ 'attributes','min','max','range','mean','median','std','skew','kurtosis' ]"
   ]
  },
  {
   "cell_type": "code",
   "execution_count": 12,
   "id": "0cf78b41",
   "metadata": {
    "ExecuteTime": {
     "end_time": "2022-06-03T10:21:12.344511Z",
     "start_time": "2022-06-03T10:21:12.286496Z"
    }
   },
   "outputs": [
    {
     "data": {
      "text/html": [
       "<div>\n",
       "<style scoped>\n",
       "    .dataframe tbody tr th:only-of-type {\n",
       "        vertical-align: middle;\n",
       "    }\n",
       "\n",
       "    .dataframe tbody tr th {\n",
       "        vertical-align: top;\n",
       "    }\n",
       "\n",
       "    .dataframe thead th {\n",
       "        text-align: right;\n",
       "    }\n",
       "</style>\n",
       "<table border=\"1\" class=\"dataframe\">\n",
       "  <thead>\n",
       "    <tr style=\"text-align: right;\">\n",
       "      <th></th>\n",
       "      <th>attributes</th>\n",
       "      <th>min</th>\n",
       "      <th>max</th>\n",
       "      <th>range</th>\n",
       "      <th>mean</th>\n",
       "      <th>median</th>\n",
       "      <th>std</th>\n",
       "      <th>skew</th>\n",
       "      <th>kurtosis</th>\n",
       "    </tr>\n",
       "  </thead>\n",
       "  <tbody>\n",
       "    <tr>\n",
       "      <th>0</th>\n",
       "      <td>id</td>\n",
       "      <td>1.0</td>\n",
       "      <td>381109.0</td>\n",
       "      <td>381108.0</td>\n",
       "      <td>190555.000000</td>\n",
       "      <td>190555.0</td>\n",
       "      <td>110016.691870</td>\n",
       "      <td>9.443274e-16</td>\n",
       "      <td>-1.200000</td>\n",
       "    </tr>\n",
       "    <tr>\n",
       "      <th>1</th>\n",
       "      <td>age</td>\n",
       "      <td>20.0</td>\n",
       "      <td>85.0</td>\n",
       "      <td>65.0</td>\n",
       "      <td>38.822584</td>\n",
       "      <td>36.0</td>\n",
       "      <td>15.511591</td>\n",
       "      <td>6.725390e-01</td>\n",
       "      <td>-0.565655</td>\n",
       "    </tr>\n",
       "    <tr>\n",
       "      <th>2</th>\n",
       "      <td>driving_license</td>\n",
       "      <td>0.0</td>\n",
       "      <td>1.0</td>\n",
       "      <td>1.0</td>\n",
       "      <td>0.997869</td>\n",
       "      <td>1.0</td>\n",
       "      <td>0.046109</td>\n",
       "      <td>-2.159518e+01</td>\n",
       "      <td>464.354302</td>\n",
       "    </tr>\n",
       "    <tr>\n",
       "      <th>3</th>\n",
       "      <td>region_code</td>\n",
       "      <td>0.0</td>\n",
       "      <td>52.0</td>\n",
       "      <td>52.0</td>\n",
       "      <td>26.388807</td>\n",
       "      <td>28.0</td>\n",
       "      <td>13.229871</td>\n",
       "      <td>-1.152664e-01</td>\n",
       "      <td>-0.867857</td>\n",
       "    </tr>\n",
       "    <tr>\n",
       "      <th>4</th>\n",
       "      <td>previously_insured</td>\n",
       "      <td>0.0</td>\n",
       "      <td>1.0</td>\n",
       "      <td>1.0</td>\n",
       "      <td>0.458210</td>\n",
       "      <td>0.0</td>\n",
       "      <td>0.498251</td>\n",
       "      <td>1.677471e-01</td>\n",
       "      <td>-1.971871</td>\n",
       "    </tr>\n",
       "    <tr>\n",
       "      <th>5</th>\n",
       "      <td>annual_premium</td>\n",
       "      <td>2630.0</td>\n",
       "      <td>540165.0</td>\n",
       "      <td>537535.0</td>\n",
       "      <td>30564.389581</td>\n",
       "      <td>31669.0</td>\n",
       "      <td>17213.132474</td>\n",
       "      <td>1.766087e+00</td>\n",
       "      <td>34.004569</td>\n",
       "    </tr>\n",
       "    <tr>\n",
       "      <th>6</th>\n",
       "      <td>policy_sales_channel</td>\n",
       "      <td>1.0</td>\n",
       "      <td>163.0</td>\n",
       "      <td>162.0</td>\n",
       "      <td>112.034295</td>\n",
       "      <td>133.0</td>\n",
       "      <td>54.203924</td>\n",
       "      <td>-9.000081e-01</td>\n",
       "      <td>-0.970810</td>\n",
       "    </tr>\n",
       "    <tr>\n",
       "      <th>7</th>\n",
       "      <td>vintage</td>\n",
       "      <td>10.0</td>\n",
       "      <td>299.0</td>\n",
       "      <td>289.0</td>\n",
       "      <td>154.347397</td>\n",
       "      <td>154.0</td>\n",
       "      <td>83.671194</td>\n",
       "      <td>3.029517e-03</td>\n",
       "      <td>-1.200688</td>\n",
       "    </tr>\n",
       "    <tr>\n",
       "      <th>8</th>\n",
       "      <td>response</td>\n",
       "      <td>0.0</td>\n",
       "      <td>1.0</td>\n",
       "      <td>1.0</td>\n",
       "      <td>0.122563</td>\n",
       "      <td>0.0</td>\n",
       "      <td>0.327935</td>\n",
       "      <td>2.301906e+00</td>\n",
       "      <td>3.298788</td>\n",
       "    </tr>\n",
       "  </tbody>\n",
       "</table>\n",
       "</div>"
      ],
      "text/plain": [
       "             attributes     min       max     range           mean    median  \\\n",
       "0                    id     1.0  381109.0  381108.0  190555.000000  190555.0   \n",
       "1                   age    20.0      85.0      65.0      38.822584      36.0   \n",
       "2       driving_license     0.0       1.0       1.0       0.997869       1.0   \n",
       "3           region_code     0.0      52.0      52.0      26.388807      28.0   \n",
       "4    previously_insured     0.0       1.0       1.0       0.458210       0.0   \n",
       "5        annual_premium  2630.0  540165.0  537535.0   30564.389581   31669.0   \n",
       "6  policy_sales_channel     1.0     163.0     162.0     112.034295     133.0   \n",
       "7               vintage    10.0     299.0     289.0     154.347397     154.0   \n",
       "8              response     0.0       1.0       1.0       0.122563       0.0   \n",
       "\n",
       "             std          skew    kurtosis  \n",
       "0  110016.691870  9.443274e-16   -1.200000  \n",
       "1      15.511591  6.725390e-01   -0.565655  \n",
       "2       0.046109 -2.159518e+01  464.354302  \n",
       "3      13.229871 -1.152664e-01   -0.867857  \n",
       "4       0.498251  1.677471e-01   -1.971871  \n",
       "5   17213.132474  1.766087e+00   34.004569  \n",
       "6      54.203924 -9.000081e-01   -0.970810  \n",
       "7      83.671194  3.029517e-03   -1.200688  \n",
       "8       0.327935  2.301906e+00    3.298788  "
      ]
     },
     "execution_count": 12,
     "metadata": {},
     "output_type": "execute_result"
    }
   ],
   "source": [
    "m"
   ]
  },
  {
   "cell_type": "markdown",
   "id": "14e01881",
   "metadata": {
    "heading_collapsed": true
   },
   "source": [
    "# 2.0 Feature Engineering"
   ]
  },
  {
   "cell_type": "code",
   "execution_count": 13,
   "id": "24e23ef5",
   "metadata": {
    "ExecuteTime": {
     "end_time": "2022-06-03T10:21:12.392525Z",
     "start_time": "2022-06-03T10:21:12.349512Z"
    },
    "hidden": true
   },
   "outputs": [],
   "source": [
    "df2 = df1.copy()"
   ]
  },
  {
   "cell_type": "code",
   "execution_count": 14,
   "id": "e8b27b4f",
   "metadata": {
    "ExecuteTime": {
     "end_time": "2022-06-03T10:21:12.456537Z",
     "start_time": "2022-06-03T10:21:12.398526Z"
    },
    "hidden": true
   },
   "outputs": [
    {
     "data": {
      "text/html": [
       "<div>\n",
       "<style scoped>\n",
       "    .dataframe tbody tr th:only-of-type {\n",
       "        vertical-align: middle;\n",
       "    }\n",
       "\n",
       "    .dataframe tbody tr th {\n",
       "        vertical-align: top;\n",
       "    }\n",
       "\n",
       "    .dataframe thead th {\n",
       "        text-align: right;\n",
       "    }\n",
       "</style>\n",
       "<table border=\"1\" class=\"dataframe\">\n",
       "  <thead>\n",
       "    <tr style=\"text-align: right;\">\n",
       "      <th></th>\n",
       "      <th>id</th>\n",
       "      <th>gender</th>\n",
       "      <th>age</th>\n",
       "      <th>driving_license</th>\n",
       "      <th>region_code</th>\n",
       "      <th>previously_insured</th>\n",
       "      <th>vehicle_age</th>\n",
       "      <th>vehicle_damage</th>\n",
       "      <th>annual_premium</th>\n",
       "      <th>policy_sales_channel</th>\n",
       "      <th>vintage</th>\n",
       "      <th>response</th>\n",
       "    </tr>\n",
       "  </thead>\n",
       "  <tbody>\n",
       "    <tr>\n",
       "      <th>0</th>\n",
       "      <td>1</td>\n",
       "      <td>Male</td>\n",
       "      <td>44</td>\n",
       "      <td>1</td>\n",
       "      <td>28.0</td>\n",
       "      <td>0</td>\n",
       "      <td>&gt; 2 Years</td>\n",
       "      <td>Yes</td>\n",
       "      <td>40454.0</td>\n",
       "      <td>26.0</td>\n",
       "      <td>217</td>\n",
       "      <td>1</td>\n",
       "    </tr>\n",
       "    <tr>\n",
       "      <th>1</th>\n",
       "      <td>2</td>\n",
       "      <td>Male</td>\n",
       "      <td>76</td>\n",
       "      <td>1</td>\n",
       "      <td>3.0</td>\n",
       "      <td>0</td>\n",
       "      <td>1-2 Year</td>\n",
       "      <td>No</td>\n",
       "      <td>33536.0</td>\n",
       "      <td>26.0</td>\n",
       "      <td>183</td>\n",
       "      <td>0</td>\n",
       "    </tr>\n",
       "    <tr>\n",
       "      <th>2</th>\n",
       "      <td>3</td>\n",
       "      <td>Male</td>\n",
       "      <td>47</td>\n",
       "      <td>1</td>\n",
       "      <td>28.0</td>\n",
       "      <td>0</td>\n",
       "      <td>&gt; 2 Years</td>\n",
       "      <td>Yes</td>\n",
       "      <td>38294.0</td>\n",
       "      <td>26.0</td>\n",
       "      <td>27</td>\n",
       "      <td>1</td>\n",
       "    </tr>\n",
       "    <tr>\n",
       "      <th>3</th>\n",
       "      <td>4</td>\n",
       "      <td>Male</td>\n",
       "      <td>21</td>\n",
       "      <td>1</td>\n",
       "      <td>11.0</td>\n",
       "      <td>1</td>\n",
       "      <td>&lt; 1 Year</td>\n",
       "      <td>No</td>\n",
       "      <td>28619.0</td>\n",
       "      <td>152.0</td>\n",
       "      <td>203</td>\n",
       "      <td>0</td>\n",
       "    </tr>\n",
       "    <tr>\n",
       "      <th>4</th>\n",
       "      <td>5</td>\n",
       "      <td>Female</td>\n",
       "      <td>29</td>\n",
       "      <td>1</td>\n",
       "      <td>41.0</td>\n",
       "      <td>1</td>\n",
       "      <td>&lt; 1 Year</td>\n",
       "      <td>No</td>\n",
       "      <td>27496.0</td>\n",
       "      <td>152.0</td>\n",
       "      <td>39</td>\n",
       "      <td>0</td>\n",
       "    </tr>\n",
       "  </tbody>\n",
       "</table>\n",
       "</div>"
      ],
      "text/plain": [
       "   id  gender  age  driving_license  region_code  previously_insured  \\\n",
       "0   1    Male   44                1         28.0                   0   \n",
       "1   2    Male   76                1          3.0                   0   \n",
       "2   3    Male   47                1         28.0                   0   \n",
       "3   4    Male   21                1         11.0                   1   \n",
       "4   5  Female   29                1         41.0                   1   \n",
       "\n",
       "  vehicle_age vehicle_damage  annual_premium  policy_sales_channel  vintage  \\\n",
       "0   > 2 Years            Yes         40454.0                  26.0      217   \n",
       "1    1-2 Year             No         33536.0                  26.0      183   \n",
       "2   > 2 Years            Yes         38294.0                  26.0       27   \n",
       "3    < 1 Year             No         28619.0                 152.0      203   \n",
       "4    < 1 Year             No         27496.0                 152.0       39   \n",
       "\n",
       "   response  \n",
       "0         1  \n",
       "1         0  \n",
       "2         1  \n",
       "3         0  \n",
       "4         0  "
      ]
     },
     "execution_count": 14,
     "metadata": {},
     "output_type": "execute_result"
    }
   ],
   "source": [
    "df2.head()"
   ]
  },
  {
   "cell_type": "markdown",
   "id": "3c55df64",
   "metadata": {
    "hidden": true
   },
   "source": [
    "Algumas alterações serão necessárias, começando com vehicle_age, tirar esses \"<\" e \">\" e em vehicle_damage converter \"yes\" e \"no\" para numérico."
   ]
  },
  {
   "cell_type": "code",
   "execution_count": 15,
   "id": "7d033ecc",
   "metadata": {
    "ExecuteTime": {
     "end_time": "2022-06-03T10:21:12.789624Z",
     "start_time": "2022-06-03T10:21:12.461542Z"
    },
    "hidden": true
   },
   "outputs": [],
   "source": [
    "# vehicle age\n",
    "df2['vehicle_age'] = df2['vehicle_age'].apply(lambda x: 'over_2_years'     if x == '> 2 Years' else \n",
    "                                                        'between_1_2_year' if x == '1-2 Year'  else 'below_1_year')\n",
    "\n",
    "# vehicle damage\n",
    "df2['vehicle_damage'] = df2['vehicle_damage'].apply(lambda x: 1 if x == 'Yes' else 0)\n"
   ]
  },
  {
   "cell_type": "markdown",
   "id": "91bbc868",
   "metadata": {
    "ExecuteTime": {
     "end_time": "2022-05-30T21:05:41.731779Z",
     "start_time": "2022-05-30T21:05:41.714771Z"
    },
    "heading_collapsed": true
   },
   "source": [
    "# 3.0 Data Filtering"
   ]
  },
  {
   "cell_type": "code",
   "execution_count": 16,
   "id": "704509fb",
   "metadata": {
    "ExecuteTime": {
     "end_time": "2022-06-03T10:21:12.868771Z",
     "start_time": "2022-06-03T10:21:12.792624Z"
    },
    "hidden": true
   },
   "outputs": [],
   "source": [
    "df3 = df2.copy()"
   ]
  },
  {
   "cell_type": "markdown",
   "id": "72d6f05c",
   "metadata": {
    "hidden": true
   },
   "source": [
    "Como não há dados muito discrepantes, como pode ser visto na etapa 1.4, então, a princípio, não será feito nenhum filtro."
   ]
  },
  {
   "cell_type": "markdown",
   "id": "9d279919",
   "metadata": {
    "heading_collapsed": true
   },
   "source": [
    "# 4.0 Exploratory Data Analysis"
   ]
  },
  {
   "cell_type": "code",
   "execution_count": 17,
   "id": "3fbd45fe",
   "metadata": {
    "ExecuteTime": {
     "end_time": "2022-06-03T10:21:12.900720Z",
     "start_time": "2022-06-03T10:21:12.873643Z"
    },
    "hidden": true
   },
   "outputs": [],
   "source": [
    "df4 = df3.copy()"
   ]
  },
  {
   "cell_type": "markdown",
   "id": "79a6ffcb",
   "metadata": {
    "hidden": true
   },
   "source": [
    "## 4.1 Univariate Analysis"
   ]
  },
  {
   "cell_type": "code",
   "execution_count": 18,
   "id": "3f450467",
   "metadata": {
    "ExecuteTime": {
     "end_time": "2022-06-03T10:21:12.931761Z",
     "start_time": "2022-06-03T10:21:12.905771Z"
    },
    "hidden": true
   },
   "outputs": [
    {
     "data": {
      "text/plain": [
       "Index(['id', 'gender', 'age', 'driving_license', 'region_code',\n",
       "       'previously_insured', 'vehicle_age', 'vehicle_damage', 'annual_premium',\n",
       "       'policy_sales_channel', 'vintage', 'response'],\n",
       "      dtype='object')"
      ]
     },
     "execution_count": 18,
     "metadata": {},
     "output_type": "execute_result"
    }
   ],
   "source": [
    "df4.columns"
   ]
  },
  {
   "cell_type": "markdown",
   "id": "e09ab04d",
   "metadata": {
    "hidden": true
   },
   "source": [
    "### age"
   ]
  },
  {
   "cell_type": "code",
   "execution_count": 19,
   "id": "51bf3ac3",
   "metadata": {
    "ExecuteTime": {
     "end_time": "2022-06-03T10:21:13.452996Z",
     "start_time": "2022-06-03T10:21:12.936662Z"
    },
    "hidden": true
   },
   "outputs": [
    {
     "data": {
      "text/plain": [
       "<AxesSubplot:xlabel='response', ylabel='age'>"
      ]
     },
     "execution_count": 19,
     "metadata": {},
     "output_type": "execute_result"
    },
    {
     "data": {
      "image/png": "[encoded data removed]",
      "text/plain": [
       "<Figure size 432x288 with 1 Axes>"
      ]
     },
     "metadata": {
      "needs_background": "light"
     },
     "output_type": "display_data"
    }
   ],
   "source": [
    "sns.boxplot(x='response', y='age', data=df4)"
   ]
  },
  {
   "cell_type": "markdown",
   "id": "5f5b1da0",
   "metadata": {
    "hidden": true
   },
   "source": [
    "Para o grupo de pessoas que não estão interessadas (0), a mediana é de mais ou menos 35 anos, do primeiro ao terceiro quartil há uma  variáção de 25 a 50 anos. Já as pessoas interessadas no produto (1), a mediana de idades é maior, os primeiros e terceiros quartis são maiores também. \n",
    "\n",
    "Esta variável pode ser interessante para o modelo, pois indicam que pessoas mais novas não tem tanto interesse em seguros de vida, o que faz sentido."
   ]
  },
  {
   "cell_type": "code",
   "execution_count": 20,
   "id": "f204a13e",
   "metadata": {
    "ExecuteTime": {
     "end_time": "2022-06-03T10:21:15.105411Z",
     "start_time": "2022-06-03T10:21:13.457996Z"
    },
    "hidden": true
   },
   "outputs": [
    {
     "data": {
      "text/plain": [
       "<AxesSubplot:xlabel='age', ylabel='Count'>"
      ]
     },
     "execution_count": 20,
     "metadata": {},
     "output_type": "execute_result"
    },
    {
     "data": {
      "image/png": "[encoded data removed]",
      "text/plain": [
       "<Figure size 1008x576 with 2 Axes>"
      ]
     },
     "metadata": {
      "needs_background": "light"
     },
     "output_type": "display_data"
    }
   ],
   "source": [
    "plt.figure(figsize=(14, 8))\n",
    "plt.subplot(1,2,1)\n",
    "aux00 = df4.loc[df4['response'] == 0,'age']\n",
    "sns.histplot(aux00)\n",
    "\n",
    "plt.subplot(1,2,2)\n",
    "aux01 = df4.loc[df4['response'] == 1,'age']\n",
    "sns.histplot(aux01)"
   ]
  },
  {
   "cell_type": "markdown",
   "id": "82a4b88c",
   "metadata": {
    "hidden": true
   },
   "source": [
    "Existe uma concentração muito grande de pessoas sem interesse para age próximo de 20. Já para o histograma de pessoas com interesse, a maioria das idades estão entre 40 e 50 anos. Um ponto a ser observado é que há um possível desbalanceamento das variáveis, existe muito mais dados com \"não\" do que com \"sim\". Este ponto será melhor analisado mais a frente."
   ]
  },
  {
   "cell_type": "markdown",
   "id": "8bddb57b",
   "metadata": {
    "hidden": true
   },
   "source": [
    "### anual_premium"
   ]
  },
  {
   "cell_type": "code",
   "execution_count": 21,
   "id": "526a81a0",
   "metadata": {
    "ExecuteTime": {
     "end_time": "2022-06-03T10:21:15.552526Z",
     "start_time": "2022-06-03T10:21:15.110416Z"
    },
    "hidden": true
   },
   "outputs": [
    {
     "data": {
      "text/plain": [
       "<AxesSubplot:xlabel='response', ylabel='annual_premium'>"
      ]
     },
     "execution_count": 21,
     "metadata": {},
     "output_type": "execute_result"
    },
    {
     "data": {
      "image/png": "[encoded data removed]",
      "text/plain": [
       "<Figure size 432x288 with 1 Axes>"
      ]
     },
     "metadata": {
      "needs_background": "light"
     },
     "output_type": "display_data"
    }
   ],
   "source": [
    "sns.boxplot(x='response', y='annual_premium', data=df4)"
   ]
  },
  {
   "cell_type": "markdown",
   "id": "98b080ed",
   "metadata": {
    "hidden": true
   },
   "source": [
    "Como não é possível observar nada devido ao excesso de outliers, será analisado um corte nos dados para valores menores que 80000."
   ]
  },
  {
   "cell_type": "code",
   "execution_count": 22,
   "id": "b353a79b",
   "metadata": {
    "ExecuteTime": {
     "end_time": "2022-06-03T10:21:16.126672Z",
     "start_time": "2022-06-03T10:21:15.559529Z"
    },
    "hidden": true
   },
   "outputs": [
    {
     "data": {
      "text/plain": [
       "<AxesSubplot:xlabel='response', ylabel='annual_premium'>"
      ]
     },
     "execution_count": 22,
     "metadata": {},
     "output_type": "execute_result"
    },
    {
     "data": {
      "image/png": "[encoded data removed]",
      "text/plain": [
       "<Figure size 432x288 with 1 Axes>"
      ]
     },
     "metadata": {
      "needs_background": "light"
     },
     "output_type": "display_data"
    }
   ],
   "source": [
    "aux = df4[df4['annual_premium']<80000]\n",
    "sns.boxplot(x='response', y='annual_premium', data=aux)"
   ]
  },
  {
   "cell_type": "code",
   "execution_count": 23,
   "id": "1f781371",
   "metadata": {
    "ExecuteTime": {
     "end_time": "2022-06-03T10:21:18.412370Z",
     "start_time": "2022-06-03T10:21:16.133673Z"
    },
    "hidden": true
   },
   "outputs": [
    {
     "data": {
      "text/plain": [
       "<AxesSubplot:xlabel='annual_premium', ylabel='Count'>"
      ]
     },
     "execution_count": 23,
     "metadata": {},
     "output_type": "execute_result"
    },
    {
     "data": {
      "image/png": "[encoded data removed]",
      "text/plain": [
       "<Figure size 1008x576 with 3 Axes>"
      ]
     },
     "metadata": {
      "needs_background": "light"
     },
     "output_type": "display_data"
    }
   ],
   "source": [
    "plt.figure(figsize=(14, 8))\n",
    "\n",
    "plt.subplot(1,3,1)\n",
    "aux = df4[df4['annual_premium']<80000]\n",
    "sns.boxplot(x='response', y='annual_premium', data=aux)\n",
    "\n",
    "plt.subplot(1,3,2)\n",
    "aux2 = df4[(df4['annual_premium'] > 10000) & (df4['annual_premium']<80000)]\n",
    "aux00 = aux2.loc[aux2['response'] == 0,'annual_premium']\n",
    "sns.histplot(aux00)\n",
    "\n",
    "plt.subplot(1,3,3)\n",
    "aux01 = aux2.loc[aux2['response'] == 1,'annual_premium']\n",
    "sns.histplot(aux01)"
   ]
  },
  {
   "cell_type": "markdown",
   "id": "2d2441cd",
   "metadata": {
    "hidden": true
   },
   "source": [
    "Como são muito parecidas, é bem provável que não ajude a resolver o problema aqui, uma vez que não há uma separação entre as classes"
   ]
  },
  {
   "cell_type": "markdown",
   "id": "c5dc86e7",
   "metadata": {
    "ExecuteTime": {
     "end_time": "2022-05-30T22:07:15.587108Z",
     "start_time": "2022-05-30T22:07:15.572111Z"
    },
    "hidden": true
   },
   "source": [
    "### driving_license"
   ]
  },
  {
   "cell_type": "code",
   "execution_count": 24,
   "id": "fd16afbf",
   "metadata": {
    "ExecuteTime": {
     "end_time": "2022-06-03T10:21:18.698421Z",
     "start_time": "2022-06-03T10:21:18.421250Z"
    },
    "hidden": true
   },
   "outputs": [
    {
     "data": {
      "text/plain": [
       "<AxesSubplot:xlabel='response', ylabel='driving_license'>"
      ]
     },
     "execution_count": 24,
     "metadata": {},
     "output_type": "execute_result"
    },
    {
     "data": {
      "image/png": "[encoded data removed]",
      "text/plain": [
       "<Figure size 432x288 with 1 Axes>"
      ]
     },
     "metadata": {
      "needs_background": "light"
     },
     "output_type": "display_data"
    }
   ],
   "source": [
    "aux = df4[['driving_license', 'response']].groupby('response').sum().reset_index()\n",
    "sns.barplot(x='response', y='driving_license', data=aux)"
   ]
  },
  {
   "cell_type": "markdown",
   "id": "dcba2a45",
   "metadata": {
    "hidden": true
   },
   "source": [
    "Muito mais pessoas que dirigem e não querem fazer o seguro de carro."
   ]
  },
  {
   "cell_type": "code",
   "execution_count": 25,
   "id": "6bb65e4a",
   "metadata": {
    "ExecuteTime": {
     "end_time": "2022-06-03T10:21:18.730406Z",
     "start_time": "2022-06-03T10:21:18.702325Z"
    },
    "hidden": true
   },
   "outputs": [
    {
     "data": {
      "text/html": [
       "<div>\n",
       "<style scoped>\n",
       "    .dataframe tbody tr th:only-of-type {\n",
       "        vertical-align: middle;\n",
       "    }\n",
       "\n",
       "    .dataframe tbody tr th {\n",
       "        vertical-align: top;\n",
       "    }\n",
       "\n",
       "    .dataframe thead th {\n",
       "        text-align: right;\n",
       "    }\n",
       "</style>\n",
       "<table border=\"1\" class=\"dataframe\">\n",
       "  <thead>\n",
       "    <tr style=\"text-align: right;\">\n",
       "      <th></th>\n",
       "      <th>response</th>\n",
       "      <th>driving_license</th>\n",
       "      <th>driving_license_perc</th>\n",
       "    </tr>\n",
       "  </thead>\n",
       "  <tbody>\n",
       "    <tr>\n",
       "      <th>0</th>\n",
       "      <td>0</td>\n",
       "      <td>333628</td>\n",
       "      <td>0.877283</td>\n",
       "    </tr>\n",
       "    <tr>\n",
       "      <th>1</th>\n",
       "      <td>1</td>\n",
       "      <td>46669</td>\n",
       "      <td>0.122717</td>\n",
       "    </tr>\n",
       "  </tbody>\n",
       "</table>\n",
       "</div>"
      ],
      "text/plain": [
       "   response  driving_license  driving_license_perc\n",
       "0         0           333628              0.877283\n",
       "1         1            46669              0.122717"
      ]
     },
     "execution_count": 25,
     "metadata": {},
     "output_type": "execute_result"
    }
   ],
   "source": [
    "aux['driving_license_perc'] = aux['driving_license'] / aux['driving_license'].sum()\n",
    "aux"
   ]
  },
  {
   "cell_type": "markdown",
   "id": "83f22f8e",
   "metadata": {
    "hidden": true
   },
   "source": [
    "Ou seja, 87% das pessoas que dirigem não querem fazer o seguro e 12% dos que dirigem querem fazer seguro."
   ]
  },
  {
   "cell_type": "markdown",
   "id": "84ba1f2c",
   "metadata": {
    "hidden": true
   },
   "source": [
    "### region_code"
   ]
  },
  {
   "cell_type": "code",
   "execution_count": 26,
   "id": "c295afe6",
   "metadata": {
    "ExecuteTime": {
     "end_time": "2022-06-03T10:21:18.761408Z",
     "start_time": "2022-06-03T10:21:18.734334Z"
    },
    "hidden": true
   },
   "outputs": [
    {
     "data": {
      "text/html": [
       "<div>\n",
       "<style scoped>\n",
       "    .dataframe tbody tr th:only-of-type {\n",
       "        vertical-align: middle;\n",
       "    }\n",
       "\n",
       "    .dataframe tbody tr th {\n",
       "        vertical-align: top;\n",
       "    }\n",
       "\n",
       "    .dataframe thead th {\n",
       "        text-align: right;\n",
       "    }\n",
       "</style>\n",
       "<table border=\"1\" class=\"dataframe\">\n",
       "  <thead>\n",
       "    <tr style=\"text-align: right;\">\n",
       "      <th></th>\n",
       "      <th>region_code</th>\n",
       "      <th>response</th>\n",
       "    </tr>\n",
       "  </thead>\n",
       "  <tbody>\n",
       "    <tr>\n",
       "      <th>0</th>\n",
       "      <td>28.0</td>\n",
       "      <td>1</td>\n",
       "    </tr>\n",
       "    <tr>\n",
       "      <th>1</th>\n",
       "      <td>3.0</td>\n",
       "      <td>0</td>\n",
       "    </tr>\n",
       "    <tr>\n",
       "      <th>2</th>\n",
       "      <td>28.0</td>\n",
       "      <td>1</td>\n",
       "    </tr>\n",
       "    <tr>\n",
       "      <th>3</th>\n",
       "      <td>11.0</td>\n",
       "      <td>0</td>\n",
       "    </tr>\n",
       "    <tr>\n",
       "      <th>4</th>\n",
       "      <td>41.0</td>\n",
       "      <td>0</td>\n",
       "    </tr>\n",
       "  </tbody>\n",
       "</table>\n",
       "</div>"
      ],
      "text/plain": [
       "   region_code  response\n",
       "0         28.0         1\n",
       "1          3.0         0\n",
       "2         28.0         1\n",
       "3         11.0         0\n",
       "4         41.0         0"
      ]
     },
     "execution_count": 26,
     "metadata": {},
     "output_type": "execute_result"
    }
   ],
   "source": [
    "df4[['region_code', 'response']].head()"
   ]
  },
  {
   "cell_type": "code",
   "execution_count": 27,
   "id": "09ec167e",
   "metadata": {
    "ExecuteTime": {
     "end_time": "2022-06-03T10:21:19.282469Z",
     "start_time": "2022-06-03T10:21:18.769366Z"
    },
    "hidden": true
   },
   "outputs": [
    {
     "data": {
      "text/plain": [
       "<AxesSubplot:xlabel='region_code', ylabel='id'>"
      ]
     },
     "execution_count": 27,
     "metadata": {},
     "output_type": "execute_result"
    },
    {
     "data": {
      "image/png": "[encoded data removed]",
      "text/plain": [
       "<Figure size 432x288 with 1 Axes>"
      ]
     },
     "metadata": {
      "needs_background": "light"
     },
     "output_type": "display_data"
    }
   ],
   "source": [
    "aux0 = df4[['id','region_code', 'response']].groupby(['region_code', 'response']).count().reset_index()\n",
    "\n",
    "sns.scatterplot(x='region_code', y='id', hue='response', data=aux0)"
   ]
  },
  {
   "cell_type": "markdown",
   "id": "48976d1e",
   "metadata": {
    "hidden": true
   },
   "source": [
    "É possível observar o region_code 29, onde aproximadamente 80000 mil pessoas não estão interessadas em assinar o produto, enquanto 20000 estão interessadas. Nesta situação, é possível afirmar que há uma discriminação entre os dados, ou seja, é possível fazer uma separação clara entre as duas regiões. Entretanto, para todos os outros pontos há uma mistura entre 0 e 1. Então, analisando esta variável separadamente, não é interessante para o modelo."
   ]
  },
  {
   "cell_type": "markdown",
   "id": "9b8b9fdc",
   "metadata": {
    "hidden": true
   },
   "source": [
    "### previously_insured"
   ]
  },
  {
   "cell_type": "code",
   "execution_count": 28,
   "id": "c52bdbad",
   "metadata": {
    "ExecuteTime": {
     "end_time": "2022-06-03T10:21:19.330481Z",
     "start_time": "2022-06-03T10:21:19.298474Z"
    },
    "hidden": true
   },
   "outputs": [
    {
     "data": {
      "text/html": [
       "<div>\n",
       "<style scoped>\n",
       "    .dataframe tbody tr th:only-of-type {\n",
       "        vertical-align: middle;\n",
       "    }\n",
       "\n",
       "    .dataframe tbody tr th {\n",
       "        vertical-align: top;\n",
       "    }\n",
       "\n",
       "    .dataframe thead th {\n",
       "        text-align: right;\n",
       "    }\n",
       "</style>\n",
       "<table border=\"1\" class=\"dataframe\">\n",
       "  <thead>\n",
       "    <tr style=\"text-align: right;\">\n",
       "      <th></th>\n",
       "      <th>previously_insured</th>\n",
       "      <th>response</th>\n",
       "    </tr>\n",
       "  </thead>\n",
       "  <tbody>\n",
       "    <tr>\n",
       "      <th>0</th>\n",
       "      <td>0</td>\n",
       "      <td>1</td>\n",
       "    </tr>\n",
       "    <tr>\n",
       "      <th>1</th>\n",
       "      <td>0</td>\n",
       "      <td>0</td>\n",
       "    </tr>\n",
       "    <tr>\n",
       "      <th>2</th>\n",
       "      <td>0</td>\n",
       "      <td>1</td>\n",
       "    </tr>\n",
       "    <tr>\n",
       "      <th>3</th>\n",
       "      <td>1</td>\n",
       "      <td>0</td>\n",
       "    </tr>\n",
       "    <tr>\n",
       "      <th>4</th>\n",
       "      <td>1</td>\n",
       "      <td>0</td>\n",
       "    </tr>\n",
       "  </tbody>\n",
       "</table>\n",
       "</div>"
      ],
      "text/plain": [
       "   previously_insured  response\n",
       "0                   0         1\n",
       "1                   0         0\n",
       "2                   0         1\n",
       "3                   1         0\n",
       "4                   1         0"
      ]
     },
     "execution_count": 28,
     "metadata": {},
     "output_type": "execute_result"
    }
   ],
   "source": [
    "df4[['previously_insured', 'response']].head()"
   ]
  },
  {
   "cell_type": "code",
   "execution_count": 29,
   "id": "1d3cc589",
   "metadata": {
    "ExecuteTime": {
     "end_time": "2022-06-03T10:21:19.458589Z",
     "start_time": "2022-06-03T10:21:19.336503Z"
    },
    "hidden": true
   },
   "outputs": [
    {
     "data": {
      "text/html": [
       "<div>\n",
       "<style scoped>\n",
       "    .dataframe tbody tr th:only-of-type {\n",
       "        vertical-align: middle;\n",
       "    }\n",
       "\n",
       "    .dataframe tbody tr th {\n",
       "        vertical-align: top;\n",
       "    }\n",
       "\n",
       "    .dataframe thead th {\n",
       "        text-align: right;\n",
       "    }\n",
       "</style>\n",
       "<table border=\"1\" class=\"dataframe\">\n",
       "  <thead>\n",
       "    <tr style=\"text-align: right;\">\n",
       "      <th>response</th>\n",
       "      <th>0</th>\n",
       "      <th>1</th>\n",
       "    </tr>\n",
       "    <tr>\n",
       "      <th>previously_insured</th>\n",
       "      <th></th>\n",
       "      <th></th>\n",
       "    </tr>\n",
       "  </thead>\n",
       "  <tbody>\n",
       "    <tr>\n",
       "      <th>0</th>\n",
       "      <td>0.774546</td>\n",
       "      <td>0.225454</td>\n",
       "    </tr>\n",
       "    <tr>\n",
       "      <th>1</th>\n",
       "      <td>0.999095</td>\n",
       "      <td>0.000905</td>\n",
       "    </tr>\n",
       "  </tbody>\n",
       "</table>\n",
       "</div>"
      ],
      "text/plain": [
       "response                   0         1\n",
       "previously_insured                    \n",
       "0                   0.774546  0.225454\n",
       "1                   0.999095  0.000905"
      ]
     },
     "execution_count": 29,
     "metadata": {},
     "output_type": "execute_result"
    }
   ],
   "source": [
    "pd.crosstab(df4['previously_insured'], df4['response']).apply(lambda x: x/x.sum(), axis=1)"
   ]
  },
  {
   "cell_type": "markdown",
   "id": "57a7af7e",
   "metadata": {
    "hidden": true
   },
   "source": [
    "A combinação (0,0) indica pessoas que não tinham seguro anteriormente e que também não querem este novo produto, 77% dos dados responderam esta alternativa. Para pessoas que anteriormente não tinham seguro e responderam que queriam o produto (0,1) foi de 22%. Das pessoas que já tinham seguro e não querem (1,0) foi de 99% e das que tem seguro e querem este novo produto, quase 0%. \n",
    "\n",
    "Vale salientar que aqui está sendo considerado pessoas que já tem um seguro de saúde anterior, então, faz sentido a porcentagem ser baixa. "
   ]
  },
  {
   "cell_type": "markdown",
   "id": "ec14fc48",
   "metadata": {
    "hidden": true
   },
   "source": [
    "### vehicle_age"
   ]
  },
  {
   "cell_type": "code",
   "execution_count": 30,
   "id": "68fee67f",
   "metadata": {
    "ExecuteTime": {
     "end_time": "2022-06-03T10:21:19.600549Z",
     "start_time": "2022-06-03T10:21:19.462515Z"
    },
    "hidden": true
   },
   "outputs": [
    {
     "data": {
      "text/html": [
       "<div>\n",
       "<style scoped>\n",
       "    .dataframe tbody tr th:only-of-type {\n",
       "        vertical-align: middle;\n",
       "    }\n",
       "\n",
       "    .dataframe tbody tr th {\n",
       "        vertical-align: top;\n",
       "    }\n",
       "\n",
       "    .dataframe thead th {\n",
       "        text-align: right;\n",
       "    }\n",
       "</style>\n",
       "<table border=\"1\" class=\"dataframe\">\n",
       "  <thead>\n",
       "    <tr style=\"text-align: right;\">\n",
       "      <th></th>\n",
       "      <th>vehicle_age</th>\n",
       "      <th>response</th>\n",
       "      <th>0</th>\n",
       "    </tr>\n",
       "  </thead>\n",
       "  <tbody>\n",
       "    <tr>\n",
       "      <th>0</th>\n",
       "      <td>below_1_year</td>\n",
       "      <td>0</td>\n",
       "      <td>0.413488</td>\n",
       "    </tr>\n",
       "    <tr>\n",
       "      <th>1</th>\n",
       "      <td>below_1_year</td>\n",
       "      <td>1</td>\n",
       "      <td>0.018897</td>\n",
       "    </tr>\n",
       "    <tr>\n",
       "      <th>2</th>\n",
       "      <td>between_1_2_year</td>\n",
       "      <td>0</td>\n",
       "      <td>0.434285</td>\n",
       "    </tr>\n",
       "    <tr>\n",
       "      <th>3</th>\n",
       "      <td>between_1_2_year</td>\n",
       "      <td>1</td>\n",
       "      <td>0.091328</td>\n",
       "    </tr>\n",
       "    <tr>\n",
       "      <th>4</th>\n",
       "      <td>over_2_years</td>\n",
       "      <td>0</td>\n",
       "      <td>0.029663</td>\n",
       "    </tr>\n",
       "    <tr>\n",
       "      <th>5</th>\n",
       "      <td>over_2_years</td>\n",
       "      <td>1</td>\n",
       "      <td>0.012338</td>\n",
       "    </tr>\n",
       "  </tbody>\n",
       "</table>\n",
       "</div>"
      ],
      "text/plain": [
       "        vehicle_age  response         0\n",
       "0      below_1_year         0  0.413488\n",
       "1      below_1_year         1  0.018897\n",
       "2  between_1_2_year         0  0.434285\n",
       "3  between_1_2_year         1  0.091328\n",
       "4      over_2_years         0  0.029663\n",
       "5      over_2_years         1  0.012338"
      ]
     },
     "execution_count": 30,
     "metadata": {},
     "output_type": "execute_result"
    }
   ],
   "source": [
    "df4[['vehicle_age', 'response']].value_counts(normalize=True, sort=False).reset_index()"
   ]
  },
  {
   "cell_type": "markdown",
   "id": "b0e5c8c5",
   "metadata": {
    "hidden": true
   },
   "source": [
    "Então, pessoas com carros com idade abaixo de 1 anos, 41% responderam não querer seguro, enquanto 1,8% respondeu que querem. O mesmo se segue para as outras variáveis, uma taxa de rejeição muito alta, exceto para situação em que os carros tem mais de 2 anos. A princípio, a situação em que há uma discriminação dos valores mais clara ajude o modelo, entretanto, é necessário ver o efeito na hora de implementar mais a frente."
   ]
  },
  {
   "cell_type": "markdown",
   "id": "20ab3ea7",
   "metadata": {
    "hidden": true
   },
   "source": [
    "### vehicle_damage"
   ]
  },
  {
   "cell_type": "code",
   "execution_count": null,
   "id": "eb0dc106",
   "metadata": {
    "hidden": true
   },
   "outputs": [],
   "source": []
  },
  {
   "cell_type": "markdown",
   "id": "c3f6978e",
   "metadata": {
    "hidden": true
   },
   "source": [
    "### gender"
   ]
  },
  {
   "cell_type": "code",
   "execution_count": null,
   "id": "e7776137",
   "metadata": {
    "hidden": true
   },
   "outputs": [],
   "source": []
  },
  {
   "cell_type": "markdown",
   "id": "1a15010a",
   "metadata": {
    "hidden": true
   },
   "source": [
    "### vintage"
   ]
  },
  {
   "cell_type": "code",
   "execution_count": 31,
   "id": "6c1011e0",
   "metadata": {
    "ExecuteTime": {
     "end_time": "2022-06-03T10:21:19.949730Z",
     "start_time": "2022-06-03T10:21:19.606549Z"
    },
    "hidden": true
   },
   "outputs": [
    {
     "data": {
      "text/plain": [
       "<AxesSubplot:xlabel='response', ylabel='vintage'>"
      ]
     },
     "execution_count": 31,
     "metadata": {},
     "output_type": "execute_result"
    },
    {
     "data": {
      "image/png": "[encoded data removed]",
      "text/plain": [
       "<Figure size 432x288 with 1 Axes>"
      ]
     },
     "metadata": {
      "needs_background": "light"
     },
     "output_type": "display_data"
    }
   ],
   "source": [
    "sns.boxplot(x='response', y='vintage', data=df4)"
   ]
  },
  {
   "cell_type": "code",
   "execution_count": 32,
   "id": "abc964a1",
   "metadata": {
    "ExecuteTime": {
     "end_time": "2022-06-03T10:21:21.186118Z",
     "start_time": "2022-06-03T10:21:19.953639Z"
    },
    "hidden": true
   },
   "outputs": [
    {
     "data": {
      "text/plain": [
       "<AxesSubplot:xlabel='vintage', ylabel='Count'>"
      ]
     },
     "execution_count": 32,
     "metadata": {},
     "output_type": "execute_result"
    },
    {
     "data": {
      "image/png": "[encoded data removed]",
      "text/plain": [
       "<Figure size 1008x576 with 2 Axes>"
      ]
     },
     "metadata": {
      "needs_background": "light"
     },
     "output_type": "display_data"
    }
   ],
   "source": [
    "plt.figure(figsize=(14, 8))\n",
    "\n",
    "plt.subplot(1,2,1)\n",
    "aux00 = df4.loc[df4['response'] == 0,'vintage']\n",
    "sns.histplot(aux00)\n",
    "\n",
    "plt.subplot(1,2,2)\n",
    "aux01 = df4.loc[df4['response'] == 1,'vintage']\n",
    "sns.histplot(aux01)"
   ]
  },
  {
   "cell_type": "markdown",
   "id": "5a055662",
   "metadata": {
    "hidden": true
   },
   "source": [
    "Vintage é exatamente o igual, isto se dá porque esta variável indica o tempo que as pessoas estão na base, isto é irrelevante para o modelo."
   ]
  },
  {
   "cell_type": "markdown",
   "id": "c6b62630",
   "metadata": {},
   "source": [
    "# 5.0 Data Preparation"
   ]
  },
  {
   "cell_type": "code",
   "execution_count": 33,
   "id": "b4c7f913",
   "metadata": {
    "ExecuteTime": {
     "end_time": "2022-06-03T10:21:21.234100Z",
     "start_time": "2022-06-03T10:21:21.191092Z"
    }
   },
   "outputs": [],
   "source": [
    "df5 = df4.copy()"
   ]
  },
  {
   "cell_type": "code",
   "execution_count": 34,
   "id": "cb64eee2",
   "metadata": {
    "ExecuteTime": {
     "end_time": "2022-06-03T10:21:21.505367Z",
     "start_time": "2022-06-03T10:21:21.239105Z"
    }
   },
   "outputs": [],
   "source": [
    "X = df4.drop('response', axis=1)\n",
    "y = df4['response'].copy()\n",
    "\n",
    "x_train, x_validation, y_train, y_validation = ms.train_test_split(X, y, test_size=0.20)\n",
    "\n",
    "df5 = pd.concat([x_train, y_train], axis=1)"
   ]
  },
  {
   "cell_type": "markdown",
   "id": "b7eb4c05",
   "metadata": {},
   "source": [
    "## 5.1 Standardization"
   ]
  },
  {
   "cell_type": "code",
   "execution_count": 35,
   "id": "649e1493",
   "metadata": {
    "ExecuteTime": {
     "end_time": "2022-06-03T10:21:21.585382Z",
     "start_time": "2022-06-03T10:21:21.510266Z"
    }
   },
   "outputs": [],
   "source": [
    "ss = pp.StandardScaler()\n",
    "# annual_premium\n",
    "df5['annual_premium'] = ss.fit_transform(df5[['annual_premium']].values)"
   ]
  },
  {
   "cell_type": "code",
   "execution_count": 36,
   "id": "918a7c4a",
   "metadata": {
    "ExecuteTime": {
     "end_time": "2022-06-03T10:21:21.617293Z",
     "start_time": "2022-06-03T10:21:21.590358Z"
    }
   },
   "outputs": [
    {
     "data": {
      "text/plain": [
       "Index(['id', 'gender', 'age', 'driving_license', 'region_code',\n",
       "       'previously_insured', 'vehicle_age', 'vehicle_damage', 'annual_premium',\n",
       "       'policy_sales_channel', 'vintage', 'response'],\n",
       "      dtype='object')"
      ]
     },
     "execution_count": 36,
     "metadata": {},
     "output_type": "execute_result"
    }
   ],
   "source": [
    "df5.columns"
   ]
  },
  {
   "cell_type": "markdown",
   "id": "05ba3512",
   "metadata": {
    "ExecuteTime": {
     "end_time": "2022-05-31T09:42:41.813374Z",
     "start_time": "2022-05-31T09:42:41.793369Z"
    }
   },
   "source": [
    "## 5.2 Rescaling"
   ]
  },
  {
   "cell_type": "code",
   "execution_count": 37,
   "id": "e6e8c79d",
   "metadata": {
    "ExecuteTime": {
     "end_time": "2022-06-03T10:21:21.729405Z",
     "start_time": "2022-06-03T10:21:21.623293Z"
    }
   },
   "outputs": [],
   "source": [
    "mms_age = pp.MinMaxScaler()\n",
    "mms_vintage = pp.MinMaxScaler()\n",
    "\n",
    "# age\n",
    "df5['age'] = mms_age.fit_transform(df5[['age']].values)\n",
    "\n",
    "# vintage\n",
    "df5['vintage'] = mms_age.fit_transform(df5[['vintage']].values)"
   ]
  },
  {
   "cell_type": "markdown",
   "id": "333df286",
   "metadata": {},
   "source": [
    "## 5.3 Encoder"
   ]
  },
  {
   "cell_type": "code",
   "execution_count": 38,
   "id": "64c1d979",
   "metadata": {
    "ExecuteTime": {
     "end_time": "2022-06-03T10:21:22.047506Z",
     "start_time": "2022-06-03T10:21:21.735322Z"
    }
   },
   "outputs": [],
   "source": [
    "# gender - One Hot Encoding / Target Encoding\n",
    "target_encoding_gender = df5.groupby('gender')['response'].mean()\n",
    "df5.loc[:, 'gender'] = df5['gender'].map(target_encoding_gender)\n",
    "\n",
    "# region_code - Frequency Enconding / Target Encoding\n",
    "target_encoding_region_code = df5.groupby('region_code')['response'].mean()\n",
    "df5.loc[:, 'region_code'] = df5['region_code'].map(target_encoding_region_code)\n",
    "# a target encoding nada mais é que a média da variável, também é conhecida como “mean” encoding.\n",
    "\n",
    "# vehicle_age - One Hot Encoding / Order Encoding / Frequency Encoding\n",
    "df5 = pd.get_dummies(df5, prefix='vehicle_age', columns=['vehicle_age'])\n",
    "\n",
    "# policy_sales_channel - Target Encoding / Frequency Encoding\n",
    "frequency_encoding_policy_sales_channel = df5.groupby('policy_sales_channel').size() / len(df5)\n",
    "df5.loc[:,'policy_sales_channel'] = df5['policy_sales_channel'].map(frequency_encoding_policy_sales_channel)\n",
    "# Frequency Encoding está contando quanto cada categoria de policy sales channel tem e dividindo pelo total, \n",
    "# é uma frequencia de aparição. Quanto mais vezes ela aparece, maior o peso da categoria para a variável."
   ]
  },
  {
   "cell_type": "code",
   "execution_count": 39,
   "id": "0386b402",
   "metadata": {
    "ExecuteTime": {
     "end_time": "2022-06-03T10:21:22.095533Z",
     "start_time": "2022-06-03T10:21:22.051401Z"
    }
   },
   "outputs": [
    {
     "data": {
      "text/html": [
       "<div>\n",
       "<style scoped>\n",
       "    .dataframe tbody tr th:only-of-type {\n",
       "        vertical-align: middle;\n",
       "    }\n",
       "\n",
       "    .dataframe tbody tr th {\n",
       "        vertical-align: top;\n",
       "    }\n",
       "\n",
       "    .dataframe thead th {\n",
       "        text-align: right;\n",
       "    }\n",
       "</style>\n",
       "<table border=\"1\" class=\"dataframe\">\n",
       "  <thead>\n",
       "    <tr style=\"text-align: right;\">\n",
       "      <th></th>\n",
       "      <th>id</th>\n",
       "      <th>gender</th>\n",
       "      <th>age</th>\n",
       "      <th>driving_license</th>\n",
       "      <th>region_code</th>\n",
       "      <th>previously_insured</th>\n",
       "      <th>vehicle_damage</th>\n",
       "      <th>annual_premium</th>\n",
       "      <th>policy_sales_channel</th>\n",
       "      <th>vintage</th>\n",
       "      <th>response</th>\n",
       "      <th>vehicle_age_below_1_year</th>\n",
       "      <th>vehicle_age_between_1_2_year</th>\n",
       "      <th>vehicle_age_over_2_years</th>\n",
       "    </tr>\n",
       "  </thead>\n",
       "  <tbody>\n",
       "    <tr>\n",
       "      <th>34802</th>\n",
       "      <td>34803</td>\n",
       "      <td>0.138640</td>\n",
       "      <td>0.569231</td>\n",
       "      <td>1</td>\n",
       "      <td>0.187307</td>\n",
       "      <td>0</td>\n",
       "      <td>1</td>\n",
       "      <td>-1.623494</td>\n",
       "      <td>0.025990</td>\n",
       "      <td>0.750865</td>\n",
       "      <td>1</td>\n",
       "      <td>0</td>\n",
       "      <td>1</td>\n",
       "      <td>0</td>\n",
       "    </tr>\n",
       "    <tr>\n",
       "      <th>315762</th>\n",
       "      <td>315763</td>\n",
       "      <td>0.138640</td>\n",
       "      <td>0.707692</td>\n",
       "      <td>1</td>\n",
       "      <td>0.124407</td>\n",
       "      <td>0</td>\n",
       "      <td>0</td>\n",
       "      <td>-1.623494</td>\n",
       "      <td>0.193632</td>\n",
       "      <td>0.186851</td>\n",
       "      <td>0</td>\n",
       "      <td>0</td>\n",
       "      <td>1</td>\n",
       "      <td>0</td>\n",
       "    </tr>\n",
       "    <tr>\n",
       "      <th>266557</th>\n",
       "      <td>266558</td>\n",
       "      <td>0.138640</td>\n",
       "      <td>0.030769</td>\n",
       "      <td>1</td>\n",
       "      <td>0.110027</td>\n",
       "      <td>1</td>\n",
       "      <td>0</td>\n",
       "      <td>0.265517</td>\n",
       "      <td>0.353492</td>\n",
       "      <td>0.858131</td>\n",
       "      <td>0</td>\n",
       "      <td>1</td>\n",
       "      <td>0</td>\n",
       "      <td>0</td>\n",
       "    </tr>\n",
       "    <tr>\n",
       "      <th>127856</th>\n",
       "      <td>127857</td>\n",
       "      <td>0.104262</td>\n",
       "      <td>0.353846</td>\n",
       "      <td>1</td>\n",
       "      <td>0.187307</td>\n",
       "      <td>1</td>\n",
       "      <td>0</td>\n",
       "      <td>1.055986</td>\n",
       "      <td>0.353492</td>\n",
       "      <td>0.840830</td>\n",
       "      <td>0</td>\n",
       "      <td>0</td>\n",
       "      <td>1</td>\n",
       "      <td>0</td>\n",
       "    </tr>\n",
       "    <tr>\n",
       "      <th>379632</th>\n",
       "      <td>379633</td>\n",
       "      <td>0.104262</td>\n",
       "      <td>0.061538</td>\n",
       "      <td>1</td>\n",
       "      <td>0.082787</td>\n",
       "      <td>0</td>\n",
       "      <td>1</td>\n",
       "      <td>0.742042</td>\n",
       "      <td>0.353492</td>\n",
       "      <td>0.692042</td>\n",
       "      <td>0</td>\n",
       "      <td>1</td>\n",
       "      <td>0</td>\n",
       "      <td>0</td>\n",
       "    </tr>\n",
       "  </tbody>\n",
       "</table>\n",
       "</div>"
      ],
      "text/plain": [
       "            id    gender       age  driving_license  region_code  \\\n",
       "34802    34803  0.138640  0.569231                1     0.187307   \n",
       "315762  315763  0.138640  0.707692                1     0.124407   \n",
       "266557  266558  0.138640  0.030769                1     0.110027   \n",
       "127856  127857  0.104262  0.353846                1     0.187307   \n",
       "379632  379633  0.104262  0.061538                1     0.082787   \n",
       "\n",
       "        previously_insured  vehicle_damage  annual_premium  \\\n",
       "34802                    0               1       -1.623494   \n",
       "315762                   0               0       -1.623494   \n",
       "266557                   1               0        0.265517   \n",
       "127856                   1               0        1.055986   \n",
       "379632                   0               1        0.742042   \n",
       "\n",
       "        policy_sales_channel   vintage  response  vehicle_age_below_1_year  \\\n",
       "34802               0.025990  0.750865         1                         0   \n",
       "315762              0.193632  0.186851         0                         0   \n",
       "266557              0.353492  0.858131         0                         1   \n",
       "127856              0.353492  0.840830         0                         0   \n",
       "379632              0.353492  0.692042         0                         1   \n",
       "\n",
       "        vehicle_age_between_1_2_year  vehicle_age_over_2_years  \n",
       "34802                              1                         0  \n",
       "315762                             1                         0  \n",
       "266557                             0                         0  \n",
       "127856                             1                         0  \n",
       "379632                             0                         0  "
      ]
     },
     "execution_count": 39,
     "metadata": {},
     "output_type": "execute_result"
    }
   ],
   "source": [
    "df5.head()"
   ]
  },
  {
   "cell_type": "markdown",
   "id": "2674265e",
   "metadata": {},
   "source": [
    "## 5.4 Validation Preparation"
   ]
  },
  {
   "cell_type": "code",
   "execution_count": 40,
   "id": "662359ba",
   "metadata": {
    "ExecuteTime": {
     "end_time": "2022-06-03T10:21:22.254465Z",
     "start_time": "2022-06-03T10:21:22.101412Z"
    }
   },
   "outputs": [],
   "source": [
    "# gender\n",
    "x_validation.loc[:, 'gender'] = x_validation.loc[:,'gender'].map(target_encoding_gender)\n",
    "\n",
    "# age\n",
    "x_validation.loc[:, 'age'] = mms_age.transform(x_validation[['age']].values)\n",
    "\n",
    "# region_code\n",
    "x_validation.loc[:,'region_code'] = x_validation.loc[:, 'region_code'].map(target_encoding_region_code)\n",
    "\n",
    "# vehicle_age\n",
    "x_validation = pd.get_dummies(x_validation, prefix='vehicle_age', columns=['vehicle_age'])\n",
    "\n",
    "# annual_premium\n",
    "x_validation['annual_premium'] = ss.fit_transform(x_validation[['annual_premium']].values)\n",
    "\n",
    "# policy_sales_channel\n",
    "x_validation.loc[:,'policy_sales_channel'] = x_validation['policy_sales_channel'].map(frequency_encoding_policy_sales_channel)\n",
    "\n",
    "# vintage\n",
    "x_validation['vintage'] = mms_age.fit_transform(x_validation[['vintage']].values)\n",
    "\n",
    "# fillna\n",
    "x_validation = x_validation.fillna(0) # tem regiões em region_code que após o target_encoding ficou com NA."
   ]
  },
  {
   "cell_type": "markdown",
   "id": "b0c865dc",
   "metadata": {},
   "source": [
    "# 6.0 Feature Selection"
   ]
  },
  {
   "cell_type": "markdown",
   "id": "bcceb4ba",
   "metadata": {},
   "source": [
    "## 6.2 Features Importancia"
   ]
  },
  {
   "cell_type": "code",
   "execution_count": 41,
   "id": "6df8f81e",
   "metadata": {
    "ExecuteTime": {
     "end_time": "2022-06-03T10:22:25.949201Z",
     "start_time": "2022-06-03T10:21:22.259453Z"
    }
   },
   "outputs": [
    {
     "data": {
      "text/html": [
       "<style>#sk-container-id-1 {color: black;background-color: white;}#sk-container-id-1 pre{padding: 0;}#sk-container-id-1 div.sk-toggleable {background-color: white;}#sk-container-id-1 label.sk-toggleable__label {cursor: pointer;display: block;width: 100%;margin-bottom: 0;padding: 0.3em;box-sizing: border-box;text-align: center;}#sk-container-id-1 label.sk-toggleable__label-arrow:before {content: \"▸\";float: left;margin-right: 0.25em;color: #696969;}#sk-container-id-1 label.sk-toggleable__label-arrow:hover:before {color: black;}#sk-container-id-1 div.sk-estimator:hover label.sk-toggleable__label-arrow:before {color: black;}#sk-container-id-1 div.sk-toggleable__content {max-height: 0;max-width: 0;overflow: hidden;text-align: left;background-color: #f0f8ff;}#sk-container-id-1 div.sk-toggleable__content pre {margin: 0.2em;color: black;border-radius: 0.25em;background-color: #f0f8ff;}#sk-container-id-1 input.sk-toggleable__control:checked~div.sk-toggleable__content {max-height: 200px;max-width: 100%;overflow: auto;}#sk-container-id-1 input.sk-toggleable__control:checked~label.sk-toggleable__label-arrow:before {content: \"▾\";}#sk-container-id-1 div.sk-estimator input.sk-toggleable__control:checked~label.sk-toggleable__label {background-color: #d4ebff;}#sk-container-id-1 div.sk-label input.sk-toggleable__control:checked~label.sk-toggleable__label {background-color: #d4ebff;}#sk-container-id-1 input.sk-hidden--visually {border: 0;clip: rect(1px 1px 1px 1px);clip: rect(1px, 1px, 1px, 1px);height: 1px;margin: -1px;overflow: hidden;padding: 0;position: absolute;width: 1px;}#sk-container-id-1 div.sk-estimator {font-family: monospace;background-color: #f0f8ff;border: 1px dotted black;border-radius: 0.25em;box-sizing: border-box;margin-bottom: 0.5em;}#sk-container-id-1 div.sk-estimator:hover {background-color: #d4ebff;}#sk-container-id-1 div.sk-parallel-item::after {content: \"\";width: 100%;border-bottom: 1px solid gray;flex-grow: 1;}#sk-container-id-1 div.sk-label:hover label.sk-toggleable__label {background-color: #d4ebff;}#sk-container-id-1 div.sk-serial::before {content: \"\";position: absolute;border-left: 1px solid gray;box-sizing: border-box;top: 0;bottom: 0;left: 50%;z-index: 0;}#sk-container-id-1 div.sk-serial {display: flex;flex-direction: column;align-items: center;background-color: white;padding-right: 0.2em;padding-left: 0.2em;position: relative;}#sk-container-id-1 div.sk-item {position: relative;z-index: 1;}#sk-container-id-1 div.sk-parallel {display: flex;align-items: stretch;justify-content: center;background-color: white;position: relative;}#sk-container-id-1 div.sk-item::before, #sk-container-id-1 div.sk-parallel-item::before {content: \"\";position: absolute;border-left: 1px solid gray;box-sizing: border-box;top: 0;bottom: 0;left: 50%;z-index: -1;}#sk-container-id-1 div.sk-parallel-item {display: flex;flex-direction: column;z-index: 1;position: relative;background-color: white;}#sk-container-id-1 div.sk-parallel-item:first-child::after {align-self: flex-end;width: 50%;}#sk-container-id-1 div.sk-parallel-item:last-child::after {align-self: flex-start;width: 50%;}#sk-container-id-1 div.sk-parallel-item:only-child::after {width: 0;}#sk-container-id-1 div.sk-dashed-wrapped {border: 1px dashed gray;margin: 0 0.4em 0.5em 0.4em;box-sizing: border-box;padding-bottom: 0.4em;background-color: white;}#sk-container-id-1 div.sk-label label {font-family: monospace;font-weight: bold;display: inline-block;line-height: 1.2em;}#sk-container-id-1 div.sk-label-container {text-align: center;}#sk-container-id-1 div.sk-container {/* jupyter's `normalize.less` sets `[hidden] { display: none; }` but bootstrap.min.css set `[hidden] { display: none !important; }` so we also need the `!important` here to be able to override the default hidden behavior on the sphinx rendered scikit-learn.org. See: https://github.com/scikit-learn/scikit-learn/issues/21755 */display: inline-block !important;position: relative;}#sk-container-id-1 div.sk-text-repr-fallback {display: none;}</style><div id=\"sk-container-id-1\" class=\"sk-top-container\"><div class=\"sk-text-repr-fallback\"><pre>ExtraTreesClassifier(n_estimators=250, n_jobs=-1, random_state=0)</pre><b>In a Jupyter environment, please rerun this cell to show the HTML representation or trust the notebook. <br />On GitHub, the HTML representation is unable to render, please try loading this page with nbviewer.org.</b></div><div class=\"sk-container\" hidden><div class=\"sk-item\"><div class=\"sk-estimator sk-toggleable\"><input class=\"sk-toggleable__control sk-hidden--visually\" id=\"sk-estimator-id-1\" type=\"checkbox\" checked><label for=\"sk-estimator-id-1\" class=\"sk-toggleable__label sk-toggleable__label-arrow\">ExtraTreesClassifier</label><div class=\"sk-toggleable__content\"><pre>ExtraTreesClassifier(n_estimators=250, n_jobs=-1, random_state=0)</pre></div></div></div></div></div>"
      ],
      "text/plain": [
       "ExtraTreesClassifier(n_estimators=250, n_jobs=-1, random_state=0)"
      ]
     },
     "execution_count": 41,
     "metadata": {},
     "output_type": "execute_result"
    }
   ],
   "source": [
    "# model definition\n",
    "forest = en.ExtraTreesClassifier(n_estimators = 250, random_state=0, n_jobs=-1)\n",
    "\n",
    "# data preparation\n",
    "x_train_n = df5.drop(['id', 'response'], axis=1)\n",
    "y_train_n = y_train.values\n",
    "forest.fit(x_train_n, y_train_n)"
   ]
  },
  {
   "cell_type": "code",
   "execution_count": 42,
   "id": "4ac2592d",
   "metadata": {
    "ExecuteTime": {
     "end_time": "2022-06-03T10:22:28.102741Z",
     "start_time": "2022-06-03T10:22:25.955193Z"
    }
   },
   "outputs": [
    {
     "name": "stdout",
     "output_type": "stream",
     "text": [
      "Feature Ranking\n",
      "                        feature  importance\n",
      "0                       vintage    0.272871\n",
      "0                annual_premium    0.244056\n",
      "0                           age    0.164902\n",
      "0                   region_code    0.105719\n",
      "0                vehicle_damage    0.068890\n",
      "0          policy_sales_channel    0.060348\n",
      "0            previously_insured    0.055514\n",
      "0      vehicle_age_below_1_year    0.014172\n",
      "0  vehicle_age_between_1_2_year    0.006077\n",
      "0                        gender    0.004823\n",
      "0      vehicle_age_over_2_years    0.002117\n",
      "0               driving_license    0.000509\n"
     ]
    },
    {
     "data": {
      "image/png": "[encoded data removed]",
      "text/plain": [
       "<Figure size 432x288 with 1 Axes>"
      ]
     },
     "metadata": {
      "needs_background": "light"
     },
     "output_type": "display_data"
    }
   ],
   "source": [
    "importances = forest.feature_importances_\n",
    "std = np.std([tree.feature_importances_ for tree in forest.estimators_], axis=0)\n",
    "indices = np.argsort(importances)[::-1]\n",
    "\n",
    "# print the feature ranking\n",
    "print('Feature Ranking')\n",
    "df = pd.DataFrame()\n",
    "\n",
    "for i,j in zip(x_train_n, forest.feature_importances_):\n",
    "    aux = pd.DataFrame({'feature': i, 'importance': j}, index=[0])\n",
    "    df = pd.concat([df, aux], axis=0)\n",
    "\n",
    "print(df.sort_values('importance', ascending=False))\n",
    "\n",
    "# plot the impurity-based feature importance of the forest\n",
    "plt.figure()\n",
    "plt.title('Feature Importance')\n",
    "plt.bar(range(x_train_n.shape[1]), importances[indices], color='r', yerr=std[indices], align='center')\n",
    "plt.xticks(range(x_train_n.shape[1]), indices)\n",
    "plt.xlim([-1, x_train_n.shape[1]])\n",
    "plt.show()"
   ]
  },
  {
   "cell_type": "markdown",
   "id": "d9590974",
   "metadata": {},
   "source": [
    "As features que explicam até 5% do fenômeno serão selecionadas aqui. "
   ]
  },
  {
   "cell_type": "markdown",
   "id": "a8d5a693",
   "metadata": {},
   "source": [
    "# 7.0 Machine Learning Model"
   ]
  },
  {
   "cell_type": "code",
   "execution_count": 43,
   "id": "38de2e20",
   "metadata": {
    "ExecuteTime": {
     "end_time": "2022-06-03T10:22:28.181757Z",
     "start_time": "2022-06-03T10:22:28.108743Z"
    }
   },
   "outputs": [
    {
     "data": {
      "text/html": [
       "<div>\n",
       "<style scoped>\n",
       "    .dataframe tbody tr th:only-of-type {\n",
       "        vertical-align: middle;\n",
       "    }\n",
       "\n",
       "    .dataframe tbody tr th {\n",
       "        vertical-align: top;\n",
       "    }\n",
       "\n",
       "    .dataframe thead th {\n",
       "        text-align: right;\n",
       "    }\n",
       "</style>\n",
       "<table border=\"1\" class=\"dataframe\">\n",
       "  <thead>\n",
       "    <tr style=\"text-align: right;\">\n",
       "      <th></th>\n",
       "      <th>id</th>\n",
       "      <th>gender</th>\n",
       "      <th>age</th>\n",
       "      <th>driving_license</th>\n",
       "      <th>region_code</th>\n",
       "      <th>previously_insured</th>\n",
       "      <th>vehicle_damage</th>\n",
       "      <th>annual_premium</th>\n",
       "      <th>policy_sales_channel</th>\n",
       "      <th>vintage</th>\n",
       "      <th>vehicle_age_below_1_year</th>\n",
       "      <th>vehicle_age_between_1_2_year</th>\n",
       "      <th>vehicle_age_over_2_years</th>\n",
       "    </tr>\n",
       "  </thead>\n",
       "  <tbody>\n",
       "    <tr>\n",
       "      <th>303324</th>\n",
       "      <td>303325</td>\n",
       "      <td>0.138640</td>\n",
       "      <td>0.141869</td>\n",
       "      <td>1</td>\n",
       "      <td>0.095257</td>\n",
       "      <td>1</td>\n",
       "      <td>0</td>\n",
       "      <td>-0.436530</td>\n",
       "      <td>0.209182</td>\n",
       "      <td>0.927336</td>\n",
       "      <td>0</td>\n",
       "      <td>1</td>\n",
       "      <td>0</td>\n",
       "    </tr>\n",
       "    <tr>\n",
       "      <th>122249</th>\n",
       "      <td>122250</td>\n",
       "      <td>0.138640</td>\n",
       "      <td>0.148789</td>\n",
       "      <td>1</td>\n",
       "      <td>0.187307</td>\n",
       "      <td>0</td>\n",
       "      <td>1</td>\n",
       "      <td>0.187328</td>\n",
       "      <td>0.193632</td>\n",
       "      <td>0.955017</td>\n",
       "      <td>0</td>\n",
       "      <td>1</td>\n",
       "      <td>0</td>\n",
       "    </tr>\n",
       "    <tr>\n",
       "      <th>210818</th>\n",
       "      <td>210819</td>\n",
       "      <td>0.104262</td>\n",
       "      <td>0.072664</td>\n",
       "      <td>1</td>\n",
       "      <td>0.129839</td>\n",
       "      <td>0</td>\n",
       "      <td>1</td>\n",
       "      <td>-0.047039</td>\n",
       "      <td>0.353492</td>\n",
       "      <td>0.688581</td>\n",
       "      <td>1</td>\n",
       "      <td>0</td>\n",
       "      <td>0</td>\n",
       "    </tr>\n",
       "    <tr>\n",
       "      <th>290867</th>\n",
       "      <td>290868</td>\n",
       "      <td>0.104262</td>\n",
       "      <td>0.055363</td>\n",
       "      <td>1</td>\n",
       "      <td>0.152189</td>\n",
       "      <td>0</td>\n",
       "      <td>1</td>\n",
       "      <td>-1.620305</td>\n",
       "      <td>0.015806</td>\n",
       "      <td>0.581315</td>\n",
       "      <td>0</td>\n",
       "      <td>1</td>\n",
       "      <td>0</td>\n",
       "    </tr>\n",
       "    <tr>\n",
       "      <th>310996</th>\n",
       "      <td>310997</td>\n",
       "      <td>0.104262</td>\n",
       "      <td>0.079585</td>\n",
       "      <td>1</td>\n",
       "      <td>0.104239</td>\n",
       "      <td>0</td>\n",
       "      <td>1</td>\n",
       "      <td>-0.381633</td>\n",
       "      <td>0.193632</td>\n",
       "      <td>0.422145</td>\n",
       "      <td>1</td>\n",
       "      <td>0</td>\n",
       "      <td>0</td>\n",
       "    </tr>\n",
       "    <tr>\n",
       "      <th>...</th>\n",
       "      <td>...</td>\n",
       "      <td>...</td>\n",
       "      <td>...</td>\n",
       "      <td>...</td>\n",
       "      <td>...</td>\n",
       "      <td>...</td>\n",
       "      <td>...</td>\n",
       "      <td>...</td>\n",
       "      <td>...</td>\n",
       "      <td>...</td>\n",
       "      <td>...</td>\n",
       "      <td>...</td>\n",
       "      <td>...</td>\n",
       "    </tr>\n",
       "    <tr>\n",
       "      <th>108345</th>\n",
       "      <td>108346</td>\n",
       "      <td>0.138640</td>\n",
       "      <td>0.152249</td>\n",
       "      <td>1</td>\n",
       "      <td>0.096730</td>\n",
       "      <td>0</td>\n",
       "      <td>1</td>\n",
       "      <td>0.334568</td>\n",
       "      <td>0.004133</td>\n",
       "      <td>0.837370</td>\n",
       "      <td>0</td>\n",
       "      <td>1</td>\n",
       "      <td>0</td>\n",
       "    </tr>\n",
       "    <tr>\n",
       "      <th>146414</th>\n",
       "      <td>146415</td>\n",
       "      <td>0.138640</td>\n",
       "      <td>0.186851</td>\n",
       "      <td>1</td>\n",
       "      <td>0.187307</td>\n",
       "      <td>0</td>\n",
       "      <td>1</td>\n",
       "      <td>2.462187</td>\n",
       "      <td>0.209182</td>\n",
       "      <td>0.159170</td>\n",
       "      <td>0</td>\n",
       "      <td>1</td>\n",
       "      <td>0</td>\n",
       "    </tr>\n",
       "    <tr>\n",
       "      <th>39718</th>\n",
       "      <td>39719</td>\n",
       "      <td>0.104262</td>\n",
       "      <td>0.141869</td>\n",
       "      <td>1</td>\n",
       "      <td>0.187307</td>\n",
       "      <td>0</td>\n",
       "      <td>1</td>\n",
       "      <td>0.432013</td>\n",
       "      <td>0.193632</td>\n",
       "      <td>0.266436</td>\n",
       "      <td>0</td>\n",
       "      <td>1</td>\n",
       "      <td>0</td>\n",
       "    </tr>\n",
       "    <tr>\n",
       "      <th>156011</th>\n",
       "      <td>156012</td>\n",
       "      <td>0.104262</td>\n",
       "      <td>0.048443</td>\n",
       "      <td>1</td>\n",
       "      <td>0.072321</td>\n",
       "      <td>0</td>\n",
       "      <td>1</td>\n",
       "      <td>-1.620305</td>\n",
       "      <td>0.353492</td>\n",
       "      <td>0.643599</td>\n",
       "      <td>1</td>\n",
       "      <td>0</td>\n",
       "      <td>0</td>\n",
       "    </tr>\n",
       "    <tr>\n",
       "      <th>121434</th>\n",
       "      <td>121435</td>\n",
       "      <td>0.138640</td>\n",
       "      <td>0.131488</td>\n",
       "      <td>1</td>\n",
       "      <td>0.187307</td>\n",
       "      <td>0</td>\n",
       "      <td>1</td>\n",
       "      <td>0.062174</td>\n",
       "      <td>0.193632</td>\n",
       "      <td>0.287197</td>\n",
       "      <td>0</td>\n",
       "      <td>1</td>\n",
       "      <td>0</td>\n",
       "    </tr>\n",
       "  </tbody>\n",
       "</table>\n",
       "<p>76222 rows × 13 columns</p>\n",
       "</div>"
      ],
      "text/plain": [
       "            id    gender       age  driving_license  region_code  \\\n",
       "303324  303325  0.138640  0.141869                1     0.095257   \n",
       "122249  122250  0.138640  0.148789                1     0.187307   \n",
       "210818  210819  0.104262  0.072664                1     0.129839   \n",
       "290867  290868  0.104262  0.055363                1     0.152189   \n",
       "310996  310997  0.104262  0.079585                1     0.104239   \n",
       "...        ...       ...       ...              ...          ...   \n",
       "108345  108346  0.138640  0.152249                1     0.096730   \n",
       "146414  146415  0.138640  0.186851                1     0.187307   \n",
       "39718    39719  0.104262  0.141869                1     0.187307   \n",
       "156011  156012  0.104262  0.048443                1     0.072321   \n",
       "121434  121435  0.138640  0.131488                1     0.187307   \n",
       "\n",
       "        previously_insured  vehicle_damage  annual_premium  \\\n",
       "303324                   1               0       -0.436530   \n",
       "122249                   0               1        0.187328   \n",
       "210818                   0               1       -0.047039   \n",
       "290867                   0               1       -1.620305   \n",
       "310996                   0               1       -0.381633   \n",
       "...                    ...             ...             ...   \n",
       "108345                   0               1        0.334568   \n",
       "146414                   0               1        2.462187   \n",
       "39718                    0               1        0.432013   \n",
       "156011                   0               1       -1.620305   \n",
       "121434                   0               1        0.062174   \n",
       "\n",
       "        policy_sales_channel   vintage  vehicle_age_below_1_year  \\\n",
       "303324              0.209182  0.927336                         0   \n",
       "122249              0.193632  0.955017                         0   \n",
       "210818              0.353492  0.688581                         1   \n",
       "290867              0.015806  0.581315                         0   \n",
       "310996              0.193632  0.422145                         1   \n",
       "...                      ...       ...                       ...   \n",
       "108345              0.004133  0.837370                         0   \n",
       "146414              0.209182  0.159170                         0   \n",
       "39718               0.193632  0.266436                         0   \n",
       "156011              0.353492  0.643599                         1   \n",
       "121434              0.193632  0.287197                         0   \n",
       "\n",
       "        vehicle_age_between_1_2_year  vehicle_age_over_2_years  \n",
       "303324                             1                         0  \n",
       "122249                             1                         0  \n",
       "210818                             0                         0  \n",
       "290867                             1                         0  \n",
       "310996                             0                         0  \n",
       "...                              ...                       ...  \n",
       "108345                             1                         0  \n",
       "146414                             1                         0  \n",
       "39718                              1                         0  \n",
       "156011                             0                         0  \n",
       "121434                             1                         0  \n",
       "\n",
       "[76222 rows x 13 columns]"
      ]
     },
     "execution_count": 43,
     "metadata": {},
     "output_type": "execute_result"
    }
   ],
   "source": [
    "x_validation"
   ]
  },
  {
   "cell_type": "code",
   "execution_count": 44,
   "id": "10c016b1",
   "metadata": {
    "ExecuteTime": {
     "end_time": "2022-06-03T10:22:28.229772Z",
     "start_time": "2022-06-03T10:22:28.186764Z"
    }
   },
   "outputs": [],
   "source": [
    "cols_selected = ['vintage', 'annual_premium', 'age', 'region_code', \n",
    "                 'vehicle_damage', 'policy_sales_channel', 'previously_insured']\n",
    "\n",
    "x_train = df5[cols_selected]\n",
    "x_val = x_validation[cols_selected]\n",
    "y_val = y_validation.copy()"
   ]
  },
  {
   "cell_type": "markdown",
   "id": "1fc37e22",
   "metadata": {},
   "source": [
    "## 7.1 KNN"
   ]
  },
  {
   "cell_type": "code",
   "execution_count": 45,
   "id": "a60c2072",
   "metadata": {
    "ExecuteTime": {
     "end_time": "2022-06-03T10:22:55.680865Z",
     "start_time": "2022-06-03T10:22:28.237776Z"
    }
   },
   "outputs": [],
   "source": [
    "# model definition\n",
    "knn_model = nh.KNeighborsClassifier(n_neighbors=7)\n",
    "\n",
    "# model training\n",
    "knn_model.fit(x_train, y_train)\n",
    "\n",
    "# model prediction - Poder de GENERALIZACAO\n",
    "yhat_knn = knn_model.predict_proba(x_val)"
   ]
  },
  {
   "cell_type": "code",
   "execution_count": 56,
   "id": "75d874fe",
   "metadata": {
    "ExecuteTime": {
     "end_time": "2022-06-03T10:35:03.901132Z",
     "start_time": "2022-06-03T10:35:03.082881Z"
    }
   },
   "outputs": [
    {
     "data": {
      "image/png": "[encoded data removed]",
      "text/plain": [
       "<Figure size 1080x360 with 1 Axes>"
      ]
     },
     "metadata": {
      "needs_background": "light"
     },
     "output_type": "display_data"
    },
    {
     "data": {
      "image/png": "[encoded data removed]",
      "text/plain": [
       "<Figure size 1080x360 with 1 Axes>"
      ]
     },
     "metadata": {
      "needs_background": "light"
     },
     "output_type": "display_data"
    }
   ],
   "source": [
    "# Accumulative Gain\n",
    "skplt.metrics.plot_cumulative_gain(y_val, yhat_knn, figsize=(15, 5), title='Cumulative Gains Curve - KNN');\n",
    "skplt.metrics.plot_lift_curve(y_val, yhat_knn, figsize=(15, 5), title='Lift Curve - KNN');"
   ]
  },
  {
   "cell_type": "markdown",
   "id": "d6207044",
   "metadata": {},
   "source": [
    "Este gráfico indica que se pegar o usuário, do dado de teste e calcular a probabilidade dele e olhar o primeiro usuário, definir se ele compraria ou não e fazer o acumulado disso, o plot é esta curva laranja. Abordando 20% da lista ordenada, alcançara 50% das pessoas interessadas. Quanto mais o modelo melhora, mais pessoas são atingidas na mesma porcentagem.\n",
    "\n",
    "Em suma, se houver uma lista com 100 pessoas, ligando para as 20 primeiras, existe uma chance de 60% de todos quererem o produto."
   ]
  },
  {
   "cell_type": "markdown",
   "id": "c7387538",
   "metadata": {},
   "source": [
    "## 7.2 Logistic Regression"
   ]
  },
  {
   "cell_type": "code",
   "execution_count": 47,
   "id": "ad545e60",
   "metadata": {
    "ExecuteTime": {
     "end_time": "2022-06-03T10:22:58.162490Z",
     "start_time": "2022-06-03T10:22:56.101870Z"
    }
   },
   "outputs": [],
   "source": [
    "# model definition\n",
    "lr_model = lm.LogisticRegression(random_state=42)\n",
    "\n",
    "# model training\n",
    "lr_model.fit(x_train, y_train)\n",
    "\n",
    "# model prediction - Poder de GENERALIZACAO\n",
    "yhat_lr = lr_model.predict_proba(x_val)"
   ]
  },
  {
   "cell_type": "code",
   "execution_count": 58,
   "id": "71c8d5a9",
   "metadata": {
    "ExecuteTime": {
     "end_time": "2022-06-03T10:35:41.724807Z",
     "start_time": "2022-06-03T10:35:40.685547Z"
    }
   },
   "outputs": [
    {
     "data": {
      "image/png": "[encoded data removed]",
      "text/plain": [
       "<Figure size 1080x360 with 1 Axes>"
      ]
     },
     "metadata": {
      "needs_background": "light"
     },
     "output_type": "display_data"
    },
    {
     "data": {
      "image/png": "[encoded data removed]",
      "text/plain": [
       "<Figure size 1080x360 with 1 Axes>"
      ]
     },
     "metadata": {
      "needs_background": "light"
     },
     "output_type": "display_data"
    }
   ],
   "source": [
    "# Accumulative Gain\n",
    "skplt.metrics.plot_cumulative_gain(y_val, yhat_lr, figsize=(15, 5), title='Cumulative Gains Curve - Logistic Regression');\n",
    "skplt.metrics.plot_lift_curve(y_val, yhat_lr, figsize=(15, 5), title='Lift Curve - Logistic Regression');"
   ]
  },
  {
   "cell_type": "markdown",
   "id": "6cdf1cb9",
   "metadata": {},
   "source": [
    "Então, em torno de 50% dos clientes abordados será selecionado 100% das pessoas que se interessam pelo produto. Assim, diminui-se o custo, uma vez que quanto maior a porcentagem da amostra, maior o custo. "
   ]
  },
  {
   "cell_type": "markdown",
   "id": "2a902c6a",
   "metadata": {},
   "source": [
    "## 7.3 Extra Tree"
   ]
  },
  {
   "cell_type": "code",
   "execution_count": 49,
   "id": "6301f1da",
   "metadata": {
    "ExecuteTime": {
     "end_time": "2022-06-03T10:28:40.165611Z",
     "start_time": "2022-06-03T10:22:58.566492Z"
    }
   },
   "outputs": [],
   "source": [
    "# model definition\n",
    "et = en.ExtraTreesClassifier(n_estimators = 1000, n_jobs=-1, random_state=42)\n",
    "\n",
    "# model fit\n",
    "et.fit(x_train,y_train)\n",
    "\n",
    "# model predict\n",
    "yhat_et = et.predict_proba(x_val)"
   ]
  },
  {
   "cell_type": "code",
   "execution_count": 59,
   "id": "f214cdc7",
   "metadata": {
    "ExecuteTime": {
     "end_time": "2022-06-03T10:36:04.389344Z",
     "start_time": "2022-06-03T10:36:03.577146Z"
    }
   },
   "outputs": [
    {
     "data": {
      "image/png": "[encoded data removed]",
      "text/plain": [
       "<Figure size 1080x360 with 1 Axes>"
      ]
     },
     "metadata": {
      "needs_background": "light"
     },
     "output_type": "display_data"
    },
    {
     "data": {
      "image/png": "[encoded data removed]",
      "text/plain": [
       "<Figure size 1080x360 with 1 Axes>"
      ]
     },
     "metadata": {
      "needs_background": "light"
     },
     "output_type": "display_data"
    }
   ],
   "source": [
    "# Accumulative Gain\n",
    "skplt.metrics.plot_cumulative_gain(y_val, yhat_et, figsize=(15, 5), title='Cumulative Gains Curve - Logistic Regression');\n",
    "skplt.metrics.plot_lift_curve(y_val, yhat_et, figsize=(15, 5), title='Lift Curve - Logistic Regression');"
   ]
  },
  {
   "cell_type": "markdown",
   "id": "3a417cf9",
   "metadata": {},
   "source": [
    "# 7.4 XGBoost"
   ]
  },
  {
   "cell_type": "code",
   "execution_count": 78,
   "id": "77016a68",
   "metadata": {
    "ExecuteTime": {
     "end_time": "2022-06-03T10:48:00.892343Z",
     "start_time": "2022-06-03T10:47:57.219412Z"
    }
   },
   "outputs": [],
   "source": [
    "# model definition\n",
    "xgb_model = xgb.XGBClassifier(n_estimators=11, max_depth=7)\n",
    "\n",
    "\n",
    "# XGB training\n",
    "xgb_model.fit(x_train,y_train)\n",
    "\n",
    "# XGB prediction - Generalization\n",
    "yhat_xgb = xgb_model.predict_proba(x_val)\n",
    "\n",
    "\n",
    "\n",
    "# model definition\n",
    "#et = en.ExtraTreesClassifier(n_estimators = 1000, n_jobs=-1, random_state=42)\n",
    "\n",
    "# model fit\n",
    "#et.fit(x_train,y_train)\n",
    "\n",
    "# model predict\n",
    "#yhat_et = et.predict_proba(x_val)"
   ]
  },
  {
   "cell_type": "code",
   "execution_count": 79,
   "id": "23e557fb",
   "metadata": {
    "ExecuteTime": {
     "end_time": "2022-06-03T10:48:03.329260Z",
     "start_time": "2022-06-03T10:48:02.536063Z"
    }
   },
   "outputs": [
    {
     "data": {
      "image/png": "[encoded data removed]",
      "text/plain": [
       "<Figure size 1080x360 with 1 Axes>"
      ]
     },
     "metadata": {
      "needs_background": "light"
     },
     "output_type": "display_data"
    },
    {
     "data": {
      "image/png": "[encoded data removed]",
      "text/plain": [
       "<Figure size 1080x360 with 1 Axes>"
      ]
     },
     "metadata": {
      "needs_background": "light"
     },
     "output_type": "display_data"
    }
   ],
   "source": [
    "# Accumulative gain - XGB\n",
    "skplt.metrics.plot_cumulative_gain(y_val, yhat_xgb, figsize=(15, 5), title='Cumulative Gains Curve - XGBoost')\n",
    "skplt.metrics.plot_lift_curve(y_val, yhat_xgb, figsize=(15, 5), title='Lift Curve - XGBoost');"
   ]
  },
  {
   "cell_type": "markdown",
   "id": "6ce6b76e",
   "metadata": {},
   "source": [
    "# 8.0 Model Performance"
   ]
  },
  {
   "cell_type": "code",
   "execution_count": 51,
   "id": "277ea855",
   "metadata": {
    "ExecuteTime": {
     "end_time": "2022-06-03T10:28:43.283067Z",
     "start_time": "2022-06-03T10:28:42.775936Z"
    }
   },
   "outputs": [],
   "source": [
    "df8 = x_validation.copy()\n",
    "df8['response'] = y_validation.copy()\n",
    "\n",
    "# propensity score\n",
    "df8['score'] = yhat_knn[:,1].tolist()\n",
    "\n",
    "# sort clients by propensity score\n",
    "df8 = df8.sort_values('score', ascending=False)\n",
    "\n",
    "# compute precision at k\n"
   ]
  },
  {
   "cell_type": "code",
   "execution_count": 52,
   "id": "6fe06e64",
   "metadata": {
    "ExecuteTime": {
     "end_time": "2022-06-03T10:28:43.411102Z",
     "start_time": "2022-06-03T10:28:43.301088Z"
    }
   },
   "outputs": [],
   "source": [
    "def precision_at_k(data, k=2000):\n",
    "    # reset index\n",
    "    data = data.reset_index(drop=True)\n",
    "\n",
    "    # creating ranking order\n",
    "    data['ranking'] = data.index+1\n",
    "\n",
    "    data['precision_at_k'] = data['response'].cumsum() / data['ranking']\n",
    "\n",
    "    data[['id', 'response', 'score', 'ranking', 'precision_at_k']].head()\n",
    "    \n",
    "    return data.loc[k,'precision_at_k']\n",
    "\n",
    "def recall_at_k(data, k=2000):\n",
    "    # reset index\n",
    "    data = data.reset_index(drop=True)\n",
    "\n",
    "    # creating ranking order\n",
    "    data['ranking'] = data.index+1\n",
    "\n",
    "    data['recall_at_k'] = data['response'].cumsum() / data['response'].sum()\n",
    "\n",
    "    data[['id', 'response', 'score', 'ranking', 'precision_at_k']].head()\n",
    "    \n",
    "    return data.loc[k,'recall_at_k']"
   ]
  },
  {
   "cell_type": "code",
   "execution_count": 53,
   "id": "23675907",
   "metadata": {
    "ExecuteTime": {
     "end_time": "2022-06-03T10:28:43.793193Z",
     "start_time": "2022-06-03T10:28:43.426104Z"
    }
   },
   "outputs": [
    {
     "name": "stdout",
     "output_type": "stream",
     "text": [
      "Pecision at K: 0.35294117647058826\n",
      "Recall at K: 0.0019442644199611147\n"
     ]
    }
   ],
   "source": [
    "# reset index\n",
    "df8 = df8.reset_index(drop=True)\n",
    "\n",
    "# creating ranking order\n",
    "df8['ranking'] = df8.index+1\n",
    "\n",
    "df8['precision_at_k'] = df8['response'].cumsum() / df8['ranking']\n",
    "\n",
    "df8[['id', 'response', 'score', 'ranking', 'precision_at_k']].head()\n",
    "\n",
    "# compute precision at k\n",
    "precision_at_50 = precision_at_k(df8,k=50)\n",
    "print(f'Pecision at K: {precision_at_50}')\n",
    "\n",
    "recall_at_50 = recall_at_k(df8,k=50)\n",
    "print(f'Recall at K: {recall_at_50}')"
   ]
  },
  {
   "cell_type": "markdown",
   "id": "457a8326",
   "metadata": {},
   "source": [
    "# 9.0 Deploy to Production"
   ]
  },
  {
   "cell_type": "markdown",
   "id": "0cb3ca03",
   "metadata": {},
   "source": [
    "# 9.1 Health Insurance Class"
   ]
  },
  {
   "cell_type": "code",
   "execution_count": null,
   "id": "8c260534",
   "metadata": {},
   "outputs": [],
   "source": []
  }
 ],
 "metadata": {
  "kernelspec": {
   "display_name": "Python 3 (ipykernel)",
   "language": "python",
   "name": "python3"
  },
  "language_info": {
   "codemirror_mode": {
    "name": "ipython",
    "version": 3
   },
   "file_extension": ".py",
   "mimetype": "text/x-python",
   "name": "python",
   "nbconvert_exporter": "python",
   "pygments_lexer": "ipython3",
   "version": "3.9.12"
  }
 },
 "nbformat": 4,
 "nbformat_minor": 5
}
