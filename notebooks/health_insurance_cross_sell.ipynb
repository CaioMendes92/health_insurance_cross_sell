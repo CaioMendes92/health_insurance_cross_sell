{
 "cells": [
  {
   "cell_type": "markdown",
   "id": "ef7b8b40",
   "metadata": {
    "heading_collapsed": true
   },
   "source": [
    "# Health Insurance Cross-Sell\n",
    "---"
   ]
  },
  {
   "cell_type": "markdown",
   "id": "6126cf74",
   "metadata": {
    "hidden": true
   },
   "source": [
    "Neste trabalho, estamos lidando com uma empresa que fornece seguros de saúde para os seus assegurados. Todos pagam um valor anual para ter direito ao seguro. O time de produto está querendo lançar um novo produto, que é um seguro de carro, entretanto, antes de lançar, eles querem saber se isto é viável e o quanto isto daria de dinheiro e para quem deveriam oferecer. Para solucionar isso, a equipe fez uma pesquisa entre seus assegurados perguntando se estas pessoas comprariam um seguro de automóvel ou não. Unindo as características que já se tem do cliente com a resposta de \"sim\" ou \"não\", é necessário tentar prever qual seria a resposta de pessoas que não participaram da pesquisa. O papel do cientista de dados é, a partir da base de dados que foi respondida, treinar um classificador para então saber se as pessoas novas comprariam um seguro de automóvel ou não.\n",
    "\n",
    "Existe uma limitação no problema, para fazer esta campanha, existe um limite de pessoas, foi definido pelo time de produtos que seria feito por contato direto, ou seja, ligação telefónica. Basicamente, o time de produtos vai passar uma lista para o time de comercial, que vai ligar para as pessoas e vai oferecer o seguro de automóvel. Entretanto, o time comercial tem um limite de apenas 2 mil ligações, então, entre as 127 mil pessoas que podem receber, precisamos construir uma lista priorizando as 2 mil pessoas com mais chances de conseguir que comprem o seguro. "
   ]
  },
  {
   "cell_type": "markdown",
   "id": "ca8d1d5a",
   "metadata": {
    "heading_collapsed": true
   },
   "source": [
    "# 0.0 Imports\n",
    "---"
   ]
  },
  {
   "cell_type": "code",
   "execution_count": 158,
   "id": "42c11cd8",
   "metadata": {
    "ExecuteTime": {
     "end_time": "2022-06-11T18:42:00.672487Z",
     "start_time": "2022-06-11T18:42:00.654481Z"
    },
    "hidden": true
   },
   "outputs": [],
   "source": [
    "import pickle\n",
    "import random\n",
    "import warnings\n",
    "\n",
    "import numpy             as np\n",
    "import pandas            as pd\n",
    "import seaborn           as sns\n",
    "import xgboost           as xgb\n",
    "import psycopg2          as pg\n",
    "import matplotlib.pyplot as plt\n",
    "import scikitplot        as skplt\n",
    "\n",
    "from sklearn.model_selection import StratifiedKFold\n",
    "\n",
    "from scipy   import stats           as ss\n",
    "from sklearn import preprocessing   as pp\n",
    "from sklearn import model_selection as ms\n",
    "from sklearn import ensemble        as en\n",
    "from sklearn import tree            as tr\n",
    "from sklearn import neighbors       as nh\n",
    "from sklearn import linear_model    as lm"
   ]
  },
  {
   "cell_type": "markdown",
   "id": "b7083657",
   "metadata": {
    "hidden": true
   },
   "source": [
    "## 0.1 Helper Functions\n",
    "---"
   ]
  },
  {
   "cell_type": "code",
   "execution_count": 159,
   "id": "af3bea26",
   "metadata": {
    "ExecuteTime": {
     "end_time": "2022-06-11T18:42:00.736500Z",
     "start_time": "2022-06-11T18:42:00.678490Z"
    },
    "hidden": true
   },
   "outputs": [],
   "source": [
    "# ignore warnings\n",
    "warnings.filterwarnings('ignore')\n",
    "\n",
    "def cramer_v(x,y):\n",
    "    cm = pd.crosstab(x, y).values\n",
    "    n = cm.sum()\n",
    "\n",
    "    r,k = cm.shape\n",
    "    \n",
    "    chi2 = ss.chi2_contingency( cm ) [0]\n",
    "    chi2corr = max(0, chi2 - (k-1)*(r-1)/(n-1) )\n",
    "    \n",
    "    kcorr = k - (k-1)**2/(n-1)\n",
    "    rcorr = r - (r-1)**2/(n-1)\n",
    "    \n",
    "    return np.sqrt( (chi2corr/n) / (min( (kcorr-1) , (rcorr-1) ) ) )\n",
    "\n",
    "\n",
    "def cross_validation(kfold, at_k, model, data,target,cols_selected):\n",
    "    \n",
    "    folds = ms.StratifiedKFold(n_splits=kfold,shuffle=True,random_state=42)\n",
    "    \n",
    "    precision = []\n",
    "    recall = []\n",
    "    \n",
    "    for train_index, test_index in folds.split(data,data[target]):\n",
    "        \n",
    "        train = data.iloc[train_index]\n",
    "        test = data.iloc[test_index]\n",
    "        \n",
    "        #train and test model - return model probas\n",
    "        yhat_model = model_evaluation(train,test,model,cols_selected,target)\n",
    "        \n",
    "        df_score = test.copy()\n",
    "        df_score['score'] = yhat_model[:,1].tolist()\n",
    "        df_score = df_score.sort_values('score',ascending=False)\n",
    "        \n",
    "        precision_model = precision_at_k(df_score,at_k)\n",
    "        recall_model = recall_at_k(df_score,at_k)\n",
    "        \n",
    "        precision.append(precision_model)\n",
    "        recall.append(recall_model)\n",
    "\n",
    "    mean_p = np.mean(precision)\n",
    "    std_p = np.std(precision)\n",
    "    \n",
    "    mean_r = np.mean(recall)\n",
    "    std_r = np.std(recall)\n",
    "    \n",
    "    return mean_p, std_p, mean_r, std_r\n",
    "\n",
    "def model_evaluation(train,test,model,cols_selected,target):\n",
    "    x_train = train[cols_selected]\n",
    "    y_train = train[target]\n",
    "    \n",
    "    x_test = test[cols_selected]\n",
    "    \n",
    "    model.fit(x_train,y_train)\n",
    "    \n",
    "    yhat_model = model.predict_proba(x_test)\n",
    "    \n",
    "    return yhat_model\n",
    "\n",
    "def precision_at_k(data, k=5000):\n",
    "    data = data.reset_index(drop=True)\n",
    "    data['ranking'] = data.index+1\n",
    "\n",
    "    #computing precision at k score\n",
    "    data['precision_at_k'] = data['response'].cumsum()/data['ranking']\n",
    "    precision_at_k = data.loc[k,'precision_at_k']\n",
    "    \n",
    "    return precision_at_k\n",
    "\n",
    "\n",
    "def recall_at_k(data, k=5000):\n",
    "    data = data.reset_index(drop=True)\n",
    "    data['ranking'] = data.index+1\n",
    "\n",
    "    #computing recall at k score\n",
    "    data['recall_at_k'] = data['response'].cumsum()/data['response'].sum()\n",
    "    recall_at_k = data.loc[k,'recall_at_k']\n",
    "    \n",
    "    return recall_at_k\n"
   ]
  },
  {
   "cell_type": "markdown",
   "id": "f6ebcd48",
   "metadata": {
    "hidden": true
   },
   "source": [
    "## 0.1 Loading Data\n",
    "---"
   ]
  },
  {
   "cell_type": "code",
   "execution_count": 160,
   "id": "6d1719f1",
   "metadata": {
    "ExecuteTime": {
     "end_time": "2022-06-11T18:42:20.539872Z",
     "start_time": "2022-06-11T18:42:00.747507Z"
    },
    "hidden": true
   },
   "outputs": [
    {
     "data": {
      "text/html": [
       "<div>\n",
       "<style scoped>\n",
       "    .dataframe tbody tr th:only-of-type {\n",
       "        vertical-align: middle;\n",
       "    }\n",
       "\n",
       "    .dataframe tbody tr th {\n",
       "        vertical-align: top;\n",
       "    }\n",
       "\n",
       "    .dataframe thead th {\n",
       "        text-align: right;\n",
       "    }\n",
       "</style>\n",
       "<table border=\"1\" class=\"dataframe\">\n",
       "  <thead>\n",
       "    <tr style=\"text-align: right;\">\n",
       "      <th></th>\n",
       "      <th>gender</th>\n",
       "      <th>age</th>\n",
       "      <th>region_code</th>\n",
       "      <th>policy_sales_channel</th>\n",
       "      <th>driving_license</th>\n",
       "      <th>vehicle_age</th>\n",
       "      <th>vehicle_damage</th>\n",
       "      <th>previously_insured</th>\n",
       "      <th>annual_premium</th>\n",
       "      <th>vintage</th>\n",
       "      <th>response</th>\n",
       "      <th>id</th>\n",
       "    </tr>\n",
       "  </thead>\n",
       "  <tbody>\n",
       "    <tr>\n",
       "      <th>0</th>\n",
       "      <td>Male</td>\n",
       "      <td>23</td>\n",
       "      <td>11.0</td>\n",
       "      <td>152.0</td>\n",
       "      <td>1</td>\n",
       "      <td>&lt; 1 Year</td>\n",
       "      <td>Yes</td>\n",
       "      <td>0</td>\n",
       "      <td>23367.0</td>\n",
       "      <td>249</td>\n",
       "      <td>0</td>\n",
       "      <td>0</td>\n",
       "    </tr>\n",
       "    <tr>\n",
       "      <th>1</th>\n",
       "      <td>Female</td>\n",
       "      <td>41</td>\n",
       "      <td>15.0</td>\n",
       "      <td>14.0</td>\n",
       "      <td>1</td>\n",
       "      <td>1-2 Year</td>\n",
       "      <td>No</td>\n",
       "      <td>1</td>\n",
       "      <td>31409.0</td>\n",
       "      <td>221</td>\n",
       "      <td>0</td>\n",
       "      <td>1</td>\n",
       "    </tr>\n",
       "    <tr>\n",
       "      <th>2</th>\n",
       "      <td>Female</td>\n",
       "      <td>25</td>\n",
       "      <td>35.0</td>\n",
       "      <td>152.0</td>\n",
       "      <td>1</td>\n",
       "      <td>&lt; 1 Year</td>\n",
       "      <td>No</td>\n",
       "      <td>1</td>\n",
       "      <td>46622.0</td>\n",
       "      <td>299</td>\n",
       "      <td>0</td>\n",
       "      <td>2</td>\n",
       "    </tr>\n",
       "    <tr>\n",
       "      <th>3</th>\n",
       "      <td>Female</td>\n",
       "      <td>26</td>\n",
       "      <td>8.0</td>\n",
       "      <td>160.0</td>\n",
       "      <td>1</td>\n",
       "      <td>&lt; 1 Year</td>\n",
       "      <td>No</td>\n",
       "      <td>0</td>\n",
       "      <td>2630.0</td>\n",
       "      <td>136</td>\n",
       "      <td>0</td>\n",
       "      <td>3</td>\n",
       "    </tr>\n",
       "    <tr>\n",
       "      <th>4</th>\n",
       "      <td>Male</td>\n",
       "      <td>45</td>\n",
       "      <td>8.0</td>\n",
       "      <td>124.0</td>\n",
       "      <td>1</td>\n",
       "      <td>1-2 Year</td>\n",
       "      <td>Yes</td>\n",
       "      <td>0</td>\n",
       "      <td>42297.0</td>\n",
       "      <td>264</td>\n",
       "      <td>0</td>\n",
       "      <td>4</td>\n",
       "    </tr>\n",
       "  </tbody>\n",
       "</table>\n",
       "</div>"
      ],
      "text/plain": [
       "   gender  age  region_code  policy_sales_channel  driving_license  \\\n",
       "0    Male   23         11.0                 152.0                1   \n",
       "1  Female   41         15.0                  14.0                1   \n",
       "2  Female   25         35.0                 152.0                1   \n",
       "3  Female   26          8.0                 160.0                1   \n",
       "4    Male   45          8.0                 124.0                1   \n",
       "\n",
       "  vehicle_age vehicle_damage  previously_insured  annual_premium  vintage  \\\n",
       "0    < 1 Year            Yes                   0         23367.0      249   \n",
       "1    1-2 Year             No                   1         31409.0      221   \n",
       "2    < 1 Year             No                   1         46622.0      299   \n",
       "3    < 1 Year             No                   0          2630.0      136   \n",
       "4    1-2 Year            Yes                   0         42297.0      264   \n",
       "\n",
       "   response  id  \n",
       "0         0   0  \n",
       "1         0   1  \n",
       "2         0   2  \n",
       "3         0   3  \n",
       "4         0   4  "
      ]
     },
     "execution_count": 160,
     "metadata": {},
     "output_type": "execute_result"
    }
   ],
   "source": [
    "# read file with password\n",
    "file = open('C:/Users/ASPIREB E15/Downloads/Data Science/Health Insurance Cross Sell/notebooks/db_insurance.txt', 'r')\n",
    "\n",
    "# Creadentials\n",
    "host = 'comunidade-ds-postgres.c50pcakiuwi3.us-east-1.rds.amazonaws.com'\n",
    "port = 5432\n",
    "database = 'comunidadedsdb'\n",
    "username = 'member'\n",
    "PASSWORD = file.read()\n",
    "\n",
    "\n",
    "try: # Connect DB\n",
    "    conn = pg.connect(\n",
    "        host=host,port=port, database=database, user=username, password=PASSWORD\n",
    "    )\n",
    "    \n",
    "    # Query data\n",
    "    query = \"\"\"\n",
    "        SELECT *\n",
    "        FROM pa004.users u LEFT JOIN pa004.vehicle v on (u.id = v.id)\n",
    "                           LEFT JOIN pa004.insurance i on (u.id = i.id)  \n",
    "    \"\"\"\n",
    "    \n",
    "    # Read in sql and parse to Dataframe\n",
    "    df_raw = pd.read_sql(query, conn)\n",
    "    df_raw = df_raw.drop(df_raw.columns[[5]], axis=1)\n",
    "    df_raw['id'] = list(df_raw.index)\n",
    "    conn.close()\n",
    "    \n",
    "except Exception as e: # Connection Error  \n",
    "    print(\"Database connection failed due to {}\".format(e))\n",
    "\n",
    "df_raw.head()"
   ]
  },
  {
   "cell_type": "markdown",
   "id": "17b7b001",
   "metadata": {
    "heading_collapsed": true
   },
   "source": [
    "# 1.0 Data Description\n",
    "---"
   ]
  },
  {
   "cell_type": "code",
   "execution_count": 161,
   "id": "fc4da8b6",
   "metadata": {
    "ExecuteTime": {
     "end_time": "2022-06-11T18:42:20.731917Z",
     "start_time": "2022-06-11T18:42:20.545871Z"
    },
    "hidden": true
   },
   "outputs": [],
   "source": [
    "df1 = df_raw.copy()"
   ]
  },
  {
   "cell_type": "markdown",
   "id": "e230ab05",
   "metadata": {
    "hidden": true
   },
   "source": [
    "## 1.1 Data Dimension\n",
    "---"
   ]
  },
  {
   "cell_type": "code",
   "execution_count": 162,
   "id": "364c5d06",
   "metadata": {
    "ExecuteTime": {
     "end_time": "2022-06-11T18:42:20.763979Z",
     "start_time": "2022-06-11T18:42:20.737921Z"
    },
    "hidden": true
   },
   "outputs": [
    {
     "name": "stdout",
     "output_type": "stream",
     "text": [
      "Number of rows: 381109\n",
      "Number of columns: 12\n"
     ]
    }
   ],
   "source": [
    "print(f'Number of rows: {df1.shape[0]}')\n",
    "print(f'Number of columns: {df1.shape[1]}')"
   ]
  },
  {
   "cell_type": "markdown",
   "id": "4cd98b0b",
   "metadata": {
    "hidden": true
   },
   "source": [
    "## 1.2 Data Types\n",
    "---"
   ]
  },
  {
   "cell_type": "code",
   "execution_count": 163,
   "id": "d41b954e",
   "metadata": {
    "ExecuteTime": {
     "end_time": "2022-06-11T18:42:20.795922Z",
     "start_time": "2022-06-11T18:42:20.771927Z"
    },
    "hidden": true
   },
   "outputs": [
    {
     "data": {
      "text/plain": [
       "gender                   object\n",
       "age                       int64\n",
       "region_code             float64\n",
       "policy_sales_channel    float64\n",
       "driving_license           int64\n",
       "vehicle_age              object\n",
       "vehicle_damage           object\n",
       "previously_insured        int64\n",
       "annual_premium          float64\n",
       "vintage                   int64\n",
       "response                  int64\n",
       "id                        int64\n",
       "dtype: object"
      ]
     },
     "execution_count": 163,
     "metadata": {},
     "output_type": "execute_result"
    }
   ],
   "source": [
    "df1.dtypes"
   ]
  },
  {
   "cell_type": "markdown",
   "id": "cac67e77",
   "metadata": {
    "hidden": true
   },
   "source": [
    "## 1.3 Check NA\n",
    "---"
   ]
  },
  {
   "cell_type": "code",
   "execution_count": 164,
   "id": "505588a0",
   "metadata": {
    "ExecuteTime": {
     "end_time": "2022-06-11T18:42:21.173569Z",
     "start_time": "2022-06-11T18:42:20.806928Z"
    },
    "hidden": true
   },
   "outputs": [
    {
     "data": {
      "text/plain": [
       "gender                  0\n",
       "age                     0\n",
       "region_code             0\n",
       "policy_sales_channel    0\n",
       "driving_license         0\n",
       "vehicle_age             0\n",
       "vehicle_damage          0\n",
       "previously_insured      0\n",
       "annual_premium          0\n",
       "vintage                 0\n",
       "response                0\n",
       "id                      0\n",
       "dtype: int64"
      ]
     },
     "execution_count": 164,
     "metadata": {},
     "output_type": "execute_result"
    }
   ],
   "source": [
    "df1.isna().sum()"
   ]
  },
  {
   "cell_type": "markdown",
   "id": "1dd82b97",
   "metadata": {
    "hidden": true
   },
   "source": [
    "## 1.4 Data Descriptive\n",
    "---"
   ]
  },
  {
   "cell_type": "code",
   "execution_count": 165,
   "id": "7decb2cb",
   "metadata": {
    "ExecuteTime": {
     "end_time": "2022-06-11T18:42:21.221580Z",
     "start_time": "2022-06-11T18:42:21.178571Z"
    },
    "hidden": true
   },
   "outputs": [],
   "source": [
    "num_attributes = df1.select_dtypes(include = ['int64', 'float64'])\n",
    "cat_attributes = df1.select_dtypes(exclude = ['int64', 'float64', 'datetime64[ns]'])"
   ]
  },
  {
   "cell_type": "markdown",
   "id": "11443d81",
   "metadata": {
    "hidden": true
   },
   "source": [
    "### 1.4.1 Variáveis numéricas\n",
    "---"
   ]
  },
  {
   "cell_type": "code",
   "execution_count": 166,
   "id": "5330e7f4",
   "metadata": {
    "ExecuteTime": {
     "end_time": "2022-06-11T18:42:22.072423Z",
     "start_time": "2022-06-11T18:42:21.226585Z"
    },
    "hidden": true
   },
   "outputs": [
    {
     "data": {
      "text/html": [
       "<div>\n",
       "<style scoped>\n",
       "    .dataframe tbody tr th:only-of-type {\n",
       "        vertical-align: middle;\n",
       "    }\n",
       "\n",
       "    .dataframe tbody tr th {\n",
       "        vertical-align: top;\n",
       "    }\n",
       "\n",
       "    .dataframe thead th {\n",
       "        text-align: right;\n",
       "    }\n",
       "</style>\n",
       "<table border=\"1\" class=\"dataframe\">\n",
       "  <thead>\n",
       "    <tr style=\"text-align: right;\">\n",
       "      <th></th>\n",
       "      <th>count</th>\n",
       "      <th>mean</th>\n",
       "      <th>std</th>\n",
       "      <th>min</th>\n",
       "      <th>25%</th>\n",
       "      <th>50%</th>\n",
       "      <th>75%</th>\n",
       "      <th>max</th>\n",
       "      <th>skew</th>\n",
       "      <th>kurtosis</th>\n",
       "    </tr>\n",
       "  </thead>\n",
       "  <tbody>\n",
       "    <tr>\n",
       "      <th>age</th>\n",
       "      <td>381109.0</td>\n",
       "      <td>38.822584</td>\n",
       "      <td>15.511611</td>\n",
       "      <td>20.0</td>\n",
       "      <td>25.0</td>\n",
       "      <td>36.0</td>\n",
       "      <td>49.0</td>\n",
       "      <td>85.0</td>\n",
       "      <td>-0.565655</td>\n",
       "      <td>6.725390e-01</td>\n",
       "    </tr>\n",
       "    <tr>\n",
       "      <th>region_code</th>\n",
       "      <td>381109.0</td>\n",
       "      <td>26.388807</td>\n",
       "      <td>13.229888</td>\n",
       "      <td>0.0</td>\n",
       "      <td>15.0</td>\n",
       "      <td>28.0</td>\n",
       "      <td>35.0</td>\n",
       "      <td>52.0</td>\n",
       "      <td>-0.867857</td>\n",
       "      <td>-1.152664e-01</td>\n",
       "    </tr>\n",
       "    <tr>\n",
       "      <th>policy_sales_channel</th>\n",
       "      <td>381109.0</td>\n",
       "      <td>112.034295</td>\n",
       "      <td>54.203995</td>\n",
       "      <td>1.0</td>\n",
       "      <td>29.0</td>\n",
       "      <td>133.0</td>\n",
       "      <td>152.0</td>\n",
       "      <td>163.0</td>\n",
       "      <td>-0.970810</td>\n",
       "      <td>-9.000081e-01</td>\n",
       "    </tr>\n",
       "    <tr>\n",
       "      <th>driving_license</th>\n",
       "      <td>381109.0</td>\n",
       "      <td>0.997869</td>\n",
       "      <td>0.046110</td>\n",
       "      <td>0.0</td>\n",
       "      <td>1.0</td>\n",
       "      <td>1.0</td>\n",
       "      <td>1.0</td>\n",
       "      <td>1.0</td>\n",
       "      <td>464.354302</td>\n",
       "      <td>-2.159518e+01</td>\n",
       "    </tr>\n",
       "    <tr>\n",
       "      <th>previously_insured</th>\n",
       "      <td>381109.0</td>\n",
       "      <td>0.458210</td>\n",
       "      <td>0.498251</td>\n",
       "      <td>0.0</td>\n",
       "      <td>0.0</td>\n",
       "      <td>0.0</td>\n",
       "      <td>1.0</td>\n",
       "      <td>1.0</td>\n",
       "      <td>-1.971871</td>\n",
       "      <td>1.677471e-01</td>\n",
       "    </tr>\n",
       "    <tr>\n",
       "      <th>annual_premium</th>\n",
       "      <td>381109.0</td>\n",
       "      <td>30564.389581</td>\n",
       "      <td>17213.155057</td>\n",
       "      <td>2630.0</td>\n",
       "      <td>24405.0</td>\n",
       "      <td>31669.0</td>\n",
       "      <td>39400.0</td>\n",
       "      <td>540165.0</td>\n",
       "      <td>34.004569</td>\n",
       "      <td>1.766087e+00</td>\n",
       "    </tr>\n",
       "    <tr>\n",
       "      <th>vintage</th>\n",
       "      <td>381109.0</td>\n",
       "      <td>154.347397</td>\n",
       "      <td>83.671304</td>\n",
       "      <td>10.0</td>\n",
       "      <td>82.0</td>\n",
       "      <td>154.0</td>\n",
       "      <td>227.0</td>\n",
       "      <td>299.0</td>\n",
       "      <td>-1.200688</td>\n",
       "      <td>3.029517e-03</td>\n",
       "    </tr>\n",
       "    <tr>\n",
       "      <th>response</th>\n",
       "      <td>381109.0</td>\n",
       "      <td>0.122563</td>\n",
       "      <td>0.327936</td>\n",
       "      <td>0.0</td>\n",
       "      <td>0.0</td>\n",
       "      <td>0.0</td>\n",
       "      <td>0.0</td>\n",
       "      <td>1.0</td>\n",
       "      <td>3.298788</td>\n",
       "      <td>2.301906e+00</td>\n",
       "    </tr>\n",
       "    <tr>\n",
       "      <th>id</th>\n",
       "      <td>381109.0</td>\n",
       "      <td>190554.000000</td>\n",
       "      <td>110016.836208</td>\n",
       "      <td>0.0</td>\n",
       "      <td>95277.0</td>\n",
       "      <td>190554.0</td>\n",
       "      <td>285831.0</td>\n",
       "      <td>381108.0</td>\n",
       "      <td>-1.200000</td>\n",
       "      <td>9.443274e-16</td>\n",
       "    </tr>\n",
       "  </tbody>\n",
       "</table>\n",
       "</div>"
      ],
      "text/plain": [
       "                         count           mean            std     min      25%  \\\n",
       "age                   381109.0      38.822584      15.511611    20.0     25.0   \n",
       "region_code           381109.0      26.388807      13.229888     0.0     15.0   \n",
       "policy_sales_channel  381109.0     112.034295      54.203995     1.0     29.0   \n",
       "driving_license       381109.0       0.997869       0.046110     0.0      1.0   \n",
       "previously_insured    381109.0       0.458210       0.498251     0.0      0.0   \n",
       "annual_premium        381109.0   30564.389581   17213.155057  2630.0  24405.0   \n",
       "vintage               381109.0     154.347397      83.671304    10.0     82.0   \n",
       "response              381109.0       0.122563       0.327936     0.0      0.0   \n",
       "id                    381109.0  190554.000000  110016.836208     0.0  95277.0   \n",
       "\n",
       "                           50%       75%       max        skew      kurtosis  \n",
       "age                       36.0      49.0      85.0   -0.565655  6.725390e-01  \n",
       "region_code               28.0      35.0      52.0   -0.867857 -1.152664e-01  \n",
       "policy_sales_channel     133.0     152.0     163.0   -0.970810 -9.000081e-01  \n",
       "driving_license            1.0       1.0       1.0  464.354302 -2.159518e+01  \n",
       "previously_insured         0.0       1.0       1.0   -1.971871  1.677471e-01  \n",
       "annual_premium         31669.0   39400.0  540165.0   34.004569  1.766087e+00  \n",
       "vintage                  154.0     227.0     299.0   -1.200688  3.029517e-03  \n",
       "response                   0.0       0.0       1.0    3.298788  2.301906e+00  \n",
       "id                    190554.0  285831.0  381108.0   -1.200000  9.443274e-16  "
      ]
     },
     "execution_count": 166,
     "metadata": {},
     "output_type": "execute_result"
    }
   ],
   "source": [
    "# Calculate kurtosis and skew\n",
    "kurtosis = num_attributes.apply(lambda x: x.skew())\n",
    "skew = num_attributes.apply(lambda x: x.kurtosis())\n",
    "\n",
    "# Describe data\n",
    "describe = num_attributes.describe().T\n",
    "\n",
    "# Add skew and kurtosis in describe\n",
    "describe['skew'] = skew\n",
    "describe['kurtosis'] = kurtosis\n",
    "\n",
    "# Show describe\n",
    "describe"
   ]
  },
  {
   "cell_type": "code",
   "execution_count": 167,
   "id": "f27abb1a",
   "metadata": {
    "ExecuteTime": {
     "end_time": "2022-06-11T18:42:22.120434Z",
     "start_time": "2022-06-11T18:42:22.077348Z"
    },
    "hidden": true
   },
   "outputs": [
    {
     "data": {
      "text/plain": [
       "0    0.54179\n",
       "1    0.45821\n",
       "Name: previously_insured, dtype: float64"
      ]
     },
     "execution_count": 167,
     "metadata": {},
     "output_type": "execute_result"
    }
   ],
   "source": [
    "df1['previously_insured'].value_counts(normalize=True)"
   ]
  },
  {
   "cell_type": "code",
   "execution_count": 168,
   "id": "9ffcd977",
   "metadata": {
    "ExecuteTime": {
     "end_time": "2022-06-11T18:42:22.184490Z",
     "start_time": "2022-06-11T18:42:22.132475Z"
    },
    "hidden": true
   },
   "outputs": [
    {
     "data": {
      "text/plain": [
       "155"
      ]
     },
     "execution_count": 168,
     "metadata": {},
     "output_type": "execute_result"
    }
   ],
   "source": [
    "len(df1['policy_sales_channel'].unique())"
   ]
  },
  {
   "cell_type": "markdown",
   "id": "a5ef3c52",
   "metadata": {
    "ExecuteTime": {
     "end_time": "2022-06-03T11:21:12.575812Z",
     "start_time": "2022-06-03T11:21:12.554802Z"
    },
    "heading_collapsed": true,
    "hidden": true
   },
   "source": [
    "#### **Principais Pontos:**\n",
    "---\n",
    "Os dados não parecem ter incosistências.\n",
    "- Os clientes possuem idade média de 38 anos\n",
    "- A idade dos clientes variam de 20 até 85 anos\n",
    "- 54% dos clientes que responderam as perguntas já tem um seguro veicular\n",
    "- Existem 155 canais diferentes de comunicação com a Insurance All\n",
    "- Em média, os clientes pagaram 30k para obter o seguro\n",
    "- O valor máximo de um seguro foi de 540k\n",
    "- Em média, os clientes entraram faz 154 dias na empresa.\n",
    "- O cliente mais recente possui 10 dias na empresa.\n",
    "- 75% das pessoas não tem interesse em comprar um seguro de automóvel\n"
   ]
  },
  {
   "cell_type": "markdown",
   "id": "50a6659d",
   "metadata": {
    "hidden": true
   },
   "source": [
    "### 1.4.2 Variáveis Categóricas\n",
    "---"
   ]
  },
  {
   "cell_type": "code",
   "execution_count": 169,
   "id": "62f9ca9e",
   "metadata": {
    "ExecuteTime": {
     "end_time": "2022-06-11T18:42:23.266040Z",
     "start_time": "2022-06-11T18:42:22.190491Z"
    },
    "hidden": true
   },
   "outputs": [
    {
     "data": {
      "image/png": "[encoded data removed]",
      "text/plain": [
       "<Figure size 1440x576 with 3 Axes>"
      ]
     },
     "metadata": {
      "needs_background": "light"
     },
     "output_type": "display_data"
    }
   ],
   "source": [
    "gender = cat_attributes['gender'].value_counts(normalize=True)\n",
    "vehicle_age = cat_attributes['vehicle_age'].value_counts(normalize=True)\n",
    "vehicle_damage = cat_attributes['vehicle_damage'].value_counts(normalize=True)\n",
    "\n",
    "plt.figure(figsize=(20,8))\n",
    "\n",
    "plt.subplot(1,3,1)\n",
    "sns.barplot(x=gender.index, y = gender.values).set(title='Porcentagem por genero');\n",
    "\n",
    "plt.subplot(1,3,2)\n",
    "sns.barplot(x=vehicle_age.index, y = vehicle_age.values).set(title='Porcentagem por anos do veículo');\n",
    "\n",
    "plt.subplot(1,3,3)\n",
    "sns.barplot(x=vehicle_damage.index, y = vehicle_damage.values).set(title='Porcentagem de carros batidos');"
   ]
  },
  {
   "cell_type": "markdown",
   "id": "19a38c04",
   "metadata": {
    "hidden": true
   },
   "source": [
    "#### Principais Pontos:\n",
    "---\n",
    "- A maior parte dos assegurados são homens, um total de aproximadamente 55%\n",
    "- Apenas 5% dos carros tem mais de 2 anos\n",
    "- A maioria dos carros estão entre 1 e 2 anos\n",
    "- A quantidade de motoristas que bateram o carro é quase igual a quantidade que não bateu"
   ]
  },
  {
   "cell_type": "markdown",
   "id": "14e01881",
   "metadata": {
    "heading_collapsed": true
   },
   "source": [
    "# 2.0 Feature Engineering\n",
    "---"
   ]
  },
  {
   "cell_type": "markdown",
   "id": "81ffe041",
   "metadata": {
    "ExecuteTime": {
     "end_time": "2022-06-03T13:13:58.775856Z",
     "start_time": "2022-06-03T13:13:58.763854Z"
    },
    "hidden": true
   },
   "source": [
    "## 2.1 Lista de Hipóteses\n",
    "---"
   ]
  },
  {
   "cell_type": "markdown",
   "id": "f1b7b277",
   "metadata": {
    "hidden": true
   },
   "source": [
    "**1.** Usuários com automóveis com menos de um ano de uso possuem menos interesse em contratar um seguro.\n",
    "\n",
    "**2.** A maioria dos usuários que querem um seguro de saúdo são mulheres.\n",
    "\n",
    "**3.** Usuários com idade maior que 40, estão interessadas em contratar um seguro.\n",
    "\n",
    "**4.** A maioria dos usuários que tiveram um acidente veicular não querem seguro de saúde.\n",
    "\n",
    "**5.** Usuários que não possuem CNH, não estão mais interessadas em contratar um seguro.\n",
    "\n",
    "**6.** Clientes com seguros automotivos são mais propensos a quererem seguro de saúde."
   ]
  },
  {
   "cell_type": "markdown",
   "id": "1887cf5e",
   "metadata": {
    "hidden": true
   },
   "source": [
    "## 2.2 Feature Engineering\n",
    "---"
   ]
  },
  {
   "cell_type": "code",
   "execution_count": 170,
   "id": "a3114525",
   "metadata": {
    "ExecuteTime": {
     "end_time": "2022-06-11T18:42:23.392684Z",
     "start_time": "2022-06-11T18:42:23.271955Z"
    },
    "hidden": true
   },
   "outputs": [],
   "source": [
    "df2 = df1.copy()"
   ]
  },
  {
   "cell_type": "code",
   "execution_count": 171,
   "id": "7d033ecc",
   "metadata": {
    "ExecuteTime": {
     "end_time": "2022-06-11T18:42:24.007426Z",
     "start_time": "2022-06-11T18:42:23.396560Z"
    },
    "hidden": true
   },
   "outputs": [],
   "source": [
    "# vehicle age\n",
    "df2['vehicle_age'] = df2['vehicle_age'].apply(lambda x: 'over_2_years'     if x == '> 2 Years' else \n",
    "                                                        'between_1_2_year' if x == '1-2 Year'  else 'below_1_year')\n",
    "\n",
    "# age_category: over 40 years old or under and equal 40 years old.\n",
    "df2['age_category'] = df2['age'].apply(lambda x: 'over_40_years' if x > 40 else 'under_40_years')\n",
    "\n",
    "# vehicle damage\n",
    "df2['vehicle_damage'] = df2['vehicle_damage'].apply(lambda x: 1 if x == 'Yes' else 0)"
   ]
  },
  {
   "cell_type": "markdown",
   "id": "91bbc868",
   "metadata": {
    "ExecuteTime": {
     "end_time": "2022-05-30T21:05:41.731779Z",
     "start_time": "2022-05-30T21:05:41.714771Z"
    },
    "heading_collapsed": true
   },
   "source": [
    "# 3.0 Data Filtering\n",
    "---"
   ]
  },
  {
   "cell_type": "code",
   "execution_count": 172,
   "id": "704509fb",
   "metadata": {
    "ExecuteTime": {
     "end_time": "2022-06-11T18:42:29.438293Z",
     "start_time": "2022-06-11T18:42:24.011431Z"
    },
    "hidden": true
   },
   "outputs": [],
   "source": [
    "df3 = df2.copy()"
   ]
  },
  {
   "cell_type": "markdown",
   "id": "72d6f05c",
   "metadata": {
    "hidden": true
   },
   "source": [
    "Como não há dados muito discrepantes, como pode ser visto na etapa 1.4, então, a princípio, não será feito nenhum filtro."
   ]
  },
  {
   "cell_type": "markdown",
   "id": "9d279919",
   "metadata": {
    "heading_collapsed": true
   },
   "source": [
    "# 4.0 Exploratory Data Analysis\n",
    "---"
   ]
  },
  {
   "cell_type": "code",
   "execution_count": 173,
   "id": "3fbd45fe",
   "metadata": {
    "ExecuteTime": {
     "end_time": "2022-06-11T18:42:29.533216Z",
     "start_time": "2022-06-11T18:42:29.442185Z"
    },
    "hidden": true
   },
   "outputs": [],
   "source": [
    "df4 = df3.copy()"
   ]
  },
  {
   "cell_type": "markdown",
   "id": "79a6ffcb",
   "metadata": {
    "heading_collapsed": true,
    "hidden": true
   },
   "source": [
    "## 4.1 Análise Univariada"
   ]
  },
  {
   "cell_type": "code",
   "execution_count": 174,
   "id": "3f450467",
   "metadata": {
    "ExecuteTime": {
     "end_time": "2022-06-11T18:42:29.565228Z",
     "start_time": "2022-06-11T18:42:29.539222Z"
    },
    "hidden": true
   },
   "outputs": [
    {
     "data": {
      "text/plain": [
       "Index(['gender', 'age', 'region_code', 'policy_sales_channel',\n",
       "       'driving_license', 'vehicle_age', 'vehicle_damage',\n",
       "       'previously_insured', 'annual_premium', 'vintage', 'response', 'id',\n",
       "       'age_category'],\n",
       "      dtype='object')"
      ]
     },
     "execution_count": 174,
     "metadata": {},
     "output_type": "execute_result"
    }
   ],
   "source": [
    "df4.columns"
   ]
  },
  {
   "cell_type": "markdown",
   "id": "e09ab04d",
   "metadata": {
    "hidden": true
   },
   "source": [
    "### age"
   ]
  },
  {
   "cell_type": "code",
   "execution_count": 175,
   "id": "51bf3ac3",
   "metadata": {
    "ExecuteTime": {
     "end_time": "2022-06-11T18:42:29.990667Z",
     "start_time": "2022-06-11T18:42:29.571226Z"
    },
    "hidden": true
   },
   "outputs": [
    {
     "data": {
      "text/plain": [
       "<AxesSubplot:xlabel='response', ylabel='age'>"
      ]
     },
     "execution_count": 175,
     "metadata": {},
     "output_type": "execute_result"
    },
    {
     "data": {
      "image/png": "[encoded data removed]",
      "text/plain": [
       "<Figure size 432x288 with 1 Axes>"
      ]
     },
     "metadata": {
      "needs_background": "light"
     },
     "output_type": "display_data"
    }
   ],
   "source": [
    "sns.boxplot(x='response', y='age', data=df4)"
   ]
  },
  {
   "cell_type": "markdown",
   "id": "5f5b1da0",
   "metadata": {
    "hidden": true
   },
   "source": [
    "Para o grupo de pessoas que não estão interessadas (0), a mediana é de mais ou menos 35 anos, do primeiro ao terceiro quartil há uma  variáção de 25 a 50 anos. Já as pessoas interessadas no produto (1), a mediana de idades é maior, os primeiros e terceiros quartis são maiores também. \n",
    "\n",
    "Esta variável pode ser interessante para o modelo, pois indicam que pessoas mais novas não tem tanto interesse em seguros de vida, o que faz sentido."
   ]
  },
  {
   "cell_type": "code",
   "execution_count": 176,
   "id": "f204a13e",
   "metadata": {
    "ExecuteTime": {
     "end_time": "2022-06-11T18:42:32.256134Z",
     "start_time": "2022-06-11T18:42:29.994565Z"
    },
    "hidden": true
   },
   "outputs": [
    {
     "data": {
      "text/plain": [
       "<AxesSubplot:xlabel='age', ylabel='Count'>"
      ]
     },
     "execution_count": 176,
     "metadata": {},
     "output_type": "execute_result"
    },
    {
     "data": {
      "image/png": "[encoded data removed]",
      "text/plain": [
       "<Figure size 1008x576 with 2 Axes>"
      ]
     },
     "metadata": {
      "needs_background": "light"
     },
     "output_type": "display_data"
    }
   ],
   "source": [
    "plt.figure(figsize=(14, 8))\n",
    "plt.subplot(1,2,1)\n",
    "aux00 = df4.loc[df4['response'] == 0,'age']\n",
    "sns.histplot(aux00)\n",
    "\n",
    "plt.subplot(1,2,2)\n",
    "aux01 = df4.loc[df4['response'] == 1,'age']\n",
    "sns.histplot(aux01)"
   ]
  },
  {
   "cell_type": "markdown",
   "id": "82a4b88c",
   "metadata": {
    "hidden": true
   },
   "source": [
    "Existe uma concentração muito grande de pessoas sem interesse para age próximo de 20. Já para o histograma de pessoas com interesse, a maioria das idades estão entre 40 e 50 anos. Um ponto a ser observado é que há um possível desbalanceamento das variáveis, existe muito mais dados com \"não\" do que com \"sim\". Este ponto será melhor analisado mais a frente."
   ]
  },
  {
   "cell_type": "markdown",
   "id": "8bddb57b",
   "metadata": {
    "hidden": true
   },
   "source": [
    "### anual_premium"
   ]
  },
  {
   "cell_type": "code",
   "execution_count": 177,
   "id": "526a81a0",
   "metadata": {
    "ExecuteTime": {
     "end_time": "2022-06-11T18:42:32.908299Z",
     "start_time": "2022-06-11T18:42:32.260135Z"
    },
    "hidden": true
   },
   "outputs": [
    {
     "data": {
      "text/plain": [
       "<AxesSubplot:xlabel='response', ylabel='annual_premium'>"
      ]
     },
     "execution_count": 177,
     "metadata": {},
     "output_type": "execute_result"
    },
    {
     "data": {
      "image/png": "[encoded data removed]",
      "text/plain": [
       "<Figure size 432x288 with 1 Axes>"
      ]
     },
     "metadata": {
      "needs_background": "light"
     },
     "output_type": "display_data"
    }
   ],
   "source": [
    "sns.boxplot(x='response', y='annual_premium', data=df4)"
   ]
  },
  {
   "cell_type": "markdown",
   "id": "98b080ed",
   "metadata": {
    "hidden": true
   },
   "source": [
    "Como não é possível observar nada devido ao excesso de outliers, será analisado um corte nos dados para valores menores que 80000."
   ]
  },
  {
   "cell_type": "code",
   "execution_count": 178,
   "id": "b353a79b",
   "metadata": {
    "ExecuteTime": {
     "end_time": "2022-06-11T18:42:33.704500Z",
     "start_time": "2022-06-11T18:42:32.915300Z"
    },
    "hidden": true
   },
   "outputs": [
    {
     "data": {
      "text/plain": [
       "<AxesSubplot:xlabel='response', ylabel='annual_premium'>"
      ]
     },
     "execution_count": 178,
     "metadata": {},
     "output_type": "execute_result"
    },
    {
     "data": {
      "image/png": "[encoded data removed]",
      "text/plain": [
       "<Figure size 432x288 with 1 Axes>"
      ]
     },
     "metadata": {
      "needs_background": "light"
     },
     "output_type": "display_data"
    }
   ],
   "source": [
    "aux = df4[df4['annual_premium']<80000]\n",
    "sns.boxplot(x='response', y='annual_premium', data=aux)"
   ]
  },
  {
   "cell_type": "code",
   "execution_count": 179,
   "id": "1f781371",
   "metadata": {
    "ExecuteTime": {
     "end_time": "2022-06-11T18:42:36.484880Z",
     "start_time": "2022-06-11T18:42:33.708502Z"
    },
    "hidden": true
   },
   "outputs": [
    {
     "data": {
      "text/plain": [
       "<AxesSubplot:xlabel='annual_premium', ylabel='Count'>"
      ]
     },
     "execution_count": 179,
     "metadata": {},
     "output_type": "execute_result"
    },
    {
     "data": {
      "image/png": "[encoded data removed]",
      "text/plain": [
       "<Figure size 1008x576 with 3 Axes>"
      ]
     },
     "metadata": {
      "needs_background": "light"
     },
     "output_type": "display_data"
    }
   ],
   "source": [
    "plt.figure(figsize=(14, 8))\n",
    "\n",
    "plt.subplot(1,3,1)\n",
    "aux = df4[df4['annual_premium']<80000]\n",
    "sns.boxplot(x='response', y='annual_premium', data=aux)\n",
    "\n",
    "plt.subplot(1,3,2)\n",
    "aux2 = df4[(df4['annual_premium'] > 10000) & (df4['annual_premium']<80000)]\n",
    "aux00 = aux2.loc[aux2['response'] == 0,'annual_premium']\n",
    "sns.histplot(aux00)\n",
    "\n",
    "plt.subplot(1,3,3)\n",
    "aux01 = aux2.loc[aux2['response'] == 1,'annual_premium']\n",
    "sns.histplot(aux01)"
   ]
  },
  {
   "cell_type": "markdown",
   "id": "2d2441cd",
   "metadata": {
    "hidden": true
   },
   "source": [
    "Como são muito parecidas, é bem provável que não ajude a resolver o problema aqui, uma vez que não há uma separação entre as classes"
   ]
  },
  {
   "cell_type": "markdown",
   "id": "c5dc86e7",
   "metadata": {
    "ExecuteTime": {
     "end_time": "2022-05-30T22:07:15.587108Z",
     "start_time": "2022-05-30T22:07:15.572111Z"
    },
    "hidden": true
   },
   "source": [
    "### driving_license"
   ]
  },
  {
   "cell_type": "code",
   "execution_count": 180,
   "id": "fd16afbf",
   "metadata": {
    "ExecuteTime": {
     "end_time": "2022-06-11T18:42:36.813080Z",
     "start_time": "2022-06-11T18:42:36.488780Z"
    },
    "hidden": true
   },
   "outputs": [
    {
     "data": {
      "text/plain": [
       "<AxesSubplot:xlabel='response', ylabel='driving_license'>"
      ]
     },
     "execution_count": 180,
     "metadata": {},
     "output_type": "execute_result"
    },
    {
     "data": {
      "image/png": "[encoded data removed]",
      "text/plain": [
       "<Figure size 432x288 with 1 Axes>"
      ]
     },
     "metadata": {
      "needs_background": "light"
     },
     "output_type": "display_data"
    }
   ],
   "source": [
    "aux = df4[['driving_license', 'response']].groupby('response').sum().reset_index()\n",
    "sns.barplot(x='response', y='driving_license', data=aux)"
   ]
  },
  {
   "cell_type": "markdown",
   "id": "dcba2a45",
   "metadata": {
    "hidden": true
   },
   "source": [
    "Muito mais pessoas que dirigem e não querem fazer o seguro de carro."
   ]
  },
  {
   "cell_type": "code",
   "execution_count": 181,
   "id": "6bb65e4a",
   "metadata": {
    "ExecuteTime": {
     "end_time": "2022-06-11T18:42:36.844029Z",
     "start_time": "2022-06-11T18:42:36.820083Z"
    },
    "hidden": true
   },
   "outputs": [
    {
     "data": {
      "text/html": [
       "<div>\n",
       "<style scoped>\n",
       "    .dataframe tbody tr th:only-of-type {\n",
       "        vertical-align: middle;\n",
       "    }\n",
       "\n",
       "    .dataframe tbody tr th {\n",
       "        vertical-align: top;\n",
       "    }\n",
       "\n",
       "    .dataframe thead th {\n",
       "        text-align: right;\n",
       "    }\n",
       "</style>\n",
       "<table border=\"1\" class=\"dataframe\">\n",
       "  <thead>\n",
       "    <tr style=\"text-align: right;\">\n",
       "      <th></th>\n",
       "      <th>response</th>\n",
       "      <th>driving_license</th>\n",
       "      <th>driving_license_perc</th>\n",
       "    </tr>\n",
       "  </thead>\n",
       "  <tbody>\n",
       "    <tr>\n",
       "      <th>0</th>\n",
       "      <td>0</td>\n",
       "      <td>333628</td>\n",
       "      <td>0.877283</td>\n",
       "    </tr>\n",
       "    <tr>\n",
       "      <th>1</th>\n",
       "      <td>1</td>\n",
       "      <td>46669</td>\n",
       "      <td>0.122717</td>\n",
       "    </tr>\n",
       "  </tbody>\n",
       "</table>\n",
       "</div>"
      ],
      "text/plain": [
       "   response  driving_license  driving_license_perc\n",
       "0         0           333628              0.877283\n",
       "1         1            46669              0.122717"
      ]
     },
     "execution_count": 181,
     "metadata": {},
     "output_type": "execute_result"
    }
   ],
   "source": [
    "aux['driving_license_perc'] = aux['driving_license'] / aux['driving_license'].sum()\n",
    "aux"
   ]
  },
  {
   "cell_type": "markdown",
   "id": "83f22f8e",
   "metadata": {
    "hidden": true
   },
   "source": [
    "Ou seja, 87% das pessoas que dirigem não querem fazer o seguro e 12% dos que dirigem querem fazer seguro."
   ]
  },
  {
   "cell_type": "markdown",
   "id": "84ba1f2c",
   "metadata": {
    "hidden": true
   },
   "source": [
    "### region_code"
   ]
  },
  {
   "cell_type": "code",
   "execution_count": 182,
   "id": "c295afe6",
   "metadata": {
    "ExecuteTime": {
     "end_time": "2022-06-11T18:42:36.891983Z",
     "start_time": "2022-06-11T18:42:36.852954Z"
    },
    "hidden": true
   },
   "outputs": [
    {
     "data": {
      "text/html": [
       "<div>\n",
       "<style scoped>\n",
       "    .dataframe tbody tr th:only-of-type {\n",
       "        vertical-align: middle;\n",
       "    }\n",
       "\n",
       "    .dataframe tbody tr th {\n",
       "        vertical-align: top;\n",
       "    }\n",
       "\n",
       "    .dataframe thead th {\n",
       "        text-align: right;\n",
       "    }\n",
       "</style>\n",
       "<table border=\"1\" class=\"dataframe\">\n",
       "  <thead>\n",
       "    <tr style=\"text-align: right;\">\n",
       "      <th></th>\n",
       "      <th>region_code</th>\n",
       "      <th>response</th>\n",
       "    </tr>\n",
       "  </thead>\n",
       "  <tbody>\n",
       "    <tr>\n",
       "      <th>0</th>\n",
       "      <td>11.0</td>\n",
       "      <td>0</td>\n",
       "    </tr>\n",
       "    <tr>\n",
       "      <th>1</th>\n",
       "      <td>15.0</td>\n",
       "      <td>0</td>\n",
       "    </tr>\n",
       "    <tr>\n",
       "      <th>2</th>\n",
       "      <td>35.0</td>\n",
       "      <td>0</td>\n",
       "    </tr>\n",
       "    <tr>\n",
       "      <th>3</th>\n",
       "      <td>8.0</td>\n",
       "      <td>0</td>\n",
       "    </tr>\n",
       "    <tr>\n",
       "      <th>4</th>\n",
       "      <td>8.0</td>\n",
       "      <td>0</td>\n",
       "    </tr>\n",
       "  </tbody>\n",
       "</table>\n",
       "</div>"
      ],
      "text/plain": [
       "   region_code  response\n",
       "0         11.0         0\n",
       "1         15.0         0\n",
       "2         35.0         0\n",
       "3          8.0         0\n",
       "4          8.0         0"
      ]
     },
     "execution_count": 182,
     "metadata": {},
     "output_type": "execute_result"
    }
   ],
   "source": [
    "df4[['region_code', 'response']].head()"
   ]
  },
  {
   "cell_type": "code",
   "execution_count": 183,
   "id": "09ec167e",
   "metadata": {
    "ExecuteTime": {
     "end_time": "2022-06-11T18:42:37.487182Z",
     "start_time": "2022-06-11T18:42:36.900986Z"
    },
    "hidden": true
   },
   "outputs": [
    {
     "data": {
      "text/plain": [
       "<AxesSubplot:xlabel='region_code', ylabel='id'>"
      ]
     },
     "execution_count": 183,
     "metadata": {},
     "output_type": "execute_result"
    },
    {
     "data": {
      "image/png": "[encoded data removed]",
      "text/plain": [
       "<Figure size 432x288 with 1 Axes>"
      ]
     },
     "metadata": {
      "needs_background": "light"
     },
     "output_type": "display_data"
    }
   ],
   "source": [
    "aux0 = df4[['id','region_code', 'response']].groupby(['region_code', 'response']).count().reset_index()\n",
    "\n",
    "sns.scatterplot(x='region_code', y='id', hue='response', data=aux0)"
   ]
  },
  {
   "cell_type": "markdown",
   "id": "48976d1e",
   "metadata": {
    "hidden": true
   },
   "source": [
    "É possível observar o region_code 29, onde aproximadamente 80000 mil pessoas não estão interessadas em assinar o produto, enquanto 20000 estão interessadas. Nesta situação, é possível afirmar que há uma discriminação entre os dados, ou seja, é possível fazer uma separação clara entre as duas regiões. Entretanto, para todos os outros pontos há uma mistura entre 0 e 1. Então, analisando esta variável separadamente, não é interessante para o modelo."
   ]
  },
  {
   "cell_type": "markdown",
   "id": "9b8b9fdc",
   "metadata": {
    "hidden": true
   },
   "source": [
    "### previously_insured"
   ]
  },
  {
   "cell_type": "code",
   "execution_count": 184,
   "id": "c52bdbad",
   "metadata": {
    "ExecuteTime": {
     "end_time": "2022-06-11T18:42:37.518185Z",
     "start_time": "2022-06-11T18:42:37.492524Z"
    },
    "hidden": true
   },
   "outputs": [
    {
     "data": {
      "text/html": [
       "<div>\n",
       "<style scoped>\n",
       "    .dataframe tbody tr th:only-of-type {\n",
       "        vertical-align: middle;\n",
       "    }\n",
       "\n",
       "    .dataframe tbody tr th {\n",
       "        vertical-align: top;\n",
       "    }\n",
       "\n",
       "    .dataframe thead th {\n",
       "        text-align: right;\n",
       "    }\n",
       "</style>\n",
       "<table border=\"1\" class=\"dataframe\">\n",
       "  <thead>\n",
       "    <tr style=\"text-align: right;\">\n",
       "      <th></th>\n",
       "      <th>previously_insured</th>\n",
       "      <th>response</th>\n",
       "    </tr>\n",
       "  </thead>\n",
       "  <tbody>\n",
       "    <tr>\n",
       "      <th>0</th>\n",
       "      <td>0</td>\n",
       "      <td>0</td>\n",
       "    </tr>\n",
       "    <tr>\n",
       "      <th>1</th>\n",
       "      <td>1</td>\n",
       "      <td>0</td>\n",
       "    </tr>\n",
       "    <tr>\n",
       "      <th>2</th>\n",
       "      <td>1</td>\n",
       "      <td>0</td>\n",
       "    </tr>\n",
       "    <tr>\n",
       "      <th>3</th>\n",
       "      <td>0</td>\n",
       "      <td>0</td>\n",
       "    </tr>\n",
       "    <tr>\n",
       "      <th>4</th>\n",
       "      <td>0</td>\n",
       "      <td>0</td>\n",
       "    </tr>\n",
       "  </tbody>\n",
       "</table>\n",
       "</div>"
      ],
      "text/plain": [
       "   previously_insured  response\n",
       "0                   0         0\n",
       "1                   1         0\n",
       "2                   1         0\n",
       "3                   0         0\n",
       "4                   0         0"
      ]
     },
     "execution_count": 184,
     "metadata": {},
     "output_type": "execute_result"
    }
   ],
   "source": [
    "df4[['previously_insured', 'response']].head()"
   ]
  },
  {
   "cell_type": "code",
   "execution_count": 185,
   "id": "1d3cc589",
   "metadata": {
    "ExecuteTime": {
     "end_time": "2022-06-11T18:42:37.674741Z",
     "start_time": "2022-06-11T18:42:37.523169Z"
    },
    "hidden": true
   },
   "outputs": [
    {
     "data": {
      "text/html": [
       "<div>\n",
       "<style scoped>\n",
       "    .dataframe tbody tr th:only-of-type {\n",
       "        vertical-align: middle;\n",
       "    }\n",
       "\n",
       "    .dataframe tbody tr th {\n",
       "        vertical-align: top;\n",
       "    }\n",
       "\n",
       "    .dataframe thead th {\n",
       "        text-align: right;\n",
       "    }\n",
       "</style>\n",
       "<table border=\"1\" class=\"dataframe\">\n",
       "  <thead>\n",
       "    <tr style=\"text-align: right;\">\n",
       "      <th>response</th>\n",
       "      <th>0</th>\n",
       "      <th>1</th>\n",
       "    </tr>\n",
       "    <tr>\n",
       "      <th>previously_insured</th>\n",
       "      <th></th>\n",
       "      <th></th>\n",
       "    </tr>\n",
       "  </thead>\n",
       "  <tbody>\n",
       "    <tr>\n",
       "      <th>0</th>\n",
       "      <td>0.774546</td>\n",
       "      <td>0.225454</td>\n",
       "    </tr>\n",
       "    <tr>\n",
       "      <th>1</th>\n",
       "      <td>0.999095</td>\n",
       "      <td>0.000905</td>\n",
       "    </tr>\n",
       "  </tbody>\n",
       "</table>\n",
       "</div>"
      ],
      "text/plain": [
       "response                   0         1\n",
       "previously_insured                    \n",
       "0                   0.774546  0.225454\n",
       "1                   0.999095  0.000905"
      ]
     },
     "execution_count": 185,
     "metadata": {},
     "output_type": "execute_result"
    }
   ],
   "source": [
    "pd.crosstab(df4['previously_insured'], df4['response']).apply(lambda x: x/x.sum(), axis=1)"
   ]
  },
  {
   "cell_type": "markdown",
   "id": "57a7af7e",
   "metadata": {
    "hidden": true
   },
   "source": [
    "A combinação (0,0) indica pessoas que não tinham seguro anteriormente e que também não querem este novo produto, 77% dos dados responderam esta alternativa. Para pessoas que anteriormente não tinham seguro e responderam que queriam o produto (0,1) foi de 22%. Das pessoas que já tinham seguro e não querem (1,0) foi de 99% e das que tem seguro e querem este novo produto, quase 0%. \n",
    "\n",
    "Vale salientar que aqui está sendo considerado pessoas que já tem um seguro de saúde anterior, então, faz sentido a porcentagem ser baixa. "
   ]
  },
  {
   "cell_type": "markdown",
   "id": "ec14fc48",
   "metadata": {
    "hidden": true
   },
   "source": [
    "### vehicle_age"
   ]
  },
  {
   "cell_type": "code",
   "execution_count": 186,
   "id": "68fee67f",
   "metadata": {
    "ExecuteTime": {
     "end_time": "2022-06-11T18:42:37.865437Z",
     "start_time": "2022-06-11T18:42:37.693386Z"
    },
    "hidden": true
   },
   "outputs": [
    {
     "data": {
      "text/html": [
       "<div>\n",
       "<style scoped>\n",
       "    .dataframe tbody tr th:only-of-type {\n",
       "        vertical-align: middle;\n",
       "    }\n",
       "\n",
       "    .dataframe tbody tr th {\n",
       "        vertical-align: top;\n",
       "    }\n",
       "\n",
       "    .dataframe thead th {\n",
       "        text-align: right;\n",
       "    }\n",
       "</style>\n",
       "<table border=\"1\" class=\"dataframe\">\n",
       "  <thead>\n",
       "    <tr style=\"text-align: right;\">\n",
       "      <th></th>\n",
       "      <th>vehicle_age</th>\n",
       "      <th>response</th>\n",
       "      <th>0</th>\n",
       "    </tr>\n",
       "  </thead>\n",
       "  <tbody>\n",
       "    <tr>\n",
       "      <th>0</th>\n",
       "      <td>below_1_year</td>\n",
       "      <td>0</td>\n",
       "      <td>0.413488</td>\n",
       "    </tr>\n",
       "    <tr>\n",
       "      <th>1</th>\n",
       "      <td>below_1_year</td>\n",
       "      <td>1</td>\n",
       "      <td>0.018897</td>\n",
       "    </tr>\n",
       "    <tr>\n",
       "      <th>2</th>\n",
       "      <td>between_1_2_year</td>\n",
       "      <td>0</td>\n",
       "      <td>0.434285</td>\n",
       "    </tr>\n",
       "    <tr>\n",
       "      <th>3</th>\n",
       "      <td>between_1_2_year</td>\n",
       "      <td>1</td>\n",
       "      <td>0.091328</td>\n",
       "    </tr>\n",
       "    <tr>\n",
       "      <th>4</th>\n",
       "      <td>over_2_years</td>\n",
       "      <td>0</td>\n",
       "      <td>0.029663</td>\n",
       "    </tr>\n",
       "    <tr>\n",
       "      <th>5</th>\n",
       "      <td>over_2_years</td>\n",
       "      <td>1</td>\n",
       "      <td>0.012338</td>\n",
       "    </tr>\n",
       "  </tbody>\n",
       "</table>\n",
       "</div>"
      ],
      "text/plain": [
       "        vehicle_age  response         0\n",
       "0      below_1_year         0  0.413488\n",
       "1      below_1_year         1  0.018897\n",
       "2  between_1_2_year         0  0.434285\n",
       "3  between_1_2_year         1  0.091328\n",
       "4      over_2_years         0  0.029663\n",
       "5      over_2_years         1  0.012338"
      ]
     },
     "execution_count": 186,
     "metadata": {},
     "output_type": "execute_result"
    }
   ],
   "source": [
    "df4[['vehicle_age', 'response']].value_counts(normalize=True, sort=False).reset_index()"
   ]
  },
  {
   "cell_type": "markdown",
   "id": "b0e5c8c5",
   "metadata": {
    "hidden": true
   },
   "source": [
    "Então, pessoas com carros com idade abaixo de 1 anos, 41% responderam não querer seguro, enquanto 1,8% respondeu que querem. O mesmo se segue para as outras variáveis, uma taxa de rejeição muito alta, exceto para situação em que os carros tem mais de 2 anos. A princípio, a situação em que há uma discriminação dos valores mais clara ajude o modelo, entretanto, é necessário ver o efeito na hora de implementar mais a frente."
   ]
  },
  {
   "cell_type": "markdown",
   "id": "1a15010a",
   "metadata": {
    "hidden": true
   },
   "source": [
    "### vintage"
   ]
  },
  {
   "cell_type": "code",
   "execution_count": 187,
   "id": "6c1011e0",
   "metadata": {
    "ExecuteTime": {
     "end_time": "2022-06-11T18:42:38.307499Z",
     "start_time": "2022-06-11T18:42:37.870437Z"
    },
    "hidden": true
   },
   "outputs": [
    {
     "data": {
      "text/plain": [
       "<AxesSubplot:xlabel='response', ylabel='vintage'>"
      ]
     },
     "execution_count": 187,
     "metadata": {},
     "output_type": "execute_result"
    },
    {
     "data": {
      "image/png": "[encoded data removed]",
      "text/plain": [
       "<Figure size 432x288 with 1 Axes>"
      ]
     },
     "metadata": {
      "needs_background": "light"
     },
     "output_type": "display_data"
    }
   ],
   "source": [
    "sns.boxplot(x='response', y='vintage', data=df4)"
   ]
  },
  {
   "cell_type": "code",
   "execution_count": 188,
   "id": "abc964a1",
   "metadata": {
    "ExecuteTime": {
     "end_time": "2022-06-11T18:42:39.989642Z",
     "start_time": "2022-06-11T18:42:38.313503Z"
    },
    "hidden": true
   },
   "outputs": [
    {
     "data": {
      "text/plain": [
       "<AxesSubplot:xlabel='vintage', ylabel='Count'>"
      ]
     },
     "execution_count": 188,
     "metadata": {},
     "output_type": "execute_result"
    },
    {
     "data": {
      "image/png": "[encoded data removed]",
      "text/plain": [
       "<Figure size 1008x576 with 2 Axes>"
      ]
     },
     "metadata": {
      "needs_background": "light"
     },
     "output_type": "display_data"
    }
   ],
   "source": [
    "plt.figure(figsize=(14, 8))\n",
    "\n",
    "plt.subplot(1,2,1)\n",
    "aux00 = df4.loc[df4['response'] == 0,'vintage']\n",
    "sns.histplot(aux00)\n",
    "\n",
    "plt.subplot(1,2,2)\n",
    "aux01 = df4.loc[df4['response'] == 1,'vintage']\n",
    "sns.histplot(aux01)"
   ]
  },
  {
   "cell_type": "markdown",
   "id": "5a055662",
   "metadata": {
    "hidden": true
   },
   "source": [
    "Vintage é exatamente o igual, isto se dá porque esta variável indica o tempo que as pessoas estão na base, isto é irrelevante para o modelo."
   ]
  },
  {
   "cell_type": "markdown",
   "id": "fb08783b",
   "metadata": {
    "hidden": true
   },
   "source": [
    "## 4.2 Análise Bivariada"
   ]
  },
  {
   "cell_type": "markdown",
   "id": "b7dc4957",
   "metadata": {
    "hidden": true
   },
   "source": [
    "### 4.2.1 Usuários com automóveis com menos de um ano de uso possuem menos interesse em contratar um seguro.\n",
    "**VERDADEIRO**. Usuários com menos de um ano de uso possuem menos interesse em contratar um seguro. Usuários com carros mais usados tem mais interesse em seguros."
   ]
  },
  {
   "cell_type": "code",
   "execution_count": 189,
   "id": "91dd0af4",
   "metadata": {
    "ExecuteTime": {
     "end_time": "2022-06-11T18:42:40.021651Z",
     "start_time": "2022-06-11T18:42:39.997646Z"
    },
    "hidden": true
   },
   "outputs": [
    {
     "data": {
      "text/plain": [
       "Index(['gender', 'age', 'region_code', 'policy_sales_channel',\n",
       "       'driving_license', 'vehicle_age', 'vehicle_damage',\n",
       "       'previously_insured', 'annual_premium', 'vintage', 'response', 'id',\n",
       "       'age_category'],\n",
       "      dtype='object')"
      ]
     },
     "execution_count": 189,
     "metadata": {},
     "output_type": "execute_result"
    }
   ],
   "source": [
    "df4.columns"
   ]
  },
  {
   "cell_type": "code",
   "execution_count": 190,
   "id": "2730b692",
   "metadata": {
    "ExecuteTime": {
     "end_time": "2022-06-11T18:42:40.117744Z",
     "start_time": "2022-06-11T18:42:40.028655Z"
    },
    "hidden": true
   },
   "outputs": [
    {
     "data": {
      "text/plain": [
       "array(['below_1_year', 'between_1_2_year', 'over_2_years'], dtype=object)"
      ]
     },
     "execution_count": 190,
     "metadata": {},
     "output_type": "execute_result"
    }
   ],
   "source": [
    "df4['vehicle_age'].unique()"
   ]
  },
  {
   "cell_type": "code",
   "execution_count": 191,
   "id": "2932abf1",
   "metadata": {
    "ExecuteTime": {
     "end_time": "2022-06-11T18:42:41.100054Z",
     "start_time": "2022-06-11T18:42:40.121679Z"
    },
    "hidden": true
   },
   "outputs": [
    {
     "data": {
      "image/png": "[encoded data removed]",
      "text/plain": [
       "<Figure size 432x288 with 1 Axes>"
      ]
     },
     "metadata": {
      "needs_background": "light"
     },
     "output_type": "display_data"
    }
   ],
   "source": [
    "sns.countplot(x=df4['vehicle_age'], hue = df4['response']).set(title='Contagem de respostas por anos de uso dos veículos');"
   ]
  },
  {
   "cell_type": "markdown",
   "id": "a8315883",
   "metadata": {
    "hidden": true
   },
   "source": [
    "### 4.2.2 A maioria dos usuários que desejam um seguro de saúde são mulheres.\n",
    "**Falso**. Homens desejam mais seguros que mulheres"
   ]
  },
  {
   "cell_type": "code",
   "execution_count": 192,
   "id": "5177af75",
   "metadata": {
    "ExecuteTime": {
     "end_time": "2022-06-11T18:42:42.286316Z",
     "start_time": "2022-06-11T18:42:41.103937Z"
    },
    "hidden": true
   },
   "outputs": [
    {
     "data": {
      "image/png": "[encoded data removed]",
      "text/plain": [
       "<Figure size 432x288 with 1 Axes>"
      ]
     },
     "metadata": {
      "needs_background": "light"
     },
     "output_type": "display_data"
    }
   ],
   "source": [
    "sns.countplot(x=df4['gender'], hue = df4['response']).set(title='Porcentagem de resposta por anos de uso dos veículos');"
   ]
  },
  {
   "cell_type": "markdown",
   "id": "602eb8f5",
   "metadata": {
    "hidden": true
   },
   "source": [
    "### 4.2.3 Usuários com idade maior que 40, estão mais interessadas em contratar um seguro."
   ]
  },
  {
   "cell_type": "code",
   "execution_count": 193,
   "id": "b8a4e8e8",
   "metadata": {
    "ExecuteTime": {
     "end_time": "2022-06-11T18:42:45.197745Z",
     "start_time": "2022-06-11T18:42:42.293245Z"
    },
    "hidden": true
   },
   "outputs": [
    {
     "data": {
      "image/png": "[encoded data removed]",
      "text/plain": [
       "<Figure size 1296x360 with 1 Axes>"
      ]
     },
     "metadata": {
      "needs_background": "light"
     },
     "output_type": "display_data"
    }
   ],
   "source": [
    "plt.figure(figsize=(18,5))\n",
    "sns.countplot(x='age', data=df4, hue='response', dodge=False);"
   ]
  },
  {
   "cell_type": "code",
   "execution_count": 194,
   "id": "f98f8aa5",
   "metadata": {
    "ExecuteTime": {
     "end_time": "2022-06-11T18:42:46.060541Z",
     "start_time": "2022-06-11T18:42:45.202748Z"
    },
    "hidden": true
   },
   "outputs": [
    {
     "data": {
      "image/png": "[encoded data removed]",
      "text/plain": [
       "<Figure size 432x288 with 1 Axes>"
      ]
     },
     "metadata": {
      "needs_background": "light"
     },
     "output_type": "display_data"
    }
   ],
   "source": [
    "sns.countplot(x=df4['age_category'], hue = df4['response']);"
   ]
  },
  {
   "cell_type": "markdown",
   "id": "8c4d4ee5",
   "metadata": {
    "hidden": true
   },
   "source": [
    "### 4.2.4 A maioria dos usuários que tiveram um acidente veicular não querem seguro de saúde.\n",
    "**VERDADEIRO**. A maioria dos usuários que sofreram acidentes não querem seguro de saúde."
   ]
  },
  {
   "cell_type": "code",
   "execution_count": 195,
   "id": "3ed36d4d",
   "metadata": {
    "ExecuteTime": {
     "end_time": "2022-06-11T18:42:46.535705Z",
     "start_time": "2022-06-11T18:42:46.067479Z"
    },
    "hidden": true
   },
   "outputs": [
    {
     "data": {
      "image/png": "[encoded data removed]",
      "text/plain": [
       "<Figure size 432x288 with 1 Axes>"
      ]
     },
     "metadata": {
      "needs_background": "light"
     },
     "output_type": "display_data"
    }
   ],
   "source": [
    "aux1 = df4[(df4['response'] == 0)]\n",
    "ax = sns.countplot(y='vehicle_damage', data=aux1)\n",
    "ax=ax"
   ]
  },
  {
   "cell_type": "markdown",
   "id": "d7841242",
   "metadata": {
    "hidden": true
   },
   "source": [
    "### 4.2.5 Usuários que não possuem habilitação, não estão interessados em contratar um seguro.\n",
    "**VERDADEIRA** Pessoas sem habilitação não tem interesse em contratar um seguro."
   ]
  },
  {
   "cell_type": "code",
   "execution_count": 196,
   "id": "46cdc8a9",
   "metadata": {
    "ExecuteTime": {
     "end_time": "2022-06-11T18:42:47.023747Z",
     "start_time": "2022-06-11T18:42:46.539638Z"
    },
    "hidden": true
   },
   "outputs": [
    {
     "data": {
      "text/plain": [
       "<AxesSubplot:xlabel='driving_license', ylabel='count'>"
      ]
     },
     "execution_count": 196,
     "metadata": {},
     "output_type": "execute_result"
    },
    {
     "data": {
      "image/png": "[encoded data removed]",
      "text/plain": [
       "<Figure size 1080x360 with 1 Axes>"
      ]
     },
     "metadata": {
      "needs_background": "light"
     },
     "output_type": "display_data"
    }
   ],
   "source": [
    "plt.figure(figsize=(15, 5))\n",
    "sns.countplot(x='driving_license', data=df4, hue='response')"
   ]
  },
  {
   "cell_type": "markdown",
   "id": "1d08e68d",
   "metadata": {
    "hidden": true
   },
   "source": [
    "### 4.2.6 Clientes com seguros automotivos são mais propensos a quererem seguro de saúde.\n",
    "**FALSO**. Pessoas que nunca possuíram seguros automotivos estão mais propensos a quererem seguro de saúde."
   ]
  },
  {
   "cell_type": "code",
   "execution_count": 197,
   "id": "bfaa2c01",
   "metadata": {
    "ExecuteTime": {
     "end_time": "2022-06-11T18:42:47.557883Z",
     "start_time": "2022-06-11T18:42:47.027748Z"
    },
    "hidden": true
   },
   "outputs": [
    {
     "data": {
      "text/plain": [
       "<AxesSubplot:xlabel='previously_insured', ylabel='count'>"
      ]
     },
     "execution_count": 197,
     "metadata": {},
     "output_type": "execute_result"
    },
    {
     "data": {
      "image/png": "[encoded data removed]",
      "text/plain": [
       "<Figure size 1080x360 with 1 Axes>"
      ]
     },
     "metadata": {
      "needs_background": "light"
     },
     "output_type": "display_data"
    }
   ],
   "source": [
    "plt.figure(figsize=(15, 5))\n",
    "sns.countplot(x='previously_insured', data=df4, hue='response')"
   ]
  },
  {
   "cell_type": "markdown",
   "id": "65dddd74",
   "metadata": {
    "hidden": true
   },
   "source": [
    "## 4.3 Análise Multivariada"
   ]
  },
  {
   "cell_type": "code",
   "execution_count": 198,
   "id": "2b7dd754",
   "metadata": {
    "ExecuteTime": {
     "end_time": "2022-06-11T18:42:47.621555Z",
     "start_time": "2022-06-11T18:42:47.567541Z"
    },
    "hidden": true
   },
   "outputs": [],
   "source": [
    "num_attributes = df4.select_dtypes(include = ['int64', 'float64'])\n",
    "num_attributes = num_attributes.drop(columns=['id'])\n",
    "cat_attributes = df4.select_dtypes(exclude = ['int64', 'float64', 'datetime64[ns]'])"
   ]
  },
  {
   "cell_type": "markdown",
   "id": "9129177a",
   "metadata": {
    "hidden": true
   },
   "source": [
    "### 4.3.1 Numérica"
   ]
  },
  {
   "cell_type": "code",
   "execution_count": 199,
   "id": "3d978146",
   "metadata": {
    "ExecuteTime": {
     "end_time": "2022-06-11T18:42:50.349201Z",
     "start_time": "2022-06-11T18:42:47.626556Z"
    },
    "hidden": true
   },
   "outputs": [
    {
     "data": {
      "image/png": "[encoded data removed]",
      "text/plain": [
       "<Figure size 1080x576 with 2 Axes>"
      ]
     },
     "metadata": {
      "needs_background": "light"
     },
     "output_type": "display_data"
    }
   ],
   "source": [
    "corr = num_attributes.corr()\n",
    "plt.figure(figsize=(15,8))\n",
    "ax = sns.heatmap(corr, annot=True)"
   ]
  },
  {
   "cell_type": "markdown",
   "id": "81c75bd2",
   "metadata": {
    "hidden": true
   },
   "source": [
    "**Principais pontos:**\n",
    "\n",
    "- Há uma correlação negativa forte entre os canais de comunicação e a idade do assegurado;\n",
    "- Há uma leve correlação entre o dano do automóvel e a idade;\n",
    "- Há uma leve correlação entre o cliente já possuir algum seguro de vida e a quantidade de canais de contato;\n",
    "- Há uma correlação negativa forte entre o dano do automóvel e se o cliente já possuiu seguro na vida "
   ]
  },
  {
   "cell_type": "markdown",
   "id": "5c6b2a5b",
   "metadata": {
    "hidden": true
   },
   "source": [
    "### 4.3.2 Categórica"
   ]
  },
  {
   "cell_type": "code",
   "execution_count": 200,
   "id": "8ae1b988",
   "metadata": {
    "ExecuteTime": {
     "end_time": "2022-06-11T18:42:53.075039Z",
     "start_time": "2022-06-11T18:42:50.354205Z"
    },
    "hidden": true
   },
   "outputs": [
    {
     "data": {
      "text/plain": [
       "<AxesSubplot:>"
      ]
     },
     "execution_count": 200,
     "metadata": {},
     "output_type": "execute_result"
    },
    {
     "data": {
      "image/png": "[encoded data removed]",
      "text/plain": [
       "<Figure size 1080x576 with 2 Axes>"
      ]
     },
     "metadata": {
      "needs_background": "light"
     },
     "output_type": "display_data"
    }
   ],
   "source": [
    "cat_attributes = df4.select_dtypes(include='object')\n",
    "dict_corr = {}\n",
    "columns = cat_attributes.columns.tolist()\n",
    "\n",
    "for column in columns:\n",
    "    dict_corr[column] = {}\n",
    "    \n",
    "    for column2 in columns:\n",
    "        dict_corr[column][column2] = cramer_v(cat_attributes[column], cat_attributes[column2])\n",
    "        \n",
    "corr = pd.DataFrame(dict_corr)\n",
    "\n",
    "plt.figure(figsize=(15,8))\n",
    "sns.heatmap(corr, annot=True)"
   ]
  },
  {
   "cell_type": "markdown",
   "id": "980cf7f7",
   "metadata": {
    "hidden": true
   },
   "source": [
    "**Principais Pontos**:\n",
    "- Exceto pela idade do veículo e as categorias de idade, não é possível observar nenhuma correlação significativa entre as variáveis."
   ]
  },
  {
   "cell_type": "markdown",
   "id": "c6b62630",
   "metadata": {
    "heading_collapsed": true
   },
   "source": [
    "# 5.0 Data Preparation\n",
    "---"
   ]
  },
  {
   "cell_type": "code",
   "execution_count": 201,
   "id": "b4c7f913",
   "metadata": {
    "ExecuteTime": {
     "end_time": "2022-06-11T18:42:53.138351Z",
     "start_time": "2022-06-11T18:42:53.080031Z"
    },
    "hidden": true
   },
   "outputs": [],
   "source": [
    "df5 = df4.copy()"
   ]
  },
  {
   "cell_type": "code",
   "execution_count": 202,
   "id": "cb64eee2",
   "metadata": {
    "ExecuteTime": {
     "end_time": "2022-06-11T18:42:53.591939Z",
     "start_time": "2022-06-11T18:42:53.142235Z"
    },
    "hidden": true
   },
   "outputs": [],
   "source": [
    "X = df4.drop('response', axis=1)\n",
    "y = df4['response'].copy()\n",
    "\n",
    "x_train, x_validation, y_train, y_validation = ms.train_test_split(X, y, test_size=0.20)\n",
    "\n",
    "df5 = pd.concat([x_train, y_train], axis=1)"
   ]
  },
  {
   "cell_type": "markdown",
   "id": "b7eb4c05",
   "metadata": {
    "hidden": true
   },
   "source": [
    "## 5.1 Standardization"
   ]
  },
  {
   "cell_type": "code",
   "execution_count": 203,
   "id": "649e1493",
   "metadata": {
    "ExecuteTime": {
     "end_time": "2022-06-11T18:42:53.688066Z",
     "start_time": "2022-06-11T18:42:53.599942Z"
    },
    "hidden": true
   },
   "outputs": [],
   "source": [
    "ss = pp.StandardScaler()\n",
    "# annual_premium\n",
    "df5['annual_premium'] = ss.fit_transform(df5[['annual_premium']].values)"
   ]
  },
  {
   "cell_type": "code",
   "execution_count": 204,
   "id": "918a7c4a",
   "metadata": {
    "ExecuteTime": {
     "end_time": "2022-06-11T18:42:53.719961Z",
     "start_time": "2022-06-11T18:42:53.693074Z"
    },
    "hidden": true
   },
   "outputs": [
    {
     "data": {
      "text/plain": [
       "Index(['gender', 'age', 'region_code', 'policy_sales_channel',\n",
       "       'driving_license', 'vehicle_age', 'vehicle_damage',\n",
       "       'previously_insured', 'annual_premium', 'vintage', 'id', 'age_category',\n",
       "       'response'],\n",
       "      dtype='object')"
      ]
     },
     "execution_count": 204,
     "metadata": {},
     "output_type": "execute_result"
    }
   ],
   "source": [
    "df5.columns"
   ]
  },
  {
   "cell_type": "markdown",
   "id": "05ba3512",
   "metadata": {
    "ExecuteTime": {
     "end_time": "2022-05-31T09:42:41.813374Z",
     "start_time": "2022-05-31T09:42:41.793369Z"
    },
    "hidden": true
   },
   "source": [
    "## 5.2 Rescaling"
   ]
  },
  {
   "cell_type": "code",
   "execution_count": 205,
   "id": "e6e8c79d",
   "metadata": {
    "ExecuteTime": {
     "end_time": "2022-06-11T18:42:53.845654Z",
     "start_time": "2022-06-11T18:42:53.724964Z"
    },
    "hidden": true
   },
   "outputs": [],
   "source": [
    "mms_age = pp.MinMaxScaler()\n",
    "mms_vintage = pp.MinMaxScaler()\n",
    "\n",
    "# age\n",
    "df5['age'] = mms_age.fit_transform(df5[['age']].values)\n",
    "\n",
    "# vintage\n",
    "df5['vintage'] = mms_age.fit_transform(df5[['vintage']].values)"
   ]
  },
  {
   "cell_type": "markdown",
   "id": "333df286",
   "metadata": {
    "hidden": true
   },
   "source": [
    "## 5.3 Encoder"
   ]
  },
  {
   "cell_type": "code",
   "execution_count": 206,
   "id": "64c1d979",
   "metadata": {
    "ExecuteTime": {
     "end_time": "2022-06-11T18:42:54.553864Z",
     "start_time": "2022-06-11T18:42:53.851618Z"
    },
    "hidden": true
   },
   "outputs": [],
   "source": [
    "# gender - One Hot Encoding / Target Encoding\n",
    "target_encoding_gender = df5.groupby('gender')['response'].mean()\n",
    "df5.loc[:, 'gender'] = df5['gender'].map(target_encoding_gender)\n",
    "\n",
    "# region_code - Frequency Enconding / Target Encoding\n",
    "target_encoding_region_code = df5.groupby('region_code')['response'].mean()\n",
    "df5.loc[:, 'region_code'] = df5['region_code'].map(target_encoding_region_code)\n",
    "# a target encoding nada mais é que a média da variável, também é conhecida como “mean” encoding.\n",
    "\n",
    "# vehicle_age - One Hot Encoding / Order Encoding / Frequency Encoding\n",
    "df5 = pd.get_dummies(df5, prefix='vehicle_age', columns=['vehicle_age'])\n",
    "\n",
    "# policy_sales_channel - Target Encoding / Frequency Encoding\n",
    "frequency_encoding_policy_sales_channel = df5.groupby('policy_sales_channel').size() / len(df5)\n",
    "df5.loc[:,'policy_sales_channel'] = df5['policy_sales_channel'].map(frequency_encoding_policy_sales_channel)\n",
    "# Frequency Encoding está contando quanto cada categoria de policy sales channel tem e dividindo pelo total, \n",
    "# é uma frequencia de aparição. Quanto mais vezes ela aparece, maior o peso da categoria para a variável.\n",
    "\n",
    "# age_category - Label Encoding\n",
    "df5['age_category'] = df5['age_category'].map({'under_40_years': 0, 'over_40_years': 1})"
   ]
  },
  {
   "cell_type": "code",
   "execution_count": 207,
   "id": "0386b402",
   "metadata": {
    "ExecuteTime": {
     "end_time": "2022-06-11T18:42:54.601937Z",
     "start_time": "2022-06-11T18:42:54.557869Z"
    },
    "hidden": true
   },
   "outputs": [
    {
     "data": {
      "text/html": [
       "<div>\n",
       "<style scoped>\n",
       "    .dataframe tbody tr th:only-of-type {\n",
       "        vertical-align: middle;\n",
       "    }\n",
       "\n",
       "    .dataframe tbody tr th {\n",
       "        vertical-align: top;\n",
       "    }\n",
       "\n",
       "    .dataframe thead th {\n",
       "        text-align: right;\n",
       "    }\n",
       "</style>\n",
       "<table border=\"1\" class=\"dataframe\">\n",
       "  <thead>\n",
       "    <tr style=\"text-align: right;\">\n",
       "      <th></th>\n",
       "      <th>gender</th>\n",
       "      <th>age</th>\n",
       "      <th>region_code</th>\n",
       "      <th>policy_sales_channel</th>\n",
       "      <th>driving_license</th>\n",
       "      <th>vehicle_damage</th>\n",
       "      <th>previously_insured</th>\n",
       "      <th>annual_premium</th>\n",
       "      <th>vintage</th>\n",
       "      <th>id</th>\n",
       "      <th>age_category</th>\n",
       "      <th>response</th>\n",
       "      <th>vehicle_age_below_1_year</th>\n",
       "      <th>vehicle_age_between_1_2_year</th>\n",
       "      <th>vehicle_age_over_2_years</th>\n",
       "    </tr>\n",
       "  </thead>\n",
       "  <tbody>\n",
       "    <tr>\n",
       "      <th>256957</th>\n",
       "      <td>0.138984</td>\n",
       "      <td>0.430769</td>\n",
       "      <td>0.105347</td>\n",
       "      <td>0.209707</td>\n",
       "      <td>1</td>\n",
       "      <td>0</td>\n",
       "      <td>1</td>\n",
       "      <td>-0.419153</td>\n",
       "      <td>0.152249</td>\n",
       "      <td>256957</td>\n",
       "      <td>1</td>\n",
       "      <td>0</td>\n",
       "      <td>0</td>\n",
       "      <td>1</td>\n",
       "      <td>0</td>\n",
       "    </tr>\n",
       "    <tr>\n",
       "      <th>55155</th>\n",
       "      <td>0.138984</td>\n",
       "      <td>0.615385</td>\n",
       "      <td>0.062523</td>\n",
       "      <td>0.007600</td>\n",
       "      <td>1</td>\n",
       "      <td>1</td>\n",
       "      <td>0</td>\n",
       "      <td>0.281318</td>\n",
       "      <td>0.034602</td>\n",
       "      <td>55155</td>\n",
       "      <td>1</td>\n",
       "      <td>0</td>\n",
       "      <td>0</td>\n",
       "      <td>1</td>\n",
       "      <td>0</td>\n",
       "    </tr>\n",
       "    <tr>\n",
       "      <th>256493</th>\n",
       "      <td>0.104070</td>\n",
       "      <td>0.092308</td>\n",
       "      <td>0.073621</td>\n",
       "      <td>0.353321</td>\n",
       "      <td>1</td>\n",
       "      <td>0</td>\n",
       "      <td>1</td>\n",
       "      <td>-0.286887</td>\n",
       "      <td>0.204152</td>\n",
       "      <td>256493</td>\n",
       "      <td>0</td>\n",
       "      <td>0</td>\n",
       "      <td>1</td>\n",
       "      <td>0</td>\n",
       "      <td>0</td>\n",
       "    </tr>\n",
       "    <tr>\n",
       "      <th>210981</th>\n",
       "      <td>0.104070</td>\n",
       "      <td>0.030769</td>\n",
       "      <td>0.071053</td>\n",
       "      <td>0.209707</td>\n",
       "      <td>1</td>\n",
       "      <td>0</td>\n",
       "      <td>1</td>\n",
       "      <td>-0.268100</td>\n",
       "      <td>0.529412</td>\n",
       "      <td>210981</td>\n",
       "      <td>0</td>\n",
       "      <td>0</td>\n",
       "      <td>1</td>\n",
       "      <td>0</td>\n",
       "      <td>0</td>\n",
       "    </tr>\n",
       "    <tr>\n",
       "      <th>194681</th>\n",
       "      <td>0.104070</td>\n",
       "      <td>0.184615</td>\n",
       "      <td>0.096761</td>\n",
       "      <td>0.015560</td>\n",
       "      <td>1</td>\n",
       "      <td>0</td>\n",
       "      <td>1</td>\n",
       "      <td>0.006841</td>\n",
       "      <td>0.889273</td>\n",
       "      <td>194681</td>\n",
       "      <td>0</td>\n",
       "      <td>0</td>\n",
       "      <td>0</td>\n",
       "      <td>1</td>\n",
       "      <td>0</td>\n",
       "    </tr>\n",
       "  </tbody>\n",
       "</table>\n",
       "</div>"
      ],
      "text/plain": [
       "          gender       age  region_code  policy_sales_channel  \\\n",
       "256957  0.138984  0.430769     0.105347              0.209707   \n",
       "55155   0.138984  0.615385     0.062523              0.007600   \n",
       "256493  0.104070  0.092308     0.073621              0.353321   \n",
       "210981  0.104070  0.030769     0.071053              0.209707   \n",
       "194681  0.104070  0.184615     0.096761              0.015560   \n",
       "\n",
       "        driving_license  vehicle_damage  previously_insured  annual_premium  \\\n",
       "256957                1               0                   1       -0.419153   \n",
       "55155                 1               1                   0        0.281318   \n",
       "256493                1               0                   1       -0.286887   \n",
       "210981                1               0                   1       -0.268100   \n",
       "194681                1               0                   1        0.006841   \n",
       "\n",
       "         vintage      id  age_category  response  vehicle_age_below_1_year  \\\n",
       "256957  0.152249  256957             1         0                         0   \n",
       "55155   0.034602   55155             1         0                         0   \n",
       "256493  0.204152  256493             0         0                         1   \n",
       "210981  0.529412  210981             0         0                         1   \n",
       "194681  0.889273  194681             0         0                         0   \n",
       "\n",
       "        vehicle_age_between_1_2_year  vehicle_age_over_2_years  \n",
       "256957                             1                         0  \n",
       "55155                              1                         0  \n",
       "256493                             0                         0  \n",
       "210981                             0                         0  \n",
       "194681                             1                         0  "
      ]
     },
     "execution_count": 207,
     "metadata": {},
     "output_type": "execute_result"
    }
   ],
   "source": [
    "df5.head()"
   ]
  },
  {
   "cell_type": "markdown",
   "id": "2674265e",
   "metadata": {
    "hidden": true
   },
   "source": [
    "## 5.4 Validation Preparation"
   ]
  },
  {
   "cell_type": "code",
   "execution_count": 208,
   "id": "662359ba",
   "metadata": {
    "ExecuteTime": {
     "end_time": "2022-06-11T18:42:54.857725Z",
     "start_time": "2022-06-11T18:42:54.606938Z"
    },
    "hidden": true
   },
   "outputs": [],
   "source": [
    "# gender\n",
    "x_validation.loc[:, 'gender'] = x_validation.loc[:,'gender'].map(target_encoding_gender)\n",
    "\n",
    "# age\n",
    "x_validation.loc[:, 'age'] = mms_age.transform(x_validation[['age']].values)\n",
    "\n",
    "# region_code\n",
    "x_validation.loc[:,'region_code'] = x_validation.loc[:, 'region_code'].map(target_encoding_region_code)\n",
    "\n",
    "# vehicle_age\n",
    "x_validation = pd.get_dummies(x_validation, prefix='vehicle_age', columns=['vehicle_age'])\n",
    "\n",
    "# annual_premium\n",
    "x_validation['annual_premium'] = ss.fit_transform(x_validation[['annual_premium']].values)\n",
    "\n",
    "# policy_sales_channel\n",
    "x_validation.loc[:,'policy_sales_channel'] = x_validation['policy_sales_channel'].map(frequency_encoding_policy_sales_channel)\n",
    "\n",
    "# vintage\n",
    "x_validation['vintage'] = mms_age.fit_transform(x_validation[['vintage']].values)\n",
    "\n",
    "# fillna\n",
    "x_validation = x_validation.fillna(0) # tem regiões em region_code que após o target_encoding ficou com NA."
   ]
  },
  {
   "cell_type": "markdown",
   "id": "b0c865dc",
   "metadata": {
    "heading_collapsed": true
   },
   "source": [
    "# 6.0 Feature Selection\n",
    "---"
   ]
  },
  {
   "cell_type": "markdown",
   "id": "bcceb4ba",
   "metadata": {
    "hidden": true
   },
   "source": [
    "## 6.1 Features Importancia"
   ]
  },
  {
   "cell_type": "code",
   "execution_count": 209,
   "id": "deef5de2",
   "metadata": {
    "ExecuteTime": {
     "end_time": "2022-06-11T18:42:54.921306Z",
     "start_time": "2022-06-11T18:42:54.866508Z"
    },
    "hidden": true
   },
   "outputs": [],
   "source": [
    "df6 = df5.copy()"
   ]
  },
  {
   "cell_type": "code",
   "execution_count": 210,
   "id": "6df8f81e",
   "metadata": {
    "ExecuteTime": {
     "end_time": "2022-06-11T18:43:42.372434Z",
     "start_time": "2022-06-11T18:42:54.926186Z"
    },
    "hidden": true
   },
   "outputs": [
    {
     "data": {
      "text/html": [
       "<div>\n",
       "<style scoped>\n",
       "    .dataframe tbody tr th:only-of-type {\n",
       "        vertical-align: middle;\n",
       "    }\n",
       "\n",
       "    .dataframe tbody tr th {\n",
       "        vertical-align: top;\n",
       "    }\n",
       "\n",
       "    .dataframe thead th {\n",
       "        text-align: right;\n",
       "    }\n",
       "</style>\n",
       "<table border=\"1\" class=\"dataframe\">\n",
       "  <thead>\n",
       "    <tr style=\"text-align: right;\">\n",
       "      <th></th>\n",
       "      <th>features</th>\n",
       "      <th>ExtraTreeClassifier</th>\n",
       "    </tr>\n",
       "  </thead>\n",
       "  <tbody>\n",
       "    <tr>\n",
       "      <th>0</th>\n",
       "      <td>gender</td>\n",
       "      <td>0.005554</td>\n",
       "    </tr>\n",
       "    <tr>\n",
       "      <th>1</th>\n",
       "      <td>age</td>\n",
       "      <td>0.139187</td>\n",
       "    </tr>\n",
       "    <tr>\n",
       "      <th>2</th>\n",
       "      <td>region_code</td>\n",
       "      <td>0.114730</td>\n",
       "    </tr>\n",
       "    <tr>\n",
       "      <th>3</th>\n",
       "      <td>policy_sales_channel</td>\n",
       "      <td>0.062921</td>\n",
       "    </tr>\n",
       "    <tr>\n",
       "      <th>4</th>\n",
       "      <td>driving_license</td>\n",
       "      <td>0.000446</td>\n",
       "    </tr>\n",
       "    <tr>\n",
       "      <th>5</th>\n",
       "      <td>vehicle_damage</td>\n",
       "      <td>0.076381</td>\n",
       "    </tr>\n",
       "    <tr>\n",
       "      <th>6</th>\n",
       "      <td>previously_insured</td>\n",
       "      <td>0.051120</td>\n",
       "    </tr>\n",
       "    <tr>\n",
       "      <th>7</th>\n",
       "      <td>annual_premium</td>\n",
       "      <td>0.247235</td>\n",
       "    </tr>\n",
       "    <tr>\n",
       "      <th>8</th>\n",
       "      <td>vintage</td>\n",
       "      <td>0.277430</td>\n",
       "    </tr>\n",
       "    <tr>\n",
       "      <th>9</th>\n",
       "      <td>age_category</td>\n",
       "      <td>0.005013</td>\n",
       "    </tr>\n",
       "    <tr>\n",
       "      <th>10</th>\n",
       "      <td>vehicle_age_below_1_year</td>\n",
       "      <td>0.011904</td>\n",
       "    </tr>\n",
       "    <tr>\n",
       "      <th>11</th>\n",
       "      <td>vehicle_age_between_1_2_year</td>\n",
       "      <td>0.006335</td>\n",
       "    </tr>\n",
       "    <tr>\n",
       "      <th>12</th>\n",
       "      <td>vehicle_age_over_2_years</td>\n",
       "      <td>0.001745</td>\n",
       "    </tr>\n",
       "  </tbody>\n",
       "</table>\n",
       "</div>"
      ],
      "text/plain": [
       "                        features  ExtraTreeClassifier\n",
       "0                         gender             0.005554\n",
       "1                            age             0.139187\n",
       "2                    region_code             0.114730\n",
       "3           policy_sales_channel             0.062921\n",
       "4                driving_license             0.000446\n",
       "5                 vehicle_damage             0.076381\n",
       "6             previously_insured             0.051120\n",
       "7                 annual_premium             0.247235\n",
       "8                        vintage             0.277430\n",
       "9                   age_category             0.005013\n",
       "10      vehicle_age_below_1_year             0.011904\n",
       "11  vehicle_age_between_1_2_year             0.006335\n",
       "12      vehicle_age_over_2_years             0.001745"
      ]
     },
     "execution_count": 210,
     "metadata": {},
     "output_type": "execute_result"
    }
   ],
   "source": [
    "# model definition\n",
    "extra = en.ExtraTreesClassifier(n_estimators = 50, random_state=42)\n",
    "\n",
    "# data preparation\n",
    "x_train_n = df6.drop(['id', 'response'], axis=1)\n",
    "y_train_n = y_train.values\n",
    "extra.fit(x_train_n, y_train_n)\n",
    "\n",
    "# dataframe with feature ranking\n",
    "aux = pd.DataFrame({'features': df6.drop(['id','response'],axis=1).columns,\n",
    "                    'ExtraTreeClassifier': extra.feature_importances_})\n",
    "aux"
   ]
  },
  {
   "cell_type": "code",
   "execution_count": 211,
   "id": "f9a8bffa",
   "metadata": {
    "ExecuteTime": {
     "end_time": "2022-06-11T18:43:43.308176Z",
     "start_time": "2022-06-11T18:43:42.384439Z"
    },
    "hidden": true
   },
   "outputs": [
    {
     "data": {
      "text/plain": [
       "<AxesSubplot:xlabel='ExtraTreeClassifier', ylabel='features'>"
      ]
     },
     "execution_count": 211,
     "metadata": {},
     "output_type": "execute_result"
    },
    {
     "data": {
      "image/png": "[encoded data removed]",
      "text/plain": [
       "<Figure size 1296x432 with 1 Axes>"
      ]
     },
     "metadata": {
      "needs_background": "light"
     },
     "output_type": "display_data"
    }
   ],
   "source": [
    "plt.figure(figsize=(18,6))\n",
    "\n",
    "aux2 = aux.sort_values('ExtraTreeClassifier',ascending = False)\n",
    "sns.barplot(y='features', x='ExtraTreeClassifier',data = aux2)"
   ]
  },
  {
   "cell_type": "code",
   "execution_count": 212,
   "id": "4ac2592d",
   "metadata": {
    "ExecuteTime": {
     "end_time": "2022-06-11T18:43:43.941760Z",
     "start_time": "2022-06-11T18:43:43.315182Z"
    },
    "hidden": true
   },
   "outputs": [
    {
     "name": "stdout",
     "output_type": "stream",
     "text": [
      "Feature Ranking\n",
      "                        feature  importance\n",
      "0                       vintage    0.277430\n",
      "0                annual_premium    0.247235\n",
      "0                           age    0.139187\n",
      "0                   region_code    0.114730\n",
      "0                vehicle_damage    0.076381\n",
      "0          policy_sales_channel    0.062921\n",
      "0            previously_insured    0.051120\n",
      "0      vehicle_age_below_1_year    0.011904\n",
      "0  vehicle_age_between_1_2_year    0.006335\n",
      "0                        gender    0.005554\n",
      "0                  age_category    0.005013\n",
      "0      vehicle_age_over_2_years    0.001745\n",
      "0               driving_license    0.000446\n"
     ]
    }
   ],
   "source": [
    "importances = extra.feature_importances_\n",
    "std = np.std([tree.feature_importances_ for tree in extra.estimators_], axis=0)\n",
    "indices = np.argsort(importances)[::-1]\n",
    "\n",
    "# print the feature ranking\n",
    "print('Feature Ranking')\n",
    "df = pd.DataFrame()\n",
    "\n",
    "for i,j in zip(x_train_n, extra.feature_importances_):\n",
    "    aux = pd.DataFrame({'feature': i, 'importance': j}, index=[0])\n",
    "    df = pd.concat([df, aux], axis=0)\n",
    "\n",
    "print(df.sort_values('importance', ascending=False))"
   ]
  },
  {
   "cell_type": "markdown",
   "id": "d9590974",
   "metadata": {
    "hidden": true
   },
   "source": [
    "As features que explicam até 5% do fenômeno serão selecionadas aqui. "
   ]
  },
  {
   "cell_type": "markdown",
   "id": "9b114b7e",
   "metadata": {
    "hidden": true
   },
   "source": [
    "## 6.2 Features Selected"
   ]
  },
  {
   "cell_type": "code",
   "execution_count": 213,
   "id": "85f6a00a",
   "metadata": {
    "ExecuteTime": {
     "end_time": "2022-06-11T18:43:43.957192Z",
     "start_time": "2022-06-11T18:43:43.948193Z"
    },
    "hidden": true
   },
   "outputs": [],
   "source": [
    "cols_selected = ['vintage', 'annual_premium', 'age', 'region_code', \n",
    "                 'vehicle_damage', 'policy_sales_channel', 'previously_insured']"
   ]
  },
  {
   "cell_type": "markdown",
   "id": "a8d5a693",
   "metadata": {},
   "source": [
    "# 7.0 Machine Learning Model\n",
    "---"
   ]
  },
  {
   "cell_type": "code",
   "execution_count": 214,
   "id": "38de2e20",
   "metadata": {
    "ExecuteTime": {
     "end_time": "2022-06-11T18:43:44.036211Z",
     "start_time": "2022-06-11T18:43:43.967197Z"
    }
   },
   "outputs": [
    {
     "data": {
      "text/html": [
       "<div>\n",
       "<style scoped>\n",
       "    .dataframe tbody tr th:only-of-type {\n",
       "        vertical-align: middle;\n",
       "    }\n",
       "\n",
       "    .dataframe tbody tr th {\n",
       "        vertical-align: top;\n",
       "    }\n",
       "\n",
       "    .dataframe thead th {\n",
       "        text-align: right;\n",
       "    }\n",
       "</style>\n",
       "<table border=\"1\" class=\"dataframe\">\n",
       "  <thead>\n",
       "    <tr style=\"text-align: right;\">\n",
       "      <th></th>\n",
       "      <th>gender</th>\n",
       "      <th>age</th>\n",
       "      <th>region_code</th>\n",
       "      <th>policy_sales_channel</th>\n",
       "      <th>driving_license</th>\n",
       "      <th>vehicle_damage</th>\n",
       "      <th>previously_insured</th>\n",
       "      <th>annual_premium</th>\n",
       "      <th>vintage</th>\n",
       "      <th>id</th>\n",
       "      <th>age_category</th>\n",
       "      <th>vehicle_age_below_1_year</th>\n",
       "      <th>vehicle_age_between_1_2_year</th>\n",
       "      <th>vehicle_age_over_2_years</th>\n",
       "    </tr>\n",
       "  </thead>\n",
       "  <tbody>\n",
       "    <tr>\n",
       "      <th>229755</th>\n",
       "      <td>0.104070</td>\n",
       "      <td>0.193772</td>\n",
       "      <td>0.079228</td>\n",
       "      <td>0.353321</td>\n",
       "      <td>1</td>\n",
       "      <td>0</td>\n",
       "      <td>1</td>\n",
       "      <td>0.051841</td>\n",
       "      <td>0.474048</td>\n",
       "      <td>229755</td>\n",
       "      <td>over_40_years</td>\n",
       "      <td>0</td>\n",
       "      <td>1</td>\n",
       "      <td>0</td>\n",
       "    </tr>\n",
       "    <tr>\n",
       "      <th>132896</th>\n",
       "      <td>0.138984</td>\n",
       "      <td>0.155709</td>\n",
       "      <td>0.187638</td>\n",
       "      <td>0.209707</td>\n",
       "      <td>1</td>\n",
       "      <td>1</td>\n",
       "      <td>0</td>\n",
       "      <td>1.670448</td>\n",
       "      <td>0.062284</td>\n",
       "      <td>132896</td>\n",
       "      <td>over_40_years</td>\n",
       "      <td>0</td>\n",
       "      <td>0</td>\n",
       "      <td>1</td>\n",
       "    </tr>\n",
       "    <tr>\n",
       "      <th>5266</th>\n",
       "      <td>0.138984</td>\n",
       "      <td>0.128028</td>\n",
       "      <td>0.062523</td>\n",
       "      <td>0.194574</td>\n",
       "      <td>1</td>\n",
       "      <td>1</td>\n",
       "      <td>0</td>\n",
       "      <td>1.105991</td>\n",
       "      <td>0.643599</td>\n",
       "      <td>5266</td>\n",
       "      <td>over_40_years</td>\n",
       "      <td>0</td>\n",
       "      <td>1</td>\n",
       "      <td>0</td>\n",
       "    </tr>\n",
       "    <tr>\n",
       "      <th>32084</th>\n",
       "      <td>0.138984</td>\n",
       "      <td>0.058824</td>\n",
       "      <td>0.121416</td>\n",
       "      <td>0.353321</td>\n",
       "      <td>1</td>\n",
       "      <td>0</td>\n",
       "      <td>1</td>\n",
       "      <td>-0.026913</td>\n",
       "      <td>0.726644</td>\n",
       "      <td>32084</td>\n",
       "      <td>under_40_years</td>\n",
       "      <td>1</td>\n",
       "      <td>0</td>\n",
       "      <td>0</td>\n",
       "    </tr>\n",
       "    <tr>\n",
       "      <th>97772</th>\n",
       "      <td>0.104070</td>\n",
       "      <td>0.155709</td>\n",
       "      <td>0.187638</td>\n",
       "      <td>0.026010</td>\n",
       "      <td>1</td>\n",
       "      <td>0</td>\n",
       "      <td>1</td>\n",
       "      <td>0.715173</td>\n",
       "      <td>0.958478</td>\n",
       "      <td>97772</td>\n",
       "      <td>over_40_years</td>\n",
       "      <td>0</td>\n",
       "      <td>1</td>\n",
       "      <td>0</td>\n",
       "    </tr>\n",
       "  </tbody>\n",
       "</table>\n",
       "</div>"
      ],
      "text/plain": [
       "          gender       age  region_code  policy_sales_channel  \\\n",
       "229755  0.104070  0.193772     0.079228              0.353321   \n",
       "132896  0.138984  0.155709     0.187638              0.209707   \n",
       "5266    0.138984  0.128028     0.062523              0.194574   \n",
       "32084   0.138984  0.058824     0.121416              0.353321   \n",
       "97772   0.104070  0.155709     0.187638              0.026010   \n",
       "\n",
       "        driving_license  vehicle_damage  previously_insured  annual_premium  \\\n",
       "229755                1               0                   1        0.051841   \n",
       "132896                1               1                   0        1.670448   \n",
       "5266                  1               1                   0        1.105991   \n",
       "32084                 1               0                   1       -0.026913   \n",
       "97772                 1               0                   1        0.715173   \n",
       "\n",
       "         vintage      id    age_category  vehicle_age_below_1_year  \\\n",
       "229755  0.474048  229755   over_40_years                         0   \n",
       "132896  0.062284  132896   over_40_years                         0   \n",
       "5266    0.643599    5266   over_40_years                         0   \n",
       "32084   0.726644   32084  under_40_years                         1   \n",
       "97772   0.958478   97772   over_40_years                         0   \n",
       "\n",
       "        vehicle_age_between_1_2_year  vehicle_age_over_2_years  \n",
       "229755                             1                         0  \n",
       "132896                             0                         1  \n",
       "5266                               1                         0  \n",
       "32084                              0                         0  \n",
       "97772                              1                         0  "
      ]
     },
     "execution_count": 214,
     "metadata": {},
     "output_type": "execute_result"
    }
   ],
   "source": [
    "x_validation.head()"
   ]
  },
  {
   "cell_type": "code",
   "execution_count": 215,
   "id": "10c016b1",
   "metadata": {
    "ExecuteTime": {
     "end_time": "2022-06-11T18:43:44.163242Z",
     "start_time": "2022-06-11T18:43:44.049216Z"
    }
   },
   "outputs": [],
   "source": [
    "x_train = df5[cols_selected]\n",
    "x_val = x_validation[cols_selected]\n",
    "y_val = y_validation.copy()"
   ]
  },
  {
   "cell_type": "markdown",
   "id": "1fc37e22",
   "metadata": {},
   "source": [
    "## 7.1 KNN"
   ]
  },
  {
   "cell_type": "code",
   "execution_count": 216,
   "id": "a60c2072",
   "metadata": {
    "ExecuteTime": {
     "end_time": "2022-06-11T18:44:20.641616Z",
     "start_time": "2022-06-11T18:43:44.170283Z"
    }
   },
   "outputs": [],
   "source": [
    "# model definition\n",
    "knn_model = nh.KNeighborsClassifier(n_neighbors=7)\n",
    "\n",
    "# model training\n",
    "knn_model.fit(x_train, y_train)\n",
    "\n",
    "# model prediction - Poder de GENERALIZACAO\n",
    "yhat_knn = knn_model.predict_proba(x_val)"
   ]
  },
  {
   "cell_type": "code",
   "execution_count": 217,
   "id": "75d874fe",
   "metadata": {
    "ExecuteTime": {
     "end_time": "2022-06-11T18:44:21.564493Z",
     "start_time": "2022-06-11T18:44:20.647611Z"
    }
   },
   "outputs": [
    {
     "data": {
      "image/png": "[encoded data removed]",
      "text/plain": [
       "<Figure size 1080x360 with 1 Axes>"
      ]
     },
     "metadata": {
      "needs_background": "light"
     },
     "output_type": "display_data"
    },
    {
     "data": {
      "image/png": "[encoded data removed]",
      "text/plain": [
       "<Figure size 1080x360 with 1 Axes>"
      ]
     },
     "metadata": {
      "needs_background": "light"
     },
     "output_type": "display_data"
    }
   ],
   "source": [
    "# Accumulative Gain\n",
    "skplt.metrics.plot_cumulative_gain(y_val, yhat_knn, figsize=(15, 5), title='Cumulative Gains Curve - KNN');\n",
    "skplt.metrics.plot_lift_curve(y_val, yhat_knn, figsize=(15, 5), title='Lift Curve - KNN');"
   ]
  },
  {
   "cell_type": "markdown",
   "id": "d6207044",
   "metadata": {},
   "source": [
    "Este gráfico indica que se pegar o usuário, do dado de teste e calcular a probabilidade dele e olhar o primeiro usuário, definir se ele compraria ou não e fazer o acumulado disso, o plot é esta curva laranja. Abordando 20% da lista ordenada, alcançara 50% das pessoas interessadas. Quanto mais o modelo melhora, mais pessoas são atingidas na mesma porcentagem.\n",
    "\n",
    "Em suma, se houver uma lista com 100 pessoas, ligando para as 20 primeiras, existe uma chance de 60% de todos quererem o produto."
   ]
  },
  {
   "cell_type": "markdown",
   "id": "c7387538",
   "metadata": {},
   "source": [
    "## 7.2 Logistic Regression"
   ]
  },
  {
   "cell_type": "code",
   "execution_count": 218,
   "id": "ad545e60",
   "metadata": {
    "ExecuteTime": {
     "end_time": "2022-06-11T18:44:24.700525Z",
     "start_time": "2022-06-11T18:44:21.569386Z"
    }
   },
   "outputs": [],
   "source": [
    "# model definition\n",
    "lr_model = lm.LogisticRegression(random_state=42)\n",
    "\n",
    "# model training\n",
    "lr_model.fit(x_train, y_train)\n",
    "\n",
    "# model prediction - Poder de GENERALIZACAO\n",
    "yhat_lr = lr_model.predict_proba(x_val)"
   ]
  },
  {
   "cell_type": "code",
   "execution_count": 219,
   "id": "71c8d5a9",
   "metadata": {
    "ExecuteTime": {
     "end_time": "2022-06-11T18:44:27.066628Z",
     "start_time": "2022-06-11T18:44:24.704528Z"
    }
   },
   "outputs": [
    {
     "data": {
      "image/png": "[encoded data removed]",
      "text/plain": [
       "<Figure size 1080x360 with 1 Axes>"
      ]
     },
     "metadata": {
      "needs_background": "light"
     },
     "output_type": "display_data"
    },
    {
     "data": {
      "image/png": "[encoded data removed]",
      "text/plain": [
       "<Figure size 1080x360 with 1 Axes>"
      ]
     },
     "metadata": {
      "needs_background": "light"
     },
     "output_type": "display_data"
    }
   ],
   "source": [
    "# Accumulative Gain\n",
    "skplt.metrics.plot_cumulative_gain(y_val, yhat_lr, figsize=(15, 5), title='Cumulative Gains Curve - Logistic Regression');\n",
    "skplt.metrics.plot_lift_curve(y_val, yhat_lr, figsize=(15, 5), title='Lift Curve - Logistic Regression');"
   ]
  },
  {
   "cell_type": "markdown",
   "id": "6cdf1cb9",
   "metadata": {},
   "source": [
    "Então, em torno de 50% dos clientes abordados será selecionado 100% das pessoas que se interessam pelo produto. Assim, diminui-se o custo, uma vez que quanto maior a porcentagem da amostra, maior o custo. "
   ]
  },
  {
   "cell_type": "markdown",
   "id": "2a902c6a",
   "metadata": {},
   "source": [
    "## 7.3 Extra Tree"
   ]
  },
  {
   "cell_type": "code",
   "execution_count": 220,
   "id": "6301f1da",
   "metadata": {
    "ExecuteTime": {
     "end_time": "2022-06-11T18:52:20.949322Z",
     "start_time": "2022-06-11T18:44:27.072029Z"
    }
   },
   "outputs": [],
   "source": [
    "# model definition\n",
    "et_model = en.ExtraTreesClassifier(n_estimators = 1000, n_jobs=-1, random_state=42)\n",
    "\n",
    "# model fit\n",
    "et_model.fit(x_train,y_train)\n",
    "\n",
    "# model predict\n",
    "yhat_et = et_model.predict_proba(x_val)"
   ]
  },
  {
   "cell_type": "code",
   "execution_count": 221,
   "id": "f214cdc7",
   "metadata": {
    "ExecuteTime": {
     "end_time": "2022-06-11T18:52:25.402857Z",
     "start_time": "2022-06-11T18:52:21.132368Z"
    }
   },
   "outputs": [
    {
     "data": {
      "image/png": "[encoded data removed]",
      "text/plain": [
       "<Figure size 1080x360 with 1 Axes>"
      ]
     },
     "metadata": {
      "needs_background": "light"
     },
     "output_type": "display_data"
    },
    {
     "data": {
      "image/png": "[encoded data removed]",
      "text/plain": [
       "<Figure size 1080x360 with 1 Axes>"
      ]
     },
     "metadata": {
      "needs_background": "light"
     },
     "output_type": "display_data"
    }
   ],
   "source": [
    "# Accumulative Gain\n",
    "skplt.metrics.plot_cumulative_gain(y_val, yhat_et, figsize=(15, 5), title='Cumulative Gains Curve - Logistic Regression');\n",
    "skplt.metrics.plot_lift_curve(y_val, yhat_et, figsize=(15, 5), title='Lift Curve - Logistic Regression');"
   ]
  },
  {
   "cell_type": "markdown",
   "id": "3a417cf9",
   "metadata": {},
   "source": [
    "## 7.4 XGBoost"
   ]
  },
  {
   "cell_type": "code",
   "execution_count": 222,
   "id": "77016a68",
   "metadata": {
    "ExecuteTime": {
     "end_time": "2022-06-11T18:52:33.039111Z",
     "start_time": "2022-06-11T18:52:25.415845Z"
    }
   },
   "outputs": [],
   "source": [
    "# model definition\n",
    "xgb_model = xgb.XGBClassifier(n_estimators=11, max_depth=7)\n",
    "\n",
    "# XGB training\n",
    "xgb_model.fit(x_train,y_train)\n",
    "\n",
    "# XGB prediction - Generalization\n",
    "yhat_xgb = xgb_model.predict_proba(x_val)"
   ]
  },
  {
   "cell_type": "code",
   "execution_count": 223,
   "id": "23e557fb",
   "metadata": {
    "ExecuteTime": {
     "end_time": "2022-06-11T18:52:34.583026Z",
     "start_time": "2022-06-11T18:52:33.054116Z"
    }
   },
   "outputs": [
    {
     "data": {
      "image/png": "[encoded data removed]",
      "text/plain": [
       "<Figure size 1080x360 with 1 Axes>"
      ]
     },
     "metadata": {
      "needs_background": "light"
     },
     "output_type": "display_data"
    },
    {
     "data": {
      "image/png": "[encoded data removed]",
      "text/plain": [
       "<Figure size 1080x360 with 1 Axes>"
      ]
     },
     "metadata": {
      "needs_background": "light"
     },
     "output_type": "display_data"
    }
   ],
   "source": [
    "# Accumulative gain - XGB\n",
    "skplt.metrics.plot_cumulative_gain(y_val, yhat_xgb, figsize=(15, 5), title='Cumulative Gains Curve - XGBoost')\n",
    "skplt.metrics.plot_lift_curve(y_val, yhat_xgb, figsize=(15, 5), title='Lift Curve - XGBoost');"
   ]
  },
  {
   "cell_type": "markdown",
   "id": "d9699a0d",
   "metadata": {
    "heading_collapsed": true
   },
   "source": [
    "## 7.5 AdaBoost"
   ]
  },
  {
   "cell_type": "code",
   "execution_count": 224,
   "id": "9ac7761b",
   "metadata": {
    "ExecuteTime": {
     "end_time": "2022-06-11T18:53:04.014035Z",
     "start_time": "2022-06-11T18:52:34.588911Z"
    },
    "hidden": true
   },
   "outputs": [],
   "source": [
    "# model definition\n",
    "ada_model = en.AdaBoostClassifier(random_state=42)\n",
    "\n",
    "# Ada training\n",
    "ada_model.fit(x_train,y_train)\n",
    "\n",
    "# Ada prediction - Generalization\n",
    "yhat_ada = ada_model.predict_proba(x_val)"
   ]
  },
  {
   "cell_type": "code",
   "execution_count": 225,
   "id": "a68284bf",
   "metadata": {
    "ExecuteTime": {
     "end_time": "2022-06-11T18:53:05.063836Z",
     "start_time": "2022-06-11T18:53:04.025044Z"
    },
    "hidden": true
   },
   "outputs": [
    {
     "data": {
      "image/png": "[encoded data removed]",
      "text/plain": [
       "<Figure size 1080x360 with 1 Axes>"
      ]
     },
     "metadata": {
      "needs_background": "light"
     },
     "output_type": "display_data"
    },
    {
     "data": {
      "image/png": "[encoded data removed]",
      "text/plain": [
       "<Figure size 1080x360 with 1 Axes>"
      ]
     },
     "metadata": {
      "needs_background": "light"
     },
     "output_type": "display_data"
    }
   ],
   "source": [
    "# Accumulative gain - XGB\n",
    "skplt.metrics.plot_cumulative_gain(y_val, yhat_ada, figsize=(15, 5), title='Cumulative Gains Curve - AdaBoost')\n",
    "skplt.metrics.plot_lift_curve(y_val, yhat_ada, figsize=(15, 5), title='Lift Curve - AdaBoost');"
   ]
  },
  {
   "cell_type": "markdown",
   "id": "a0c196a8",
   "metadata": {},
   "source": [
    "## 7.6 CrossValidation "
   ]
  },
  {
   "cell_type": "code",
   "execution_count": 226,
   "id": "cba6a96a",
   "metadata": {
    "ExecuteTime": {
     "end_time": "2022-06-11T18:53:14.341995Z",
     "start_time": "2022-06-11T18:53:05.071841Z"
    }
   },
   "outputs": [],
   "source": [
    "knn_model = nh.KNeighborsClassifier(n_neighbors=8)\n",
    "lr_model  = lm.LogisticRegression(random_state=42)\n",
    "et_model = en.ExtraTreesClassifier(n_estimators = 1000, n_jobs=-1, random_state=42)\n",
    "xgb_model = xgb.XGBClassifier(n_estimators=11, max_depth=7)\n",
    "ada_model  = en.AdaBoostClassifier(random_state=42)\n",
    "\n",
    "models_dict = {'KNN': knn_model,\n",
    "              'Logistic_Regression': lr_model,\n",
    "              'Extra Trees': et_model,\n",
    "              'XG Boost': xgb_model,\n",
    "              'AdaBoost':ada_model}"
   ]
  },
  {
   "cell_type": "code",
   "execution_count": 227,
   "id": "9c43db30",
   "metadata": {
    "ExecuteTime": {
     "end_time": "2022-06-11T19:29:48.511877Z",
     "start_time": "2022-06-11T18:53:14.351889Z"
    }
   },
   "outputs": [
    {
     "name": "stdout",
     "output_type": "stream",
     "text": [
      "Cross validation for model: KNN\n",
      "Cross validation for model: Logistic_Regression\n",
      "Cross validation for model: Extra Trees\n",
      "Cross validation for model: XG Boost\n",
      "Cross validation for model: AdaBoost\n"
     ]
    },
    {
     "data": {
      "text/html": [
       "<div>\n",
       "<style scoped>\n",
       "    .dataframe tbody tr th:only-of-type {\n",
       "        vertical-align: middle;\n",
       "    }\n",
       "\n",
       "    .dataframe tbody tr th {\n",
       "        vertical-align: top;\n",
       "    }\n",
       "\n",
       "    .dataframe thead th {\n",
       "        text-align: right;\n",
       "    }\n",
       "</style>\n",
       "<table border=\"1\" class=\"dataframe\">\n",
       "  <thead>\n",
       "    <tr style=\"text-align: right;\">\n",
       "      <th></th>\n",
       "      <th>Mean Precision @k</th>\n",
       "      <th>STD Precision @k</th>\n",
       "      <th>Mean Recall @k</th>\n",
       "      <th>STD Recall @k</th>\n",
       "    </tr>\n",
       "  </thead>\n",
       "  <tbody>\n",
       "    <tr>\n",
       "      <th>KNN</th>\n",
       "      <td>0.264878</td>\n",
       "      <td>0.001463</td>\n",
       "      <td>0.847947</td>\n",
       "      <td>0.004657</td>\n",
       "    </tr>\n",
       "    <tr>\n",
       "      <th>Logistic_Regression</th>\n",
       "      <td>0.269403</td>\n",
       "      <td>0.001499</td>\n",
       "      <td>0.862432</td>\n",
       "      <td>0.004775</td>\n",
       "    </tr>\n",
       "    <tr>\n",
       "      <th>Extra Trees</th>\n",
       "      <td>0.273020</td>\n",
       "      <td>0.001209</td>\n",
       "      <td>0.874009</td>\n",
       "      <td>0.003823</td>\n",
       "    </tr>\n",
       "    <tr>\n",
       "      <th>XG Boost</th>\n",
       "      <td>0.285577</td>\n",
       "      <td>0.001399</td>\n",
       "      <td>0.914210</td>\n",
       "      <td>0.004443</td>\n",
       "    </tr>\n",
       "    <tr>\n",
       "      <th>AdaBoost</th>\n",
       "      <td>0.285036</td>\n",
       "      <td>0.001132</td>\n",
       "      <td>0.912476</td>\n",
       "      <td>0.003583</td>\n",
       "    </tr>\n",
       "  </tbody>\n",
       "</table>\n",
       "</div>"
      ],
      "text/plain": [
       "                     Mean Precision @k  STD Precision @k  Mean Recall @k  \\\n",
       "KNN                           0.264878          0.001463        0.847947   \n",
       "Logistic_Regression           0.269403          0.001499        0.862432   \n",
       "Extra Trees                   0.273020          0.001209        0.874009   \n",
       "XG Boost                      0.285577          0.001399        0.914210   \n",
       "AdaBoost                      0.285036          0.001132        0.912476   \n",
       "\n",
       "                     STD Recall @k  \n",
       "KNN                       0.004657  \n",
       "Logistic_Regression       0.004775  \n",
       "Extra Trees               0.003823  \n",
       "XG Boost                  0.004443  \n",
       "AdaBoost                  0.003583  "
      ]
     },
     "execution_count": 227,
     "metadata": {},
     "output_type": "execute_result"
    }
   ],
   "source": [
    "cv_dict = {'Mean Precision @k':[], 'STD Precision @k':[], 'Mean Recall @k': [], 'STD Recall @k':[]}\n",
    "indexes = []\n",
    "\n",
    "kfolds = 6\n",
    "at_ks=20000\n",
    "\n",
    "for name, model in models_dict.items():\n",
    "    \n",
    "    print(f'Cross validation for model: {name}')\n",
    "    model_metric = list(cross_validation(kfold=kfolds,\n",
    "                        at_k=at_ks,\n",
    "                        model=model,\n",
    "                        data=df6,\n",
    "                        target='response',\n",
    "                        cols_selected=cols_selected))\n",
    "    \n",
    "    indexes.append(name)\n",
    "    cv_dict['Mean Precision @k'].append(model_metric[0])\n",
    "    cv_dict['STD Precision @k'].append(model_metric[1])\n",
    "    cv_dict['Mean Recall @k'].append(model_metric[2])\n",
    "    cv_dict['STD Recall @k'].append(model_metric[3])\n",
    "\n",
    "result = pd.DataFrame(cv_dict,index=indexes)\n",
    "result"
   ]
  },
  {
   "cell_type": "markdown",
   "id": "f04813a7",
   "metadata": {},
   "source": [
    "O algoritmo escolhido foi o XG Boost (Reall: 91,62%)"
   ]
  },
  {
   "cell_type": "markdown",
   "id": "bd75d627",
   "metadata": {},
   "source": [
    "# 8.0 Hyperparameter Fine Tunning\n",
    "---"
   ]
  },
  {
   "cell_type": "code",
   "execution_count": 228,
   "id": "b83aa68a",
   "metadata": {
    "ExecuteTime": {
     "end_time": "2022-06-11T19:29:48.669428Z",
     "start_time": "2022-06-11T19:29:48.583103Z"
    }
   },
   "outputs": [],
   "source": [
    "df8 = df6.copy()"
   ]
  },
  {
   "cell_type": "code",
   "execution_count": 229,
   "id": "556f9d8d",
   "metadata": {
    "ExecuteTime": {
     "end_time": "2022-06-11T19:29:48.733314Z",
     "start_time": "2022-06-11T19:29:48.677301Z"
    }
   },
   "outputs": [],
   "source": [
    "param = {\n",
    "    'n_estimators': [150,170,250,300,350],\n",
    "    'eta': [0.01,0.03],\n",
    "    'max_depth': [3, 5, 9],\n",
    "    'subsample': [0.1, 0.5, 0.7],\n",
    "    'colsample_bytree': [0.3, 0.7, 0.9],\n",
    "    'min_child_weight': [3, 8, 15]\n",
    "        }\n",
    "MAX_EVAL = 10"
   ]
  },
  {
   "cell_type": "code",
   "execution_count": 230,
   "id": "a7795130",
   "metadata": {
    "ExecuteTime": {
     "end_time": "2022-06-11T19:29:48.796469Z",
     "start_time": "2022-06-11T19:29:48.743321Z"
    }
   },
   "outputs": [],
   "source": [
    "model_xgb_hyperparameter = xgb.XGBClassifier(base_estimator=tr.DecisionTreeClassifier(),random_state=42)\n",
    "hft = ms.RandomizedSearchCV(model_xgb_hyperparameter,param,verbose=3,n_iter=10,scoring='recall',random_state=42)"
   ]
  },
  {
   "cell_type": "code",
   "execution_count": 231,
   "id": "6b328465",
   "metadata": {
    "ExecuteTime": {
     "end_time": "2022-06-11T19:29:48.843339Z",
     "start_time": "2022-06-11T19:29:48.807331Z"
    }
   },
   "outputs": [],
   "source": [
    "#hft.fit(x_train,y_train)"
   ]
  },
  {
   "cell_type": "code",
   "execution_count": 232,
   "id": "567a644d",
   "metadata": {
    "ExecuteTime": {
     "end_time": "2022-06-11T19:29:48.875349Z",
     "start_time": "2022-06-11T19:29:48.856345Z"
    }
   },
   "outputs": [],
   "source": [
    "#hft.best_params_"
   ]
  },
  {
   "cell_type": "code",
   "execution_count": 233,
   "id": "4720097f",
   "metadata": {
    "ExecuteTime": {
     "end_time": "2022-06-11T19:29:48.923364Z",
     "start_time": "2022-06-11T19:29:48.891353Z"
    }
   },
   "outputs": [],
   "source": [
    "param_tuned = {'subsample': 0.5,\n",
    " 'n_estimators': 350,\n",
    " 'min_child_weight': 15,\n",
    " 'max_depth': 9,\n",
    " 'eta': 0.03,\n",
    " 'colsample_bytree': 0.7}"
   ]
  },
  {
   "cell_type": "markdown",
   "id": "349b6059",
   "metadata": {},
   "source": [
    "## 8.1 Final Model"
   ]
  },
  {
   "cell_type": "code",
   "execution_count": 234,
   "id": "c2cd33fd",
   "metadata": {
    "ExecuteTime": {
     "end_time": "2022-06-11T19:31:57.341328Z",
     "start_time": "2022-06-11T19:29:48.933365Z"
    }
   },
   "outputs": [],
   "source": [
    "xgb_model_tunned = xgb.XGBClassifier(subsample=0.5, \n",
    "                                     n_estimators=350, \n",
    "                                     min_child_weight=15,\n",
    "                                     max_depth=9, \n",
    "                                     eta=0.03, \n",
    "                                     colsample_bytree=0.7)\n",
    "\n",
    "# XGB training\n",
    "xgb_model_tunned.fit(x_train,y_train)\n",
    "\n",
    "# XGB prediction - Generalization\n",
    "yhat_xgb_model_tunned = xgb_model_tunned.predict_proba(x_val)"
   ]
  },
  {
   "cell_type": "markdown",
   "id": "6ce6b76e",
   "metadata": {
    "heading_collapsed": true
   },
   "source": [
    "# 9.0 Model Performance\n",
    "---"
   ]
  },
  {
   "cell_type": "code",
   "execution_count": 235,
   "id": "277ea855",
   "metadata": {
    "ExecuteTime": {
     "end_time": "2022-06-11T19:31:57.848459Z",
     "start_time": "2022-06-11T19:31:57.351332Z"
    },
    "hidden": true
   },
   "outputs": [
    {
     "name": "stdout",
     "output_type": "stream",
     "text": [
      "Pecision at K: 0.2549019607843137\n",
      "Recall at K: 0.0014095196790632116\n"
     ]
    }
   ],
   "source": [
    "df8 = x_validation.copy()\n",
    "df8['response'] = y_validation.copy()\n",
    "\n",
    "# propensity score\n",
    "df8['score'] = yhat_xgb_model_tunned[:,1].tolist()\n",
    "\n",
    "# sort clients by propensity score\n",
    "df8 = df8.sort_values('score', ascending=False)\n",
    "\n",
    "# reset index\n",
    "df8 = df8.reset_index()\n",
    "\n",
    "# creating ranking order\n",
    "df8['ranking'] = df8.index+1\n",
    "\n",
    "df8['precision_at_k'] = df8['response'].cumsum() / df8['ranking']\n",
    "\n",
    "# compute precision at k\n",
    "precision_at_50 = precision_at_k(df8,k=50)\n",
    "print(f'Pecision at K: {precision_at_50}')\n",
    "\n",
    "recall_at_50 = recall_at_k(df8,k=50)\n",
    "print(f'Recall at K: {recall_at_50}')"
   ]
  },
  {
   "cell_type": "markdown",
   "id": "821b5877",
   "metadata": {
    "heading_collapsed": true
   },
   "source": [
    "# 10.0 Final list with ranking\n",
    "---"
   ]
  },
  {
   "cell_type": "code",
   "execution_count": 236,
   "id": "53a7e1d2",
   "metadata": {
    "ExecuteTime": {
     "end_time": "2022-06-11T19:32:01.888594Z",
     "start_time": "2022-06-11T19:31:57.855461Z"
    },
    "hidden": true
   },
   "outputs": [],
   "source": [
    "df_raw = df_raw.iloc[df8['index']]\n",
    "# reset index\n",
    "df_raw = df_raw.reset_index(drop=True)\n",
    "\n",
    "# creating ranking order\n",
    "df_raw['ranking'] = df_raw.index+1"
   ]
  },
  {
   "cell_type": "code",
   "execution_count": 237,
   "id": "d269ae0e",
   "metadata": {
    "ExecuteTime": {
     "end_time": "2022-06-11T19:32:01.983619Z",
     "start_time": "2022-06-11T19:32:01.895599Z"
    },
    "hidden": true
   },
   "outputs": [
    {
     "data": {
      "text/html": [
       "<div>\n",
       "<style scoped>\n",
       "    .dataframe tbody tr th:only-of-type {\n",
       "        vertical-align: middle;\n",
       "    }\n",
       "\n",
       "    .dataframe tbody tr th {\n",
       "        vertical-align: top;\n",
       "    }\n",
       "\n",
       "    .dataframe thead th {\n",
       "        text-align: right;\n",
       "    }\n",
       "</style>\n",
       "<table border=\"1\" class=\"dataframe\">\n",
       "  <thead>\n",
       "    <tr style=\"text-align: right;\">\n",
       "      <th></th>\n",
       "      <th>gender</th>\n",
       "      <th>age</th>\n",
       "      <th>region_code</th>\n",
       "      <th>policy_sales_channel</th>\n",
       "      <th>driving_license</th>\n",
       "      <th>vehicle_age</th>\n",
       "      <th>vehicle_damage</th>\n",
       "      <th>previously_insured</th>\n",
       "      <th>annual_premium</th>\n",
       "      <th>vintage</th>\n",
       "      <th>response</th>\n",
       "      <th>id</th>\n",
       "      <th>ranking</th>\n",
       "    </tr>\n",
       "  </thead>\n",
       "  <tbody>\n",
       "    <tr>\n",
       "      <th>0</th>\n",
       "      <td>Male</td>\n",
       "      <td>67</td>\n",
       "      <td>35.0</td>\n",
       "      <td>26.0</td>\n",
       "      <td>1</td>\n",
       "      <td>1-2 Year</td>\n",
       "      <td>Yes</td>\n",
       "      <td>0</td>\n",
       "      <td>18691.0</td>\n",
       "      <td>221</td>\n",
       "      <td>0</td>\n",
       "      <td>276601</td>\n",
       "      <td>1</td>\n",
       "    </tr>\n",
       "    <tr>\n",
       "      <th>1</th>\n",
       "      <td>Male</td>\n",
       "      <td>51</td>\n",
       "      <td>29.0</td>\n",
       "      <td>124.0</td>\n",
       "      <td>1</td>\n",
       "      <td>1-2 Year</td>\n",
       "      <td>Yes</td>\n",
       "      <td>0</td>\n",
       "      <td>22281.0</td>\n",
       "      <td>17</td>\n",
       "      <td>0</td>\n",
       "      <td>27183</td>\n",
       "      <td>2</td>\n",
       "    </tr>\n",
       "    <tr>\n",
       "      <th>2</th>\n",
       "      <td>Male</td>\n",
       "      <td>48</td>\n",
       "      <td>29.0</td>\n",
       "      <td>124.0</td>\n",
       "      <td>1</td>\n",
       "      <td>1-2 Year</td>\n",
       "      <td>Yes</td>\n",
       "      <td>0</td>\n",
       "      <td>29255.0</td>\n",
       "      <td>36</td>\n",
       "      <td>1</td>\n",
       "      <td>232210</td>\n",
       "      <td>3</td>\n",
       "    </tr>\n",
       "    <tr>\n",
       "      <th>3</th>\n",
       "      <td>Male</td>\n",
       "      <td>72</td>\n",
       "      <td>3.0</td>\n",
       "      <td>124.0</td>\n",
       "      <td>1</td>\n",
       "      <td>1-2 Year</td>\n",
       "      <td>Yes</td>\n",
       "      <td>0</td>\n",
       "      <td>18610.0</td>\n",
       "      <td>32</td>\n",
       "      <td>0</td>\n",
       "      <td>267463</td>\n",
       "      <td>4</td>\n",
       "    </tr>\n",
       "    <tr>\n",
       "      <th>4</th>\n",
       "      <td>Female</td>\n",
       "      <td>57</td>\n",
       "      <td>3.0</td>\n",
       "      <td>163.0</td>\n",
       "      <td>1</td>\n",
       "      <td>1-2 Year</td>\n",
       "      <td>Yes</td>\n",
       "      <td>0</td>\n",
       "      <td>18638.0</td>\n",
       "      <td>226</td>\n",
       "      <td>1</td>\n",
       "      <td>215543</td>\n",
       "      <td>5</td>\n",
       "    </tr>\n",
       "    <tr>\n",
       "      <th>5</th>\n",
       "      <td>Male</td>\n",
       "      <td>70</td>\n",
       "      <td>29.0</td>\n",
       "      <td>26.0</td>\n",
       "      <td>1</td>\n",
       "      <td>1-2 Year</td>\n",
       "      <td>Yes</td>\n",
       "      <td>0</td>\n",
       "      <td>29290.0</td>\n",
       "      <td>63</td>\n",
       "      <td>0</td>\n",
       "      <td>288942</td>\n",
       "      <td>6</td>\n",
       "    </tr>\n",
       "    <tr>\n",
       "      <th>6</th>\n",
       "      <td>Male</td>\n",
       "      <td>59</td>\n",
       "      <td>6.0</td>\n",
       "      <td>124.0</td>\n",
       "      <td>1</td>\n",
       "      <td>1-2 Year</td>\n",
       "      <td>Yes</td>\n",
       "      <td>0</td>\n",
       "      <td>29158.0</td>\n",
       "      <td>11</td>\n",
       "      <td>1</td>\n",
       "      <td>122463</td>\n",
       "      <td>7</td>\n",
       "    </tr>\n",
       "    <tr>\n",
       "      <th>7</th>\n",
       "      <td>Male</td>\n",
       "      <td>48</td>\n",
       "      <td>35.0</td>\n",
       "      <td>124.0</td>\n",
       "      <td>1</td>\n",
       "      <td>1-2 Year</td>\n",
       "      <td>Yes</td>\n",
       "      <td>0</td>\n",
       "      <td>21870.0</td>\n",
       "      <td>203</td>\n",
       "      <td>1</td>\n",
       "      <td>262207</td>\n",
       "      <td>8</td>\n",
       "    </tr>\n",
       "    <tr>\n",
       "      <th>8</th>\n",
       "      <td>Male</td>\n",
       "      <td>49</td>\n",
       "      <td>29.0</td>\n",
       "      <td>26.0</td>\n",
       "      <td>1</td>\n",
       "      <td>1-2 Year</td>\n",
       "      <td>Yes</td>\n",
       "      <td>0</td>\n",
       "      <td>25065.0</td>\n",
       "      <td>69</td>\n",
       "      <td>0</td>\n",
       "      <td>324912</td>\n",
       "      <td>9</td>\n",
       "    </tr>\n",
       "    <tr>\n",
       "      <th>9</th>\n",
       "      <td>Male</td>\n",
       "      <td>59</td>\n",
       "      <td>29.0</td>\n",
       "      <td>26.0</td>\n",
       "      <td>1</td>\n",
       "      <td>1-2 Year</td>\n",
       "      <td>Yes</td>\n",
       "      <td>0</td>\n",
       "      <td>27446.0</td>\n",
       "      <td>13</td>\n",
       "      <td>0</td>\n",
       "      <td>331471</td>\n",
       "      <td>10</td>\n",
       "    </tr>\n",
       "  </tbody>\n",
       "</table>\n",
       "</div>"
      ],
      "text/plain": [
       "   gender  age  region_code  policy_sales_channel  driving_license  \\\n",
       "0    Male   67         35.0                  26.0                1   \n",
       "1    Male   51         29.0                 124.0                1   \n",
       "2    Male   48         29.0                 124.0                1   \n",
       "3    Male   72          3.0                 124.0                1   \n",
       "4  Female   57          3.0                 163.0                1   \n",
       "5    Male   70         29.0                  26.0                1   \n",
       "6    Male   59          6.0                 124.0                1   \n",
       "7    Male   48         35.0                 124.0                1   \n",
       "8    Male   49         29.0                  26.0                1   \n",
       "9    Male   59         29.0                  26.0                1   \n",
       "\n",
       "  vehicle_age vehicle_damage  previously_insured  annual_premium  vintage  \\\n",
       "0    1-2 Year            Yes                   0         18691.0      221   \n",
       "1    1-2 Year            Yes                   0         22281.0       17   \n",
       "2    1-2 Year            Yes                   0         29255.0       36   \n",
       "3    1-2 Year            Yes                   0         18610.0       32   \n",
       "4    1-2 Year            Yes                   0         18638.0      226   \n",
       "5    1-2 Year            Yes                   0         29290.0       63   \n",
       "6    1-2 Year            Yes                   0         29158.0       11   \n",
       "7    1-2 Year            Yes                   0         21870.0      203   \n",
       "8    1-2 Year            Yes                   0         25065.0       69   \n",
       "9    1-2 Year            Yes                   0         27446.0       13   \n",
       "\n",
       "   response      id  ranking  \n",
       "0         0  276601        1  \n",
       "1         0   27183        2  \n",
       "2         1  232210        3  \n",
       "3         0  267463        4  \n",
       "4         1  215543        5  \n",
       "5         0  288942        6  \n",
       "6         1  122463        7  \n",
       "7         1  262207        8  \n",
       "8         0  324912        9  \n",
       "9         0  331471       10  "
      ]
     },
     "execution_count": 237,
     "metadata": {},
     "output_type": "execute_result"
    }
   ],
   "source": [
    "df_raw.head(10)"
   ]
  }
 ],
 "metadata": {
  "kernelspec": {
   "display_name": "Python 3 (ipykernel)",
   "language": "python",
   "name": "python3"
  },
  "language_info": {
   "codemirror_mode": {
    "name": "ipython",
    "version": 3
   },
   "file_extension": ".py",
   "mimetype": "text/x-python",
   "name": "python",
   "nbconvert_exporter": "python",
   "pygments_lexer": "ipython3",
   "version": "3.9.12"
  }
 },
 "nbformat": 4,
 "nbformat_minor": 5
}
